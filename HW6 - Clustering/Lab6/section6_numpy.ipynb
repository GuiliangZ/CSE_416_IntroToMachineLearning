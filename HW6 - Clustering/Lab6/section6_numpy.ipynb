{
  "metadata": {
    "kernelspec": {
      "name": "python3",
      "display_name": "Python 3",
      "language": "python"
    },
    "colab": {
      "provenance": []
    }
  },
  "nbformat": 4,
  "nbformat_minor": 0,
  "cells": [
    {
      "cell_type": "markdown",
      "metadata": {
        "id": "ZcBahdm8b-a9"
      },
      "source": [
        "# 1. Setting Up\n"
      ]
    },
    {
      "cell_type": "markdown",
      "metadata": {
        "id": "-DhsWWZTb-bA"
      },
      "source": [
        "## Imports"
      ]
    },
    {
      "cell_type": "markdown",
      "metadata": {
        "id": "LmpzkI0Mb-bA"
      },
      "source": [
        "We have used numpy before, importing it as np. This week we'll really dive into it."
      ]
    },
    {
      "cell_type": "code",
      "execution_count": 1,
      "metadata": {
        "id": "UMGhwSaMb-bB"
      },
      "outputs": [],
      "source": [
        "import matplotlib.pyplot as plt\n",
        "import numpy as np\n",
        "import pandas as pd\n",
        "\n",
        "from scipy.sparse import csr_matrix\n",
        "\n",
        "%matplotlib inline"
      ]
    },
    {
      "cell_type": "markdown",
      "metadata": {
        "id": "ZuCw71gzb-bC"
      },
      "source": [
        "# 2. Overview"
      ]
    },
    {
      "cell_type": "markdown",
      "metadata": {
        "id": "BpJiRzLmb-bD"
      },
      "source": [
        "`numpy` is a popular python numerical processing library.\n",
        "\n",
        "`numpy`'s primary data structure is the `numpy.array`. An array will store a sequence of values *of the same type*.\n",
        "\n",
        "A good analog to a `numpy.array` is the `pandas.Series`. However, the index of an array is always integer values like a `list`.\n",
        "\n",
        "Here is an example of the syntax to create a `numpy.array`."
      ]
    },
    {
      "cell_type": "code",
      "execution_count": 2,
      "metadata": {
        "colab": {
          "base_uri": "https://localhost:8080/"
        },
        "id": "cCN1Je2ib-bD",
        "outputId": "8a1fb1a8-9422-43cd-9bf8-a1146d18e61f"
      },
      "outputs": [
        {
          "output_type": "stream",
          "name": "stdout",
          "text": [
            "[1 2 3 4]\n",
            "[3.14 2.   3.  ]\n"
          ]
        }
      ],
      "source": [
        "x = np.array([1, 2, 3, 4])\n",
        "print(x)\n",
        "\n",
        "# If there are mixed types, the array coerces values to the same type (int -> float)\n",
        "y = np.array([3.14, 2, 3])\n",
        "print(y)"
      ]
    },
    {
      "cell_type": "code",
      "execution_count": 3,
      "metadata": {
        "colab": {
          "base_uri": "https://localhost:8080/"
        },
        "id": "mJFaUsS8b-bE",
        "outputId": "9629062e-ac70-4a66-e100-f4b46c8a4f71"
      },
      "outputs": [
        {
          "output_type": "stream",
          "name": "stdout",
          "text": [
            "<class 'numpy.ndarray'>\n",
            "<class 'numpy.ndarray'>\n"
          ]
        }
      ],
      "source": [
        "# The type of the object returned after calling np.array() is a numpy class called an ndarray (n-dimensional array)\n",
        "print(type(x))\n",
        "print(type(y))"
      ]
    },
    {
      "cell_type": "markdown",
      "metadata": {
        "id": "CUOlzY4Fb-bE"
      },
      "source": [
        "# 3. Specialized Arrays"
      ]
    },
    {
      "cell_type": "markdown",
      "metadata": {
        "id": "H8L7j5YRb-bF"
      },
      "source": [
        "There are some quick ways to create commonly used arrays."
      ]
    },
    {
      "cell_type": "code",
      "execution_count": 4,
      "metadata": {
        "colab": {
          "base_uri": "https://localhost:8080/"
        },
        "id": "syRXr6g0b-bG",
        "outputId": "a19adb5e-3742-49f8-e509-0e3def5a54e6"
      },
      "outputs": [
        {
          "output_type": "stream",
          "name": "stdout",
          "text": [
            "[1 2 3]\n",
            "[1 2 3 4]\n",
            "[1. 1. 1. 1. 1.]\n"
          ]
        }
      ],
      "source": [
        "# array initializer takes a list of values\n",
        "x = np.array([1,2,3])\n",
        "\n",
        "# arange works like range to make an array of number from start (inclusive) to stop (exclusive)\n",
        "y = np.arange(1,5)\n",
        "\n",
        "# Make an array of all 1s of some length\n",
        "z = np.ones(5)\n",
        "\n",
        "print(x)\n",
        "print(y)\n",
        "print(z)"
      ]
    },
    {
      "cell_type": "markdown",
      "metadata": {
        "id": "m7FV39Rgb-bH"
      },
      "source": [
        "# 4. Increasing Dimensionality"
      ]
    },
    {
      "cell_type": "markdown",
      "metadata": {
        "id": "8AEmxpRUb-bH"
      },
      "source": [
        "Numpy arrays are great for representing multi-dimensional data efficiently."
      ]
    },
    {
      "cell_type": "code",
      "execution_count": 5,
      "metadata": {
        "colab": {
          "base_uri": "https://localhost:8080/"
        },
        "id": "w9uzYuMhb-bH",
        "outputId": "b65dee8a-992b-4ae1-8391-407b9170b96c"
      },
      "outputs": [
        {
          "output_type": "stream",
          "name": "stdout",
          "text": [
            "[[1. 1. 1. 1.]\n",
            " [1. 1. 1. 1.]\n",
            " [1. 1. 1. 1.]]\n"
          ]
        }
      ],
      "source": [
        "# np.ones actually takes a tuple, specifying the rows and columns of the all ones matrix (2D array)\n",
        "x = np.ones((3,4))\n",
        "print(x)"
      ]
    },
    {
      "cell_type": "markdown",
      "metadata": {
        "id": "BhWdosoHb-bH"
      },
      "source": [
        "The `reshape` function allows us to take an array and change its shape while maintaining its data."
      ]
    },
    {
      "cell_type": "code",
      "execution_count": 6,
      "metadata": {
        "colab": {
          "base_uri": "https://localhost:8080/"
        },
        "id": "42pUOjBZb-bH",
        "outputId": "5acb04b2-f659-462f-b33f-1c26a4ec5bb2"
      },
      "outputs": [
        {
          "output_type": "stream",
          "name": "stdout",
          "text": [
            "Before reshape\n",
            "[ 0  1  2  3  4  5  6  7  8  9 10 11 12 13 14 15 16 17 18 19]\n",
            "\n",
            "After reshape\n",
            "[[ 0  1  2  3]\n",
            " [ 4  5  6  7]\n",
            " [ 8  9 10 11]\n",
            " [12 13 14 15]\n",
            " [16 17 18 19]]\n"
          ]
        }
      ],
      "source": [
        "# Create an array of the values 0 to 20 (exclusive)\n",
        "x = np.arange(20)\n",
        "print('Before reshape')\n",
        "print(x)\n",
        "print()\n",
        "\n",
        "# Reshape the array such that it has dimensions 5x4 (5 rows, 4 columns)\n",
        "y = x.reshape((5,4))\n",
        "print('After reshape')\n",
        "print(y)"
      ]
    },
    {
      "cell_type": "code",
      "execution_count": 7,
      "metadata": {
        "colab": {
          "base_uri": "https://localhost:8080/",
          "height": 232
        },
        "id": "nQooWgNkb-bI",
        "outputId": "080c1ec6-c236-4bb1-99cf-f8d2456c0942"
      },
      "outputs": [
        {
          "output_type": "error",
          "ename": "ValueError",
          "evalue": "ignored",
          "traceback": [
            "\u001b[0;31m---------------------------------------------------------------------------\u001b[0m",
            "\u001b[0;31mValueError\u001b[0m                                Traceback (most recent call last)",
            "\u001b[0;32m<ipython-input-7-6358d3f66ca0>\u001b[0m in \u001b[0;36m<cell line: 4>\u001b[0;34m()\u001b[0m\n\u001b[1;32m      2\u001b[0m \u001b[0;34m\u001b[0m\u001b[0m\n\u001b[1;32m      3\u001b[0m \u001b[0;31m# Fewer entries\u001b[0m\u001b[0;34m\u001b[0m\u001b[0;34m\u001b[0m\u001b[0m\n\u001b[0;32m----> 4\u001b[0;31m \u001b[0mz\u001b[0m \u001b[0;34m=\u001b[0m \u001b[0mx\u001b[0m\u001b[0;34m.\u001b[0m\u001b[0mreshape\u001b[0m\u001b[0;34m(\u001b[0m\u001b[0;34m(\u001b[0m\u001b[0;36m6\u001b[0m\u001b[0;34m,\u001b[0m\u001b[0;36m3\u001b[0m\u001b[0;34m)\u001b[0m\u001b[0;34m)\u001b[0m\u001b[0;34m\u001b[0m\u001b[0;34m\u001b[0m\u001b[0m\n\u001b[0m\u001b[1;32m      5\u001b[0m \u001b[0mprint\u001b[0m\u001b[0;34m(\u001b[0m\u001b[0mz\u001b[0m\u001b[0;34m)\u001b[0m\u001b[0;34m\u001b[0m\u001b[0;34m\u001b[0m\u001b[0m\n",
            "\u001b[0;31mValueError\u001b[0m: cannot reshape array of size 20 into shape (6,3)"
          ]
        }
      ],
      "source": [
        "# What happens if we reshape to a different number of entries?\n",
        "\n",
        "# Fewer entries\n",
        "z = x.reshape((6,3))\n",
        "print(z)"
      ]
    },
    {
      "cell_type": "code",
      "execution_count": 8,
      "metadata": {
        "colab": {
          "base_uri": "https://localhost:8080/",
          "height": 232
        },
        "id": "VMMcJ0vJb-bI",
        "outputId": "6a13de76-76ef-4415-bae1-7e731d72c627"
      },
      "outputs": [
        {
          "output_type": "error",
          "ename": "ValueError",
          "evalue": "ignored",
          "traceback": [
            "\u001b[0;31m---------------------------------------------------------------------------\u001b[0m",
            "\u001b[0;31mValueError\u001b[0m                                Traceback (most recent call last)",
            "\u001b[0;32m<ipython-input-8-05355dc271e0>\u001b[0m in \u001b[0;36m<cell line: 4>\u001b[0;34m()\u001b[0m\n\u001b[1;32m      2\u001b[0m \u001b[0;34m\u001b[0m\u001b[0m\n\u001b[1;32m      3\u001b[0m \u001b[0;31m# More entries\u001b[0m\u001b[0;34m\u001b[0m\u001b[0;34m\u001b[0m\u001b[0m\n\u001b[0;32m----> 4\u001b[0;31m \u001b[0mz\u001b[0m \u001b[0;34m=\u001b[0m \u001b[0mx\u001b[0m\u001b[0;34m.\u001b[0m\u001b[0mreshape\u001b[0m\u001b[0;34m(\u001b[0m\u001b[0;34m(\u001b[0m\u001b[0;36m6\u001b[0m\u001b[0;34m,\u001b[0m\u001b[0;36m4\u001b[0m\u001b[0;34m)\u001b[0m\u001b[0;34m)\u001b[0m\u001b[0;34m\u001b[0m\u001b[0;34m\u001b[0m\u001b[0m\n\u001b[0m\u001b[1;32m      5\u001b[0m \u001b[0mprint\u001b[0m\u001b[0;34m(\u001b[0m\u001b[0mz\u001b[0m\u001b[0;34m)\u001b[0m\u001b[0;34m\u001b[0m\u001b[0;34m\u001b[0m\u001b[0m\n",
            "\u001b[0;31mValueError\u001b[0m: cannot reshape array of size 20 into shape (6,4)"
          ]
        }
      ],
      "source": [
        "# What happens if we reshape to a different number of entries?\n",
        "\n",
        "# More entries\n",
        "z = x.reshape((6,4))\n",
        "print(z)"
      ]
    },
    {
      "cell_type": "markdown",
      "metadata": {
        "id": "qGqG37QLb-bI"
      },
      "source": [
        "# 5. Accessing Data"
      ]
    },
    {
      "cell_type": "markdown",
      "metadata": {
        "id": "z64Rgh1Vb-bI"
      },
      "source": [
        "When we have 2D arrays, we use syntax similar to pandas' `.iloc` to access a specific row or column.\n",
        "\n",
        "We can use python's \"slice\" syntax to access multiple rows and columns."
      ]
    },
    {
      "cell_type": "code",
      "execution_count": 9,
      "metadata": {
        "colab": {
          "base_uri": "https://localhost:8080/"
        },
        "id": "yOgOuAs4b-bI",
        "outputId": "91bdb531-65c6-4682-b6ac-1573db28fa13"
      },
      "outputs": [
        {
          "output_type": "stream",
          "name": "stdout",
          "text": [
            "x\n",
            "[[ 1  2  3  4]\n",
            " [ 5  6  7  8]\n",
            " [ 9 10 11 12]\n",
            " [13 14 15 16]\n",
            " [17 18 19 20]]\n",
            "\n"
          ]
        }
      ],
      "source": [
        "# TODO: create a 5 by 4 array of the integers 1 to 20 (exclusive)\n",
        "x = np.arange(1, 21).reshape(5, 4)\n",
        "print('x')\n",
        "print(x)\n",
        "print()"
      ]
    },
    {
      "cell_type": "code",
      "execution_count": 10,
      "metadata": {
        "colab": {
          "base_uri": "https://localhost:8080/"
        },
        "id": "r7cphr3qb-bJ",
        "outputId": "d7f846da-43a5-4387-9d57-b0628e8ae394"
      },
      "outputs": [
        {
          "output_type": "stream",
          "name": "stdout",
          "text": [
            "First: x[1,2]\n",
            "7\n",
            "\n"
          ]
        }
      ],
      "source": [
        "# What will this cell output?\n",
        "\n",
        "# Access one value\n",
        "print('First: x[1,2]')\n",
        "x1 = x[1,2]\n",
        "print(x1)\n",
        "print()"
      ]
    },
    {
      "cell_type": "code",
      "execution_count": 11,
      "metadata": {
        "colab": {
          "base_uri": "https://localhost:8080/"
        },
        "id": "T1tMaoSBb-bJ",
        "outputId": "3cb6001e-2081-453e-e0ed-59e4c56e6936"
      },
      "outputs": [
        {
          "output_type": "stream",
          "name": "stdout",
          "text": [
            "Second: x[3:5, 1]\n",
            "[14 18]\n",
            "\n",
            "Third: x[3, 1:3]\n",
            "[14 15]\n",
            "\n",
            "Fourth: x[0:6, 2:5]\n",
            "[[ 3  4]\n",
            " [ 7  8]\n",
            " [11 12]\n",
            " [15 16]\n",
            " [19 20]]\n"
          ]
        }
      ],
      "source": [
        "# Use slice notation [a:b, c:d], where pre:post has pre inclusive, post exclusive\n",
        "\n",
        "# Slice first element of tuple\n",
        "print('Second: x[3:5, 1]')\n",
        "x2 = x[3:5, 1]\n",
        "print(x2)\n",
        "print()\n",
        "\n",
        "# Slice second element of tuple\n",
        "print('Third: x[3, 1:3]')\n",
        "x3 = x[3, 1:3]\n",
        "print(x3)\n",
        "print()\n",
        "\n",
        "# Slice both elements of tuple\n",
        "print('Fourth: x[0:6, 2:5]')\n",
        "x4 = x[0:6, 2:5]\n",
        "print(x4)"
      ]
    },
    {
      "cell_type": "code",
      "execution_count": 12,
      "metadata": {
        "colab": {
          "base_uri": "https://localhost:8080/"
        },
        "id": "eNuiqp0Hb-bJ",
        "outputId": "5cd8ce73-2edd-44bd-facb-77e50a230c11"
      },
      "outputs": [
        {
          "output_type": "stream",
          "name": "stdout",
          "text": [
            "Fifth: x[1, :]\n",
            "[5 6 7 8]\n",
            "\n",
            "Sixth: x[1, :]\n",
            "[ 4  8 12 16 20]\n",
            "\n",
            "Reshaped to look like a column\n",
            "[[ 4]\n",
            " [ 8]\n",
            " [12]\n",
            " [16]\n",
            " [20]]\n"
          ]
        }
      ],
      "source": [
        "# Slice notation has a \"and everything else\" syntax\n",
        "print('Fifth: x[1, :]')\n",
        "x5 = x[1, :]\n",
        "print(x5) # Everything in the first row\n",
        "print()\n",
        "\n",
        "print('Sixth: x[1, :]')\n",
        "x6 = x[:, 3]\n",
        "print(x6) # Everything in the third column\n",
        "print()\n",
        "\n",
        "# Reshape x6 to look like a column\n",
        "print('Reshaped to look like a column')\n",
        "print(x6.reshape(5,1))"
      ]
    },
    {
      "cell_type": "markdown",
      "metadata": {
        "id": "_aqXo-owb-bJ"
      },
      "source": [
        "# 6. Shape"
      ]
    },
    {
      "cell_type": "markdown",
      "metadata": {
        "id": "hRRzNnBmb-bJ"
      },
      "source": [
        "As the shape of the numpy.array is so important, accessing it is also useful. The numpy.array has a property called shape which returns a tuple describing the shape of the array."
      ]
    },
    {
      "cell_type": "code",
      "execution_count": 13,
      "metadata": {
        "colab": {
          "base_uri": "https://localhost:8080/"
        },
        "id": "hRFfkmbFb-bJ",
        "outputId": "09767ee7-3bc4-4781-ec9c-4226cbfbdb08"
      },
      "outputs": [
        {
          "output_type": "stream",
          "name": "stdout",
          "text": [
            "x.shape\n",
            "(5, 4)\n",
            "\n",
            "x1.shape\n",
            "()\n",
            "\n",
            "x2.shape\n",
            "(2,)\n",
            "\n",
            "x3.shape\n",
            "(2,)\n",
            "\n",
            "x4.shape\n",
            "(5, 2)\n",
            "\n"
          ]
        }
      ],
      "source": [
        "# What does each of these return? How do you interpret the result?\n",
        "# Type predictions in chat, wait to send them at once\n",
        "\n",
        "print('x.shape')\n",
        "print(x.shape)\n",
        "print()\n",
        "\n",
        "print('x1.shape')\n",
        "print(x1.shape)\n",
        "print()\n",
        "\n",
        "print('x2.shape')\n",
        "print(x2.shape)\n",
        "print()\n",
        "\n",
        "print('x3.shape')\n",
        "print(x3.shape)\n",
        "print()\n",
        "\n",
        "print('x4.shape')\n",
        "print(x4.shape)\n",
        "print()"
      ]
    },
    {
      "cell_type": "code",
      "execution_count": 14,
      "metadata": {
        "colab": {
          "base_uri": "https://localhost:8080/"
        },
        "id": "JhPChTiKb-bK",
        "outputId": "c94c0c4f-c1eb-4f98-ccb4-fe6dc0803062"
      },
      "outputs": [
        {
          "output_type": "stream",
          "name": "stdout",
          "text": [
            "x4\n",
            "[[ 3  4]\n",
            " [ 7  8]\n",
            " [11 12]\n",
            " [15 16]\n",
            " [19 20]]\n",
            "\n",
            "x4.shape\n",
            "(5, 2)\n",
            "\n",
            "x4_r\n",
            "[[ 3  4  7  8 11]\n",
            " [12 15 16 19 20]]\n",
            "\n",
            "x4_r.shape\n",
            "(2, 5)\n",
            "\n"
          ]
        }
      ],
      "source": [
        "# What happens when we reshape the x4 array?\n",
        "\n",
        "print('x4')\n",
        "print(x4)\n",
        "print()\n",
        "\n",
        "print('x4.shape')\n",
        "print(x4.shape)\n",
        "print()\n",
        "\n",
        "\n",
        "# Reshape it\n",
        "x4_r = x4.reshape(2,5)\n",
        "\n",
        "print('x4_r')\n",
        "print(x4_r)\n",
        "print()\n",
        "\n",
        "print('x4_r.shape')\n",
        "print(x4_r.shape)\n",
        "print()"
      ]
    },
    {
      "cell_type": "markdown",
      "metadata": {
        "id": "NgU1DlCjb-bK"
      },
      "source": [
        "Note, this is *not* the same as the transpose operation! When we reshape we maintain the order of the elements, left to right and top to bottom."
      ]
    },
    {
      "cell_type": "markdown",
      "metadata": {
        "id": "VUe5LNHrb-bK"
      },
      "source": [
        "# 7. Functions"
      ]
    },
    {
      "cell_type": "markdown",
      "metadata": {
        "id": "z-XEp6Tcb-bK"
      },
      "source": [
        "Numpy has functions that can be applied to arrays and their subsets! Many of the standard functions we might want to use are supported."
      ]
    },
    {
      "cell_type": "code",
      "execution_count": 24,
      "metadata": {
        "colab": {
          "base_uri": "https://localhost:8080/"
        },
        "id": "8OEKjx0Hb-bK",
        "outputId": "927bae81-f04c-48e6-919b-c2d10ccda3bc"
      },
      "outputs": [
        {
          "output_type": "stream",
          "name": "stdout",
          "text": [
            "x\n",
            "[[ 1  2  3  4]\n",
            " [ 5  6  7  8]\n",
            " [ 9 10 11 12]\n",
            " [13 14 15 16]\n",
            " [17 18 19 20]]\n",
            "\n",
            "Mean x\n",
            "10.5\n",
            "\n",
            "Max third row of x\n",
            "12\n",
            "\n",
            "Min second column of x\n",
            "2\n",
            "\n"
          ]
        }
      ],
      "source": [
        "# Reusing x from above (digits 1 - 20 exclusive, in a 5x4 array)\n",
        "print('x')\n",
        "print(x)\n",
        "print()\n",
        "\n",
        "print('Mean x')\n",
        "print(np.mean(x))\n",
        "print()\n",
        "\n",
        "print('Max third row of x')\n",
        "# TODO: Find the max of the third row of x. Get ready to type it in chat.\n",
        "print(np.max(x[2,:]))\n",
        "print()\n",
        "\n",
        "print('Min second column of x')\n",
        "# TODO: Find the min of the second column of x. Get ready to type it in chat.\n",
        "print(np.min(x[:,1]))\n",
        "print()\n",
        "\n",
        "# Technically, we could have also used our knowledge of the data to answer this question without computation.\n",
        "# We know how the data is distributed across the array; in particular, elements increase left to right and top to bottom.\n",
        "# Leveraging this knowledge would save us computation in situations with vast, many dimensional arrays."
      ]
    },
    {
      "cell_type": "code",
      "execution_count": 25,
      "metadata": {
        "colab": {
          "base_uri": "https://localhost:8080/"
        },
        "id": "ovmU-9f5b-bL",
        "outputId": "377e09e5-85e9-4522-f48d-4cc648b5fbf9"
      },
      "outputs": [
        {
          "output_type": "stream",
          "name": "stdout",
          "text": [
            "[17 18 19 20]\n",
            "[ 4  8 12 16 20]\n"
          ]
        }
      ],
      "source": [
        "# Another syntax for numpy functions across arrays\n",
        "print(np.max(x, axis=0))\n",
        "print(np.max(x, axis=1))\n",
        "\n",
        "# What are we returning here?"
      ]
    },
    {
      "cell_type": "markdown",
      "metadata": {
        "id": "7Fjd9YHvb-bL"
      },
      "source": [
        "Axis 0 is the rows (down the columns), axis 1 is the columns (down the rows)."
      ]
    }
  ]
}
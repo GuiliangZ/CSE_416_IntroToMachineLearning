{
  "cells": [
    {
      "cell_type": "markdown",
      "metadata": {
        "id": "YpTcJFUDVmdq"
      },
      "source": [
        "# Homework 7: Twitter Topic Modeling with Non-negative Matrix Factorization.\n",
        "\n",
        "*Content/Trigger Warning: This assignment uses real-world data from Twitter, but that comes with the risk of our dataset containing tweets about sensitive or triggering topics. The tweets in this dataset do not reflect the views of the CSE/STAT 416 course staff. We have tried our best to remove some of the negative content but can only do so much when there are over 100k tweets in our dataset. This assignment should be doable without having to dig into the tweets present and reading content you don't want to, but we wanted to give you a heads up just in case you do see something you find offensive.*\n",
        "\n",
        "### Coding Portion on EdStem and Concept on Gradescope\n",
        "\n",
        "This week, we will use recommender system techniques in an unexpected way to help us model topics found on Twitter. In this homework, you will practice extracting topics from tweets using matrix factorization. This method assumes every tweet is a combination of several topics weighted by their prevailance in the text. This approach finds a low-dimensional representation of the tweets (through the topic weights).\n",
        "\n",
        "For this assignment, we will be working with tweets about the pandemic. The dataset is obtained from [Kaggle](https://www.kaggle.com/smid80/coronavirus-covid19-tweets-late-april?select=2020-04-30+Coronavirus+Tweets.CSV) and the preprocessing we have done followed the steps [here](https://www.kaggle.com/satanizer/covid-19-tweets-analysis). For computational speed we will analyze a dataset from one day: April 30, 2020. We encourage you to explore this dataset further and see how topics change over time.\n",
        "\n",
        "Fill in the cells provided marked `TODO` with code to answer the questions. **Unless otherwise noted, every answer you submit should have code that clearly shows the answer in the output.** Answers submitted that do not have associated code to find the answer may not be accepted for credit. \n",
        "\n",
        "**Make sure to restart the kernel and run all cells** (especially before turning it in) to make sure your code runs correctly. Upload this notebook to Gradescope.\n",
        "\n",
        "> Copyright ©2021 Valentina Staneva Hunter Schafer.  All rights reserved.  Permission is hereby granted to students registered for University of Washington CSE/STAT 416 for use solely during Spring Quarter 2021 for purposes of the course.  No other use, copying, distribution, or modification is permitted without prior written consent. Copyrights for third-party components of this work must be honored.  Instructors interested in reusing these course materials should contact the author.\n",
        "\n",
        "---\n",
        "\n",
        "# Setup\n",
        "\n",
        "## Data Loading\n",
        "\n",
        "First let's read the dataset into a data frame and have a look what is there."
      ]
    },
    {
      "cell_type": "code",
      "execution_count": 51,
      "metadata": {
        "id": "W2mRzeB7Vmdz"
      },
      "outputs": [
        {
          "data": {
            "text/html": [
              "<div>\n",
              "<style scoped>\n",
              "    .dataframe tbody tr th:only-of-type {\n",
              "        vertical-align: middle;\n",
              "    }\n",
              "\n",
              "    .dataframe tbody tr th {\n",
              "        vertical-align: top;\n",
              "    }\n",
              "\n",
              "    .dataframe thead th {\n",
              "        text-align: right;\n",
              "    }\n",
              "</style>\n",
              "<table border=\"1\" class=\"dataframe\">\n",
              "  <thead>\n",
              "    <tr style=\"text-align: right;\">\n",
              "      <th></th>\n",
              "      <th>text</th>\n",
              "    </tr>\n",
              "  </thead>\n",
              "  <tbody>\n",
              "    <tr>\n",
              "      <th>119142</th>\n",
              "      <td>check results sociallydistant airshow weeks sh...</td>\n",
              "    </tr>\n",
              "    <tr>\n",
              "      <th>119143</th>\n",
              "      <td>covid sunsets ra sunset rona ronasunsets duskt...</td>\n",
              "    </tr>\n",
              "    <tr>\n",
              "      <th>119144</th>\n",
              "      <td>one favorite performances star band lit livemu...</td>\n",
              "    </tr>\n",
              "    <tr>\n",
              "      <th>119145</th>\n",
              "      <td>reminder massmedical members weekly member cal...</td>\n",
              "    </tr>\n",
              "    <tr>\n",
              "      <th>119146</th>\n",
              "      <td>i’d never thought primark’s origin hq owns sur...</td>\n",
              "    </tr>\n",
              "  </tbody>\n",
              "</table>\n",
              "</div>"
            ],
            "text/plain": [
              "                                                     text\n",
              "119142  check results sociallydistant airshow weeks sh...\n",
              "119143  covid sunsets ra sunset rona ronasunsets duskt...\n",
              "119144  one favorite performances star band lit livemu...\n",
              "119145  reminder massmedical members weekly member cal...\n",
              "119146  i’d never thought primark’s origin hq owns sur..."
            ]
          },
          "execution_count": 51,
          "metadata": {},
          "output_type": "execute_result"
        }
      ],
      "source": [
        "import numpy as np\n",
        "import pandas as pd\n",
        "\n",
        "text = pd.read_csv('tweets-2020-4-30.csv')\n",
        "text = text.fillna('') # some rows are nan so replace with empty string\n",
        "text.tail()"
      ]
    },
    {
      "cell_type": "markdown",
      "metadata": {
        "id": "BMXOr7veVmd0"
      },
      "source": [
        "## Note: Some preprocessing\n",
        "\n",
        "The dataset you loaded was actually pre-processed by us. We briefly describe the steps handled already just so you know that there are usually some extra things that need to be done with text data. We show all the code below if you are curious, but you do not need to fully understand these steps.\n",
        "\n",
        "* Removed tweets not in English. This is a tricky modeling choice, but one that is pretty common for simplicity and accuracy. Like when discussing bias, a better choice would probably to build up separate models for each language. \n",
        "* Removed URLs from tweets (not relevant to analysis)\n",
        "* Make all text lower-case\n",
        "* Remove all punctuation\n",
        "* Remove stop-words (e.g., \"a\", \"the\", \"to\") using [NLTK](https://www.nltk.org/).\n",
        "* Also remove some too frequent terms related to COVID that end up skewing the analysis.\n",
        "\n",
        "The code for these steps was shown below. The original dataset had extra columns other than just text.\n",
        "\n",
        "```\n",
        "# select tweets in English\n",
        "text = data['text'][data['lang']=='en']\n",
        "\n",
        "# remove URL links\n",
        "text = text.apply(lambda x: re.sub(r\"https\\S+\", \"\", str(x)))\n",
        "\n",
        "# make lower case\n",
        "text = text.str.lower()\n",
        "\n",
        "# remove punctuation\n",
        "text = text.apply(lambda x: x.translate(str.maketrans('', '', string.punctuation)))\n",
        "\n",
        "# remove stopwords and common COVID terms\n",
        "import nltk\n",
        "nltk.download('stopwords')\n",
        "\n",
        "stop_words = set(stopwords.words('english'))\n",
        "stop_words.update(['#coronavirus', '#coronavirusoutbreak', \n",
        "                   '#coronavirusPandemic', '#covid19', '#covid_19', \n",
        "                   '#epitwitter', '#ihavecorona', 'amp', 'coronavirus', \n",
        "                   'covid19','covid-19', 'covidー19'])\n",
        "\n",
        "def remove_stopwords(tweet):\n",
        "    words = tweet.split()\n",
        "    words = [word for word in words if word not in stop_words]\n",
        "    return ' '.join(words)  # Trick to make string separated by spaces\n",
        "\n",
        "text = text.apply(remove_stopwords)\n",
        "```\n",
        "\n",
        "## TF-IDF Matrix\n",
        "\n",
        "Remember that matrix factorization methods work on matrices of numbers not text so we need to convert the text into a meaningful numeric representation.\n",
        "\n",
        "Earlier we discussed the Term Frequency-Inverse Document Frequency as a good way to do that since it defines a word weight vector for each document by accounting for the most popular words such as `the` or `a`.  We can extract it using `scikit-learn`."
      ]
    },
    {
      "cell_type": "code",
      "execution_count": 52,
      "metadata": {
        "id": "kLFP5kdGVmd1"
      },
      "outputs": [
        {
          "name": "stdout",
          "output_type": "stream",
          "text": [
            "(119147, 183012)\n",
            "  (0, 98165)\t0.16750636943397262\n",
            "  (0, 59863)\t0.22121835131972956\n",
            "  (0, 85909)\t0.25543349312213176\n",
            "  (0, 31239)\t0.20867381582251546\n",
            "  (0, 170460)\t0.19145816874596647\n",
            "  (0, 178822)\t0.15003498431498363\n",
            "  (0, 18332)\t0.1788720872374158\n",
            "  (0, 124955)\t0.12191102639360303\n",
            "  (0, 51440)\t0.2196014968256336\n",
            "  (0, 105232)\t0.21974530856645022\n",
            "  (0, 173126)\t0.19987957510582088\n",
            "  (0, 84454)\t0.21182254969387163\n",
            "  (0, 180974)\t0.19832105920025297\n",
            "  (0, 172441)\t0.15136250238675628\n",
            "  (0, 163090)\t0.14131182130271702\n",
            "  (0, 168082)\t0.3376808764908346\n",
            "  (0, 7430)\t0.27422538577211353\n",
            "  (0, 5065)\t0.23509842519369423\n",
            "  (0, 17686)\t0.1699014548718478\n",
            "  (0, 3291)\t0.3455457020211242\n",
            "  (0, 60436)\t0.22776500895172197\n",
            "  (1, 65313)\t0.41661207755725393\n",
            "  (1, 64708)\t0.2355802980936584\n",
            "  (1, 154749)\t0.2675949021536129\n",
            "  (1, 153654)\t0.21011442903409067\n",
            "  :\t:\n",
            "  (119145, 135197)\t0.15433294239182047\n",
            "  (119145, 105516)\t0.14425180473376942\n",
            "  (119145, 136515)\t0.17226885372402231\n",
            "  (119145, 163725)\t0.10073500221524076\n",
            "  (119145, 127462)\t0.13310979578595708\n",
            "  (119146, 137870)\t0.3044080478124583\n",
            "  (119146, 111237)\t0.3044080478124583\n",
            "  (119146, 62818)\t0.3044080478124583\n",
            "  (119146, 24137)\t0.2692267175320297\n",
            "  (119146, 129937)\t0.27261547258902485\n",
            "  (119146, 79139)\t0.2611450097737544\n",
            "  (119146, 107962)\t0.2149161925587404\n",
            "  (119146, 122124)\t0.23654359600985847\n",
            "  (119146, 50878)\t0.2007142824755213\n",
            "  (119146, 103533)\t0.17982833555291272\n",
            "  (119146, 121141)\t0.20294184888827432\n",
            "  (119146, 66513)\t0.231056293452279\n",
            "  (119146, 137843)\t0.1764981766091438\n",
            "  (119146, 156762)\t0.2005019133252279\n",
            "  (119146, 128561)\t0.14457686805963219\n",
            "  (119146, 154973)\t0.2061648426416186\n",
            "  (119146, 162552)\t0.1601272341888827\n",
            "  (119146, 114130)\t0.1417935391545463\n",
            "  (119146, 62532)\t0.19713960742681624\n",
            "  (119146, 160412)\t0.13527890652430577\n",
            "['00' '000' '0000' ... '𝟱𝟵𝟰𝟯' '𝟳𝟯𝟮' '𝟵𝟳']\n"
          ]
        }
      ],
      "source": [
        "from sklearn.feature_extraction.text import TfidfVectorizer\n",
        "\n",
        "# create TF-IDF matrix\n",
        "vectorizer = TfidfVectorizer(max_df=0.95)  # ignore words with very high doc frequency\n",
        "tf_idf = vectorizer.fit_transform(text['text'])\n",
        "\n",
        "# exctract also the words so that we know which feature corresponds to which word\n",
        "feature_names = vectorizer.get_feature_names_out()\n",
        "\n",
        "# check out the shape\n",
        "print(tf_idf.shape)\n",
        "\n",
        "print(tf_idf)\n",
        "\n",
        "print(feature_names)"
      ]
    },
    {
      "cell_type": "markdown",
      "metadata": {
        "id": "iNaC_t1DVmd2"
      },
      "source": [
        "### 🔍 **Question 1** Counts\n",
        "\n",
        "Make two variables `num_tweets` and `num_words` that store the number of tweets in our dataset and number of words in our analysis respectively. Use the number of words as the number of features after doing the TF-IDF computation."
      ]
    },
    {
      "cell_type": "code",
      "execution_count": 53,
      "metadata": {
        "id": "WRCh6hfsVmd2"
      },
      "outputs": [],
      "source": [
        "# TODO compute num_tweets and num_words\n",
        "\n",
        "num_tweets = tf_idf.shape[0]\n",
        "num_words = feature_names.shape[0]\n"
      ]
    },
    {
      "cell_type": "code",
      "execution_count": 54,
      "metadata": {},
      "outputs": [
        {
          "name": "stdout",
          "output_type": "stream",
          "text": [
            "119147\n",
            "183012\n"
          ]
        }
      ],
      "source": [
        "print(num_tweets)\n",
        "print(num_words)"
      ]
    },
    {
      "cell_type": "markdown",
      "metadata": {
        "id": "0X2iZCF0Vmd2"
      },
      "source": [
        "# Modeling Tweets with Topics\n",
        "\n",
        "We will use a particular technique similar to matrix factorization for recommendation to help us model tweets. In particular we will use a model called Non-negative Matrix Decomposition to help us discover topics.\n",
        "\n",
        "You might be wondering how we can use an approach we taught for recommender systems to model tweets, when there is no notion of recommending a tweet. The idea is to try to create two matrices to describe \"Tweet factors\" and \"Word factors\" that will hopefully correspond to distinct topics of discussion. Just like with matrix factorization for recommendation, our hopse is that each factor corresponds to a topic.\n",
        "\n",
        "### 🔍 **Question 2** NMF\n",
        "\n",
        "We will use the [NMF](https://scikit-learn.org/stable/modules/generated/sklearn.decomposition.NMF.html) method from `scikit-learn` to extract the topics. \n",
        "\n",
        "Set up an NMF model with 5 components and fit it to our TF-IDF data. Use the `fit_transform` as shown in the example for the documentation above to both fit the NMF model and transform our tweet data in one step.\n",
        "\n",
        "When creating the model, you will want to use the following hyperparameters to ensure you get the same results as us:\n",
        "* `init='nndsvd'`\n",
        "* `random_state=1`\n",
        "\n",
        "When fitting the model, we will fit it on our TF-IDF data which is a matrix of the shape `(num_tweets, num_words)`.\n",
        "\n",
        "Save your model in a variable called `nmf` and the projected tweets in a variable called `tweets_projected`."
      ]
    },
    {
      "cell_type": "code",
      "execution_count": 55,
      "metadata": {
        "id": "ANUEaFV3Vmd3"
      },
      "outputs": [
        {
          "data": {
            "text/plain": [
              "array([[0.02216523, 0.00418058, 0.        , 0.00253153, 0.01598377],\n",
              "       [0.01765826, 0.00028899, 0.00965633, 0.00044535, 0.01475628],\n",
              "       [0.        , 0.        , 0.        , 0.        , 0.00570078],\n",
              "       ...,\n",
              "       [0.00508162, 0.        , 0.        , 0.        , 0.        ],\n",
              "       [0.00128623, 0.00244778, 0.        , 0.0008764 , 0.00994545],\n",
              "       [0.00319597, 0.        , 0.        , 0.00019009, 0.00347184]])"
            ]
          },
          "execution_count": 55,
          "metadata": {},
          "output_type": "execute_result"
        }
      ],
      "source": [
        "\n",
        "from sklearn.decomposition import NMF\n",
        "\n",
        "# TODO create and fit the model and transform our data\n",
        "nmf = NMF(n_components=5, init= 'nndsvd', random_state=1)\n",
        "tf_idf.shape = (num_tweets, num_words)\n",
        "tweets_projected  = nmf.fit_transform(tf_idf)\n",
        "tweets_projected"
      ]
    },
    {
      "cell_type": "code",
      "execution_count": 56,
      "metadata": {},
      "outputs": [
        {
          "data": {
            "text/plain": [
              "array([[0.00000000e+00, 1.12536019e-02, 4.00588136e-05, ...,\n",
              "        4.75358957e-06, 4.75358957e-06, 9.50717914e-06],\n",
              "       [5.37023666e-04, 2.47597139e-03, 5.66638634e-04, ...,\n",
              "        0.00000000e+00, 0.00000000e+00, 0.00000000e+00],\n",
              "       [0.00000000e+00, 8.23461102e-04, 0.00000000e+00, ...,\n",
              "        0.00000000e+00, 0.00000000e+00, 0.00000000e+00],\n",
              "       [0.00000000e+00, 5.69600688e-04, 3.29295383e-04, ...,\n",
              "        0.00000000e+00, 0.00000000e+00, 0.00000000e+00],\n",
              "       [8.59597890e-04, 1.78179275e-04, 5.86096269e-05, ...,\n",
              "        7.84526397e-06, 7.84526397e-06, 1.56905279e-05]])"
            ]
          },
          "execution_count": 56,
          "metadata": {},
          "output_type": "execute_result"
        }
      ],
      "source": [
        "nmf.components_"
      ]
    },
    {
      "cell_type": "code",
      "execution_count": 57,
      "metadata": {},
      "outputs": [
        {
          "name": "stdout",
          "output_type": "stream",
          "text": [
            "(119147, 5)\n",
            "(5, 183012)\n",
            "183012\n"
          ]
        }
      ],
      "source": [
        "print(tweets_projected.shape)\n",
        "print(nmf.components_.shape)\n",
        "print(num_words)"
      ]
    },
    {
      "cell_type": "markdown",
      "metadata": {
        "id": "kCabwqoxVmd4"
      },
      "source": [
        "### 🔍 **Question 3** Inspecting Components\n",
        "\n",
        "The topics are stored within the object `nmf.components_`. Investigate this matrix and the `tweets_projected` matrices by printing their values and their shapes. Make sure you undertsand why each one has the shape it does.\n",
        "\n",
        "Looking at the `nmf.components_` field, does it correspond to the \"Tweet factors\" or \"Word factors\" in the terminology of matrix factorization? Save your answer as a string in a variable called `q3`. \n",
        "\n",
        "* If you think the answer is Tweet factors, write `q3 = 'tweet'`\n",
        "* If you think the answer is Word factors, write `  q3 = 'word'`\n",
        "\n",
        "This is a question you can write your answer to without needing to write a computation in code. You will want to print out the data or the shape of the data to help you make your determination though.\n",
        "\n"
      ]
    },
    {
      "cell_type": "code",
      "execution_count": 58,
      "metadata": {
        "id": "0N2EWeFcVmd5"
      },
      "outputs": [],
      "source": [
        "\n",
        "# TODO define q3 = ...\n",
        "q3 = 'word'"
      ]
    },
    {
      "cell_type": "markdown",
      "metadata": {
        "id": "UH0jWFCEVmd5"
      },
      "source": [
        "# Analyzing Topics\n",
        "\n",
        "We are now interested in inspecting each topic to find the most prevelant or meaningful words for that topic. We'll consider the words with the highest weights for a topic in NMF model to be the most important words for that topic. Recall that the words themselves are stored in a variable called `feature_names`.\n",
        "\n",
        "### 🔍 **Question 4** Small Example\n",
        "Before trying to investigate the values in the real data, let's do a small example first to explore how this can be done. You can use the [`argsort()`](https://numpy.org/doc/stable/reference/generated/numpy.argsort.html) to get a list of array indices sorted by the values at those indices; this is useful when you want to use the ordered indices for another purpose. \n",
        "\n",
        "In the cell below, we have defined variables `small_words` and `small_weights` that correspond to a made-up example of words with weights from a single topic in NMF. To be specific, the word at index `i` in `small_words` will have weight `small_weights[i]`. You should write code in the cell below to make a new variable `sorted_small_words` that stores a `list` of the words of `small_words` but in sorted order from *largest weight* to *smallest weight*.\n",
        "\n",
        "\n",
        "*Notes*:\n",
        "* Pay special attention to the sort order specified by `argsort`. If you need to reverse an `numpy` array stored in a variable `a`, you can write `a[::-1]`. \n",
        "* Like normal, you should not hard code the answer to this problem but write code to make it work (even though you could easily do this example by just writing out the values). We want you to practice this now since in the next few problems you will have to do this on the real-data."
      ]
    },
    {
      "cell_type": "code",
      "execution_count": 59,
      "metadata": {
        "id": "dTDApn0rVmd5"
      },
      "outputs": [
        {
          "name": "stdout",
          "output_type": "stream",
          "text": [
            "[1 2 0]\n",
            "['cats', 'axolotl', 'dogs']\n"
          ]
        }
      ],
      "source": [
        "\n",
        "small_words = ['dogs', 'cats', 'axolotl']\n",
        "small_weights = np.array([1, 4, 2])\n",
        "\n",
        "#TODO Write code to make sorted_small_words as described above\n",
        "sorted_weights = np.argsort(small_weights)[::-1]\n",
        "sorted_small_words = [small_words[i] for i in sorted_weights]\n",
        "print(sorted_weights)\n",
        "print(sorted_small_words)\n"
      ]
    },
    {
      "cell_type": "markdown",
      "metadata": {
        "id": "rXFDBbX5Vmd6"
      },
      "source": [
        "### 🔍 **Question 5** Words from Topic\n",
        "We will now generalize the code you wrote for the last section to work on our real dataset.\n",
        "\n",
        "Write a function `words_from_topic` to extract an ordered list of words in a topic (highest weight first). Please see the documentation provided in the starter function to see a description of the parameters and return.\n",
        "\n",
        "*Note*: Your solution should look very similar to the last question."
      ]
    },
    {
      "cell_type": "code",
      "execution_count": 60,
      "metadata": {
        "id": "Uc-GaZtuVmd6"
      },
      "outputs": [],
      "source": [
        "\n",
        "\n",
        "def words_from_topic(topic, feature_names):\n",
        "  \"\"\"\n",
        "  Sorts the words by their weight in the given topic from largest to smallest.\n",
        "  topic and feature_names should have the same number of entries.\n",
        "\n",
        "  Args:\n",
        "  - topic (np.array): A numpy array with one entry per word that shows the weight in this topic.\n",
        "  - feature_names (list): A list of words that each entry in topic corresponds to\n",
        "\n",
        "  Returns:\n",
        "  - A list of words in feature_names sorted by weight in topic from largest to smallest. \n",
        "  \"\"\"\n",
        "\n",
        "  # TODO implement this function\n",
        "  order_Words = []\n",
        "  sorted_indices = np.argsort(topic)[::-1]\n",
        "  for i in sorted_indices:\n",
        "    order_Words.append(feature_names[i])\n",
        "  return order_Words \n",
        "  "
      ]
    },
    {
      "cell_type": "markdown",
      "metadata": {
        "id": "5u2wj13uVmd7"
      },
      "source": [
        "Once you have implemented the function above,  you should be able to run the cell below that uses your function to print out the top 10 words in each topic.\n",
        "\n"
      ]
    },
    {
      "cell_type": "code",
      "execution_count": 61,
      "metadata": {
        "id": "Bm0wIiSuVmd7"
      },
      "outputs": [
        {
          "name": "stdout",
          "output_type": "stream",
          "text": [
            "Topic: #0: people, lockdown, get, home, stay, like, one, time, know, go\n",
            "Topic: #1: cases, new, deaths, total, confirmed, reported, number, positive, reports, today\n",
            "Topic: #2: spread, app, help, selfreporting, symptoms, download, sooner, identify, slow, daily\n",
            "Topic: #3: us, china, join, trump, let, million, drug, manmade, intelligence, says\n",
            "Topic: #4: pandemic, health, support, help, crisis, workers, global, news, need, read\n"
          ]
        }
      ],
      "source": [
        "def print_top_words(components, feature_names, n_top_words):\n",
        "    \"\"\" \n",
        "    print_top_words prints the first n_top_words for each topic in components\n",
        "    \"\"\"\n",
        "    for topic_index, topic in enumerate(components):\n",
        "        ordered_words = words_from_topic(topic, feature_names)\n",
        "        top_words = ', '.join(ordered_words[:n_top_words])\n",
        "        print(f'Topic: #{topic_index}: {top_words}')\n",
        "\n",
        "print_top_words(nmf.components_, feature_names, 10)"
      ]
    },
    {
      "cell_type": "markdown",
      "metadata": {
        "id": "iS5hTBtBVmd7"
      },
      "source": [
        "## Investigating Tweet\n",
        "Next let's look at a specific tweet (index 40151) and the individual contributions of the topics. The cell below prints the text of the original tweet and then the value of the tweet after being transformed by our NMF."
      ]
    },
    {
      "cell_type": "code",
      "execution_count": 62,
      "metadata": {
        "id": "vyC4nlC4Vmd7"
      },
      "outputs": [
        {
          "name": "stdout",
          "output_type": "stream",
          "text": [
            "attention seattle shoppers grocery stores working hard keep employees customers safe part help slow spread ☑️ limit trips ☑️ respect special shopping hours ☑️ follow socialdistance guidance stores wegotthisseattle\n",
            "[0.00822911 0.         0.02897631 0.         0.01525021]\n"
          ]
        }
      ],
      "source": [
        "index = 40151\n",
        "print(text.iloc[index]['text'])\n",
        "print(tweets_projected[index])"
      ]
    },
    {
      "cell_type": "markdown",
      "metadata": {
        "id": "sJZFV8QVVmd8"
      },
      "source": [
        "### 🔍 **Question 6** Looking at a tweet\n",
        "\n",
        "Looking at the topic values for the tweet above, which topic (Topic #0 to Topic #4) is it most  associated with? Save your answer in a variable called `q6`.\n",
        "\n",
        "For this problem, you can hard-code your answer as a number. For example, if you look at the result and believe it is most associated with Topic 0, you could write `q6 = 0`.\n",
        "\n",
        "Does this tweet make sense to be grouped in a topic with the words shown in the topic word lists you printed in the last problem?\n"
      ]
    },
    {
      "cell_type": "code",
      "execution_count": 63,
      "metadata": {
        "id": "3kaMHnYFVmd8"
      },
      "outputs": [],
      "source": [
        "# TODO look at the output above to identify which topic the tweet above is most associated to\n",
        "q6 = 2"
      ]
    },
    {
      "cell_type": "code",
      "execution_count": 64,
      "metadata": {},
      "outputs": [
        {
          "data": {
            "text/plain": [
              "array([[0.02216523, 0.00418058, 0.        , 0.00253153, 0.01598377],\n",
              "       [0.01765826, 0.00028899, 0.00965633, 0.00044535, 0.01475628],\n",
              "       [0.        , 0.        , 0.        , 0.        , 0.00570078],\n",
              "       ...,\n",
              "       [0.00508162, 0.        , 0.        , 0.        , 0.        ],\n",
              "       [0.00128623, 0.00244778, 0.        , 0.0008764 , 0.00994545],\n",
              "       [0.00319597, 0.        , 0.        , 0.00019009, 0.00347184]])"
            ]
          },
          "execution_count": 64,
          "metadata": {},
          "output_type": "execute_result"
        }
      ],
      "source": [
        "tweets_projected"
      ]
    },
    {
      "cell_type": "markdown",
      "metadata": {
        "id": "0BZWDYNbVmd8"
      },
      "source": [
        "### 🔍 **Question 7** Largest Topic\n",
        "In our analysis above where we modeled each tweet in 5 topics, which topic has the most tweets strongly associated with it? \n",
        "\n",
        "For each tweet, calculate which topic it is most strongly associated with by looking at the topic values for the tweet. If there is ever a tie for the largest topic weight, take the one with the lowest index (although this is unlikely to happen in our dataset).\n",
        "\n",
        "Save the index of the topic with the most tweets strongly associated with it in a variable called `largest_topic`. The result should be an integer for the index of the largest topic.\n",
        "\n",
        "*Hint: There is a very efficient way to do this using code like we wrote in HW6, but there are many ways to solve this problem in general*.\n"
      ]
    },
    {
      "cell_type": "code",
      "execution_count": 65,
      "metadata": {
        "id": "z_qtKniFVmd8"
      },
      "outputs": [
        {
          "data": {
            "text/plain": [
              "4"
            ]
          },
          "execution_count": 65,
          "metadata": {},
          "output_type": "execute_result"
        }
      ],
      "source": [
        "# TODO find index of largest topic\n",
        "largest_topic = tweets_projected.sum(axis=0).argmax()\n",
        "largest_topic\n"
      ]
    },
    {
      "cell_type": "markdown",
      "metadata": {
        "id": "zrcpilU3Vmd8"
      },
      "source": [
        "# Investigating Trends\n",
        "\n",
        "One benefit of using matrix factorization to a small dimension, is it lets us visualize tweets in this \"topic space\" to find any interesting groupings. \n",
        "\n",
        "Now in our earlier analysis, we modeled each tweet as 5 topics but that is hard to visualize. \n",
        "\n",
        "In the next cell, make a new NMF model and projected tweets (called `nmf_small` and `tweets_projected_small` respectively) with 3 components instead of 5. Use the same settings for the other parameters as we did earlier.\n",
        "\n",
        "Note the next cell has a TODO for you to do this, but there is no Gradescope autograder tests associated with this cell. You'll still need to do it here to get the remaining cells and last question to work."
      ]
    },
    {
      "cell_type": "code",
      "execution_count": 66,
      "metadata": {
        "id": "ezFn11o3Vmd8"
      },
      "outputs": [],
      "source": [
        "# TODO\n",
        "nmf_small = NMF(n_components=3, init= 'nndsvd', random_state=1)\n",
        "tweets_projected_small = nmf_small.fit_transform(tf_idf)"
      ]
    },
    {
      "cell_type": "markdown",
      "metadata": {
        "id": "-Yd4vbtlVmd9"
      },
      "source": [
        "We can investigate the topics in this small model. Unsurprisingly the seem mostly the same but a couple topics had to merge."
      ]
    },
    {
      "cell_type": "code",
      "execution_count": 67,
      "metadata": {
        "id": "EpaKIbX8Vmd9"
      },
      "outputs": [
        {
          "name": "stdout",
          "output_type": "stream",
          "text": [
            "Topic: #0: us, people, pandemic, lockdown, need, get, health, time, home, like\n",
            "Topic: #1: cases, new, deaths, total, confirmed, reported, number, positive, reports, today\n",
            "Topic: #2: help, spread, app, selfreporting, symptoms, download, sooner, identify, slow, feel\n"
          ]
        }
      ],
      "source": [
        "print_top_words(nmf_small.components_, feature_names, 10)"
      ]
    },
    {
      "cell_type": "markdown",
      "metadata": {
        "id": "Av8tCIb1Vmd9"
      },
      "source": [
        "Now that we have 3 values for each tweet, we can actually plot each tweet in 3D space to see how all the tweets relate to each other. The following cell does exactly that. You don't need to understand all the specifics of how to make a 3D plot, but just note it is using the 3 topic values for each tweet as the x, y, z coordinates"
      ]
    },
    {
      "cell_type": "code",
      "execution_count": 68,
      "metadata": {
        "id": "W38FttxlVmd9"
      },
      "outputs": [
        {
          "data": {
            "image/png": "[encoded data removed]",
            "text/plain": [
              "<Figure size 640x480 with 1 Axes>"
            ]
          },
          "metadata": {},
          "output_type": "display_data"
        }
      ],
      "source": [
        "import matplotlib.pyplot as plt\n",
        "%matplotlib inline\n",
        "\n",
        "# Set up axes to plot on\n",
        "fig = plt.figure()\n",
        "ax = fig.add_subplot(projection='3d')\n",
        "\n",
        "# Make 3D scatterplot\n",
        "ax.scatter(tweets_projected_small[:, 0], tweets_projected_small[:, 1], tweets_projected_small[:, 2])\n",
        "\n",
        "# Set axis labels\n",
        "ax.set_xlabel('Topic 0')\n",
        "ax.set_ylabel('Topic 1')\n",
        "ax.set_zlabel('Topic 2')\n",
        "\n",
        "# Rotate plot to be easily viewed\n",
        "ax.view_init(30, 30)"
      ]
    },
    {
      "cell_type": "markdown",
      "metadata": {
        "id": "JkPb5qIFVmd9"
      },
      "source": [
        "Interesting, it looks like there is a small cluster of Tweets that are far away from all the others when looking at Topic 2. In other words, there are a few tweets that are very far in the Topic 2 direction while the majority of tweets are spread out more in Topic 0/1.\n",
        "\n",
        "### 🔍 **Question 8** Outlier Tweets\n",
        "Let's look into the tweets that seem very different than the rest. \n",
        "\n",
        "For this problem, we want you to compute all of the unique tweets (since there are some duplicates) that appear in this region in the \"topic space\". \n",
        "\n",
        "Below, we explain the steps to do this computation. Save your result in a variable called `outlier_tweets` that has type `numpy.array` and stores all the unique tweets that are these outliers (as described below).\n",
        "\n",
        "For this problem, you should follow these steps:\n",
        "1. Find the which rows in our `tweets_projected_small` our outliers. We will define this tweets as ones that have a value of `0.15` or more for Topic 2.\n",
        "2. Now that we know which rows are outliers, use that information to access the `text` column of our original tweets `DataFrame` `text` for those rows.\n",
        "3. Use the `.unique` function available on a column of a `pandas` `DataFrame`to find all the unique values.\n",
        "\n",
        "If you follow these steps (particularly the last), you will end up with a `numpy.array` with all of the unique tweets that meet this criteria. Note that many of the tweets look similar, but they count as unique tweets since they have some character differences!\n",
        "\n",
        "Do you spot a theme amongst these tweets? Do you think there is an explanation why our model isolated them as their own topic?\n"
      ]
    },
    {
      "cell_type": "code",
      "execution_count": 69,
      "metadata": {
        "id": "_pGYDQDMVmd9"
      },
      "outputs": [],
      "source": [
        "\n",
        "# TODO implement the process explained above\n",
        "outlier_indices = np.where(tweets_projected_small[:, 2] >= 0.15)[0]\n",
        "outlier_tweets = text.loc[outlier_indices, 'text'].unique()\n",
        "\n",
        "# print(\"Outlier Tweets:\")\n",
        "# for tweet in outlier_tweets:\n",
        "#     print(tweet)\n",
        "\n",
        "\n",
        "\n"
      ]
    },
    {
      "cell_type": "code",
      "execution_count": null,
      "metadata": {},
      "outputs": [],
      "source": []
    }
  ],
  "metadata": {
    "colab": {
      "provenance": []
    },
    "kernelspec": {
      "display_name": "Python 3 (ipykernel)",
      "language": "python",
      "name": "python3"
    },
    "language_info": {
      "codemirror_mode": {
        "name": "ipython",
        "version": 3
      },
      "file_extension": ".py",
      "mimetype": "text/x-python",
      "name": "python",
      "nbconvert_exporter": "python",
      "pygments_lexer": "ipython3",
      "version": "3.8.15"
    }
  },
  "nbformat": 4,
  "nbformat_minor": 0
}

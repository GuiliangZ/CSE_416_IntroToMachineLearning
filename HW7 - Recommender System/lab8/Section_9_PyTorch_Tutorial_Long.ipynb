{
  "cells": [
    {
      "cell_type": "markdown",
      "metadata": {
        "id": "1nKVtA9a0buB"
      },
      "source": [
        "<h1><center>STAT/CSE 416 Section 9: Pytorch and Neural Networks</center></h1>\n",
        "<center><b>Section:</b>AA/AB</center>\n",
        "<center><b>Instructor:</b>Datong Zhou</center>\n",
        "<center><b>TA:</b>Long Nguyen</center>\n",
        "<center><b>Date:</b>Nov 30th, 2023</center>\n",
        "\n",
        "*Adapted from slides and notebooks from previous STAT/CSE 416 TAs.*"
      ]
    },
    {
      "cell_type": "markdown",
      "metadata": {
        "id": "fcIync9DHtkh"
      },
      "source": [
        "# Import Statements"
      ]
    },
    {
      "cell_type": "code",
      "execution_count": 1,
      "metadata": {
        "id": "syRi868OBvKC"
      },
      "outputs": [],
      "source": [
        "import math\n",
        "import numpy as np\n",
        "\n",
        "import matplotlib.pyplot as plt              # For plotting\n",
        "import torch                                 # Overall PyTorch import\n",
        "import torch.nn as nn                        # For specifying neural networks\n",
        "import torch.nn.functional as F              # For common functions\n",
        "import torch.optim as optim                  # For optimizizing model parameters\n",
        "import torchvision.datasets as datasets      # To download data\n",
        "import torchvision.transforms as transforms  # For pre-processing data\n",
        "import seaborn as sns\n",
        "\n",
        "sns.set()"
      ]
    },
    {
      "cell_type": "markdown",
      "metadata": {
        "id": "3ZV1d41DJHrV"
      },
      "source": [
        "# Basic Tensors"
      ]
    },
    {
      "cell_type": "markdown",
      "metadata": {
        "id": "nJr_AkfFJOwy"
      },
      "source": [
        "Tensors are basically a specialized data structure that are similar to arrays and matrices. While their are distinctions, they are not vital to the material of this course. In PyTorch, we use tensors to encode the inputs and outputs of a model, as well as the model’s parameters.\n",
        "\n",
        "Tensors are similar to NumPy’s ndarrays, except that tensors can run on GPUs or other specialized hardware to accelerate computing.\n"
      ]
    },
    {
      "cell_type": "code",
      "execution_count": 2,
      "metadata": {
        "colab": {
          "base_uri": "https://localhost:8080/"
        },
        "id": "N6ly70mtJp6l",
        "outputId": "77668678-0547-4d83-a49c-bacbca0912bc"
      },
      "outputs": [
        {
          "name": "stdout",
          "output_type": "stream",
          "text": [
            "tensor([[1, 2],\n",
            "        [3, 4]])\n",
            "tensor([[1, 2],\n",
            "        [3, 4]])\n",
            "Ones Tensor: \n",
            " tensor([[1, 1],\n",
            "        [1, 1]]) \n",
            "\n",
            "Random Tensor: \n",
            " tensor([[0.6507, 0.3939],\n",
            "        [0.2737, 0.6894]]) \n",
            "\n",
            "Random Tensor: \n",
            " tensor([[0.8641, 0.9028, 0.1757],\n",
            "        [0.8228, 0.9731, 0.0477]]) \n",
            "\n",
            "Ones Tensor: \n",
            " tensor([[1., 1., 1.],\n",
            "        [1., 1., 1.]]) \n",
            "\n",
            "Zeros Tensor: \n",
            " tensor([[0., 0., 0.],\n",
            "        [0., 0., 0.]])\n"
          ]
        }
      ],
      "source": [
        "# Initialization Strategies\n",
        "\n",
        "# Directly from Data\n",
        "data = [[1, 2],[3, 4]]\n",
        "x_data = torch.tensor(data)\n",
        "print(x_data)\n",
        "\n",
        "# From a Numpy Array\n",
        "np_array = np.array(data)\n",
        "x_np = torch.from_numpy(np_array)\n",
        "\n",
        "print(x_np)\n",
        "\n",
        "# From another Tensor\n",
        "x_ones = torch.ones_like(x_data) # retains the properties of x_data\n",
        "print(f\"Ones Tensor: \\n {x_ones} \\n\")\n",
        "\n",
        "x_rand = torch.rand_like(x_data, dtype=torch.float) # overrides the datatype of x_data\n",
        "print(f\"Random Tensor: \\n {x_rand} \\n\")\n",
        "\n",
        "# Using Shape\n",
        "shape = (2,3,)\n",
        "rand_tensor = torch.rand(shape)\n",
        "ones_tensor = torch.ones(shape)\n",
        "zeros_tensor = torch.zeros(shape)\n",
        "\n",
        "print(f\"Random Tensor: \\n {rand_tensor} \\n\")\n",
        "print(f\"Ones Tensor: \\n {ones_tensor} \\n\")\n",
        "print(f\"Zeros Tensor: \\n {zeros_tensor}\")"
      ]
    },
    {
      "cell_type": "code",
      "execution_count": 3,
      "metadata": {
        "colab": {
          "base_uri": "https://localhost:8080/"
        },
        "id": "_plcO0fFLzPS",
        "outputId": "d5486fe7-6003-4a15-aad1-3475cc3a015d"
      },
      "outputs": [
        {
          "name": "stdout",
          "output_type": "stream",
          "text": [
            "Shape of tensor: torch.Size([3, 4])\n",
            "Datatype of tensor: torch.float32\n",
            "Device tensor is stored on: cpu\n"
          ]
        }
      ],
      "source": [
        "# Attributes\n",
        "\n",
        "tensor = torch.rand(3,4)\n",
        "\n",
        "print(f\"Shape of tensor: {tensor.shape}\")\n",
        "print(f\"Datatype of tensor: {tensor.dtype}\")\n",
        "print(f\"Device tensor is stored on: {tensor.device}\")\n",
        "\n",
        "#cuda=torch.device('cuda')\n",
        "#tensor.to(device=cuda)\n"
      ]
    },
    {
      "cell_type": "markdown",
      "metadata": {
        "id": "q0NNjXI7H21d"
      },
      "source": [
        "# Data"
      ]
    },
    {
      "cell_type": "markdown",
      "metadata": {
        "id": "9oSPbeTJ0xRp"
      },
      "source": [
        "We are using the MNIST Dataset."
      ]
    },
    {
      "cell_type": "code",
      "execution_count": 4,
      "metadata": {
        "colab": {
          "base_uri": "https://localhost:8080/"
        },
        "id": "QOV7dh1GCwfl",
        "outputId": "e373b37b-04b2-4b0a-92a5-dfaa7ff363f9"
      },
      "outputs": [
        {
          "name": "stdout",
          "output_type": "stream",
          "text": [
            "Downloading http://yann.lecun.com/exdb/mnist/train-images-idx3-ubyte.gz\n",
            "Downloading http://yann.lecun.com/exdb/mnist/train-images-idx3-ubyte.gz to ./data/MNIST/raw/train-images-idx3-ubyte.gz\n"
          ]
        },
        {
          "name": "stderr",
          "output_type": "stream",
          "text": [
            "100%|██████████| 9912422/9912422 [00:00<00:00, 132812351.24it/s]"
          ]
        },
        {
          "name": "stdout",
          "output_type": "stream",
          "text": [
            "Extracting ./data/MNIST/raw/train-images-idx3-ubyte.gz to ./data/MNIST/raw\n"
          ]
        },
        {
          "name": "stderr",
          "output_type": "stream",
          "text": [
            "\n"
          ]
        },
        {
          "name": "stdout",
          "output_type": "stream",
          "text": [
            "\n",
            "Downloading http://yann.lecun.com/exdb/mnist/train-labels-idx1-ubyte.gz\n",
            "Downloading http://yann.lecun.com/exdb/mnist/train-labels-idx1-ubyte.gz to ./data/MNIST/raw/train-labels-idx1-ubyte.gz\n"
          ]
        },
        {
          "name": "stderr",
          "output_type": "stream",
          "text": [
            "100%|██████████| 28881/28881 [00:00<00:00, 35091452.44it/s]\n"
          ]
        },
        {
          "name": "stdout",
          "output_type": "stream",
          "text": [
            "Extracting ./data/MNIST/raw/train-labels-idx1-ubyte.gz to ./data/MNIST/raw\n",
            "\n",
            "Downloading http://yann.lecun.com/exdb/mnist/t10k-images-idx3-ubyte.gz\n",
            "Downloading http://yann.lecun.com/exdb/mnist/t10k-images-idx3-ubyte.gz to ./data/MNIST/raw/t10k-images-idx3-ubyte.gz\n"
          ]
        },
        {
          "name": "stderr",
          "output_type": "stream",
          "text": [
            "100%|██████████| 1648877/1648877 [00:00<00:00, 50892182.80it/s]"
          ]
        },
        {
          "name": "stdout",
          "output_type": "stream",
          "text": [
            "Extracting ./data/MNIST/raw/t10k-images-idx3-ubyte.gz to ./data/MNIST/raw\n"
          ]
        },
        {
          "name": "stderr",
          "output_type": "stream",
          "text": [
            "\n"
          ]
        },
        {
          "name": "stdout",
          "output_type": "stream",
          "text": [
            "\n",
            "Downloading http://yann.lecun.com/exdb/mnist/t10k-labels-idx1-ubyte.gz\n",
            "Downloading http://yann.lecun.com/exdb/mnist/t10k-labels-idx1-ubyte.gz to ./data/MNIST/raw/t10k-labels-idx1-ubyte.gz\n"
          ]
        },
        {
          "name": "stderr",
          "output_type": "stream",
          "text": [
            "100%|██████████| 4542/4542 [00:00<00:00, 4432417.12it/s]\n"
          ]
        },
        {
          "name": "stdout",
          "output_type": "stream",
          "text": [
            "Extracting ./data/MNIST/raw/t10k-labels-idx1-ubyte.gz to ./data/MNIST/raw\n",
            "\n",
            "Dataset MNIST\n",
            "    Number of datapoints: 60000\n",
            "    Root location: ./data\n",
            "    Split: Train\n",
            "    StandardTransform\n",
            "Transform: Compose(\n",
            "               ToTensor()\n",
            "               Normalize(mean=[0.5], std=[0.5])\n",
            "           )\n"
          ]
        }
      ],
      "source": [
        "transform = transforms.Compose([transforms.ToTensor(), transforms.Normalize([0.5], [0.5])])\n",
        "\n",
        "trainset = datasets.MNIST(root='./data', train=True, download=True,\n",
        "                            transform=transform)\n",
        "\n",
        "train_loader = torch.utils.data.DataLoader(trainset, batch_size=128,\n",
        "                                           shuffle=True, num_workers=2)\n",
        "\n",
        "testset = datasets.MNIST(root='./data', train=False, download=True,\n",
        "                           transform=transform)\n",
        "\n",
        "test_loader = torch.utils.data.DataLoader(testset, batch_size=36,\n",
        "                                          shuffle=False, num_workers=2)\n",
        "print(trainset)"
      ]
    },
    {
      "cell_type": "code",
      "execution_count": 5,
      "metadata": {
        "colab": {
          "base_uri": "https://localhost:8080/",
          "height": 839
        },
        "id": "-mZFqZ4onsQh",
        "outputId": "052ff3e2-8f83-4f82-e57d-ad12c9a662b0"
      },
      "outputs": [
        {
          "data": {
            "image/png": "[encoded data removed]",
            "text/plain": [
              "<Figure size 640x480 with 6 Axes>"
            ]
          },
          "execution_count": 5,
          "metadata": {},
          "output_type": "execute_result"
        },
        {
          "data": {
            "image/png": "[encoded data removed]",
            "text/plain": [
              "<Figure size 640x480 with 6 Axes>"
            ]
          },
          "metadata": {},
          "output_type": "display_data"
        }
      ],
      "source": [
        "import matplotlib.pyplot as plt\n",
        "\n",
        "examples = enumerate(test_loader)\n",
        "batch_idx, (example_data, example_targets) = next(examples)\n",
        "\n",
        "fig = plt.figure()\n",
        "for i in range(6):\n",
        "  plt.subplot(2,3,i+1)\n",
        "  plt.tight_layout()\n",
        "  plt.imshow(example_data[i][0], cmap='gray', interpolation='none')\n",
        "  plt.title(\"True Label: {}\".format(example_targets[i]))\n",
        "  plt.xticks([])\n",
        "  plt.yticks([])\n",
        "fig"
      ]
    },
    {
      "cell_type": "markdown",
      "metadata": {
        "id": "51ULKE3GMg_o"
      },
      "source": [
        "# Defining a Neural Network"
      ]
    },
    {
      "cell_type": "markdown",
      "metadata": {
        "id": "04hwBxSs1po0"
      },
      "source": [
        "Neural networks are fairly complex models, taken in their entirety, capable of very complex data modeling. Despite this, they are assembled from simple mathematical components, a process that we as users will have to manually guide.\n",
        "\n",
        "A neural net consists of familar input and output layers, identical to the input and output we would see from most other ML models, sandwiching one or more linear, convolution, deconvolution, or other types of layers.\n",
        "\n",
        "![image.png](attachment:image.png)\n",
        "\n",
        "(Image source: https://www.ibm.com/topics/neural-networks)\n",
        "\n",
        "To understand the different layers in a Neural Network see the following documentation: https://pytorch.org/docs/stable/nn.html#linear-layers.\n",
        "\n",
        "To create a neural network, two functions need be defined (three, but the third we get for free).\n",
        "\n",
        "<b>__init__</b> works as it does in any other python function; initializing any necessary data structures or objects necessary for future functionality. Here we use it to initialize each of the pieces of our neural network.\n",
        "\n",
        "<b>forward</b> defines the forward step of the neural network; IE: how do we take input $X$ and extra from it output $y$; the forward step does this processing by stepping through each layer of the neural network.\n",
        "\n",
        "<b>backward</b> defines the backward step of the neural network; used for optimizing the parameters of the model, typically using gradient descent methods. For our purposes, we can rely on autograd to handle this step for us."
      ]
    },
    {
      "cell_type": "markdown",
      "metadata": {
        "id": "A0hYHuXF7dGz"
      },
      "source": [
        "Example Applying a Linear Layer to the Neural Network"
      ]
    },
    {
      "cell_type": "code",
      "execution_count": 6,
      "metadata": {
        "colab": {
          "base_uri": "https://localhost:8080/"
        },
        "id": "3QdrzSh27CaC",
        "outputId": "269f1b54-470d-4388-e770-06f459bb85e1"
      },
      "outputs": [
        {
          "name": "stdout",
          "output_type": "stream",
          "text": [
            "torch.Size([36, 1, 28, 28])\n",
            "torch.Size([36, 1, 28, 3])\n"
          ]
        }
      ],
      "source": [
        "class Net_1(nn.Module):\n",
        "  def __init__(self):\n",
        "    super(Net_1, self).__init__()\n",
        "    self.fc1 = nn.Linear(1 * 28, 3)\n",
        "    self.fc2 = nn.Linear(3, 2)\n",
        "\n",
        "  def forward(self, x):\n",
        "    #x = x.view(-1, 1)\n",
        "    x = self.fc1(x)\n",
        "    x = self.fc2(x)\n",
        "    return x\n",
        "\n",
        "\n",
        "print(example_data.shape)\n",
        "net=Net_1()\n",
        "#example_data.view(-1,1).shape\n",
        "result=net.forward(example_data)\n",
        "print(result.shape)\n",
        "#36,1,28,3"
      ]
    },
    {
      "cell_type": "markdown",
      "metadata": {
        "id": "r_1I5eKgB6r0"
      },
      "source": [
        "## Types of Layers\n",
        "\n",
        "There are different types of layers that can be added to a neural network, and while we won't detail them all here we will opt to focus on three types: Linear, convolution, and drop out."
      ]
    },
    {
      "cell_type": "markdown",
      "metadata": {
        "id": "sP15QwFn0buH"
      },
      "source": [
        "### Linear Layers\n",
        "\n",
        "Linear layers function as a simple linear relationship - Input values are scaled by the model weights before being linearly combined into a pre-defined number of output values.\n",
        "\n",
        "![image.png](attachment:image.png)\n",
        "\n",
        "(Image from https://www.perceptilabs.com/)"
      ]
    },
    {
      "cell_type": "markdown",
      "metadata": {
        "id": "LImQ9fYO0buH"
      },
      "source": [
        "### Convolution Layers\n",
        "\n",
        "Convolution layers are more complex. A convolution layer will taken in imput and break it down in (typically partially overlapping) segments of equal size. For each of these segments, a convolution is applied, essentially a mask over the segment that measures agreement with a fixed pattern.\n",
        "\n",
        "One can imagine the case of examining numbers, applying a convolution to the top and bottom half of the image that is a convolution of a circle. Numbers like 6 and 9 would have high values of this convolution for the bottom and top half, respectively, while 8 would have a high value for both. A number like 4 will produce a higher value for its top half convolution output (as the shape of the top of a 4 is closer to a circle) than 7 or 1. In the end, the convolution in this example is a measure of 'circularness'.\n",
        "\n",
        "Below is an example of a simple 'straight line' convolution applied to a very strictly drawn number 4.\n",
        "\n",
        "![image.png](attachment:image.png)"
      ]
    },
    {
      "cell_type": "markdown",
      "metadata": {
        "id": "1q3qv8q40buH"
      },
      "source": [
        "![image.png](attachment:image.png)\n",
        "\n",
        "(Example of a convolution from https://www.jeremyjordan.me/convolutional-neural-networks/)"
      ]
    },
    {
      "cell_type": "markdown",
      "metadata": {
        "id": "T_0ynpXW0buH"
      },
      "source": [
        "### Dropout Layers\n",
        "\n",
        "Drop out layers are simple layers that perform a drop out of neurons in the network according to, typically, a random process. Threshold based dropout layers are also common. In practice drop out layers serve to help prevent overfitting.\n",
        "\n",
        "![image.png](attachment:image.png)\n",
        "\n",
        "(Image from https://www.baeldung.com/)"
      ]
    },
    {
      "cell_type": "markdown",
      "metadata": {
        "id": "mXKFhJav0buH"
      },
      "source": [
        "Let's try combining each of these layer types into a single network."
      ]
    },
    {
      "cell_type": "code",
      "execution_count": 7,
      "metadata": {
        "colab": {
          "base_uri": "https://localhost:8080/"
        },
        "id": "PVYzDwx_MeBm",
        "outputId": "713891f6-1fcb-4c36-e097-251bb7a0f389"
      },
      "outputs": [
        {
          "name": "stdout",
          "output_type": "stream",
          "text": [
            "Net(\n",
            "  (conv1): Conv2d(1, 10, kernel_size=(5, 5), stride=(1, 1))\n",
            "  (conv2): Conv2d(10, 20, kernel_size=(5, 5), stride=(1, 1))\n",
            "  (conv2_drop): Dropout2d(p=0.5, inplace=False)\n",
            "  (fc1): Linear(in_features=320, out_features=50, bias=True)\n",
            "  (fc2): Linear(in_features=50, out_features=10, bias=True)\n",
            ")\n"
          ]
        }
      ],
      "source": [
        "class Net(nn.Module):\n",
        "    def __init__(self):\n",
        "        super(Net, self).__init__()\n",
        "        self.conv1 = nn.Conv2d(1, 10, kernel_size=5) #kernel_size = \n",
        "        self.conv2 = nn.Conv2d(10, 20, kernel_size=5) #stride = can define the stride size\n",
        "        self.conv2_drop = nn.Dropout2d()\n",
        "        self.fc1 = nn.Linear(320, 50) #50 is the hyperparameter that we define\n",
        "        self.fc2 = nn.Linear(50, 10) #10 classes of the last layer\n",
        "\n",
        "    #2D convolutional :[batch size, channel size, image size (h,w)]\n",
        "\n",
        "    def forward(self, x):\n",
        "        x = self.conv1(x)\n",
        "        x = F.max_pool2d(x, 2)\n",
        "        x = F.relu(x)# don't  need to initialize any weights\n",
        "        x = self.conv2(x)\n",
        "        x = self.conv2_drop(x)\n",
        "        x = F.max_pool2d(x, 2) #dont have any learnable weights\n",
        "        x = F.relu(x)\n",
        "\n",
        "        x = x.view(-1, 320)\n",
        "        x = F.relu(self.fc1(x))\n",
        "        x = F.dropout(x, training=self.training)\n",
        "        x = self.fc2(x)\n",
        "        return F.log_softmax(x)\n",
        "\n",
        "\n",
        "net = Net()\n",
        "print(net)"
      ]
    },
    {
      "cell_type": "markdown",
      "metadata": {
        "id": "tHdwPdVNS1I7"
      },
      "source": [
        "We must define each of our layers in the initialization of our neural network class. In the forward function we define the forward step through the network, passing the same varaible $x$ along as we transform it at each stage. Note that the order of operations here is vital to confirm that we process the network in the correct order, otherwise we will quickly encounter dimensionality issues when dimensions of the network conflict with one another. The backwards function is already defined for you using autograd."
      ]
    },
    {
      "cell_type": "markdown",
      "metadata": {
        "id": "twsWjyLLarW-"
      },
      "source": [
        "# Training a Classifier\n",
        "\n",
        "The following code will implement the neural network defined and try to fit on the MNIST data set. Note that if available, it will utilize your GPU (referred to as 'cuda' code) for efficient computation."
      ]
    },
    {
      "cell_type": "code",
      "execution_count": 8,
      "metadata": {
        "colab": {
          "base_uri": "https://localhost:8080/"
        },
        "id": "e0XqdkdRaXdm",
        "outputId": "a80c4be2-9170-49de-e81d-59f85da892c1"
      },
      "outputs": [
        {
          "name": "stderr",
          "output_type": "stream",
          "text": [
            "<ipython-input-7-2d53760dc35c>:23: UserWarning: Implicit dimension choice for log_softmax has been deprecated. Change the call to include dim=X as an argument.\n",
            "  return F.log_softmax(x)\n"
          ]
        },
        {
          "name": "stdout",
          "output_type": "stream",
          "text": [
            "[1,     0] loss: 0.023\n",
            "[1,   100] loss: 2.299\n",
            "[1,   200] loss: 2.267\n",
            "[1,   300] loss: 2.215\n",
            "[1,   400] loss: 2.085\n",
            "[2,     0] loss: 0.017\n",
            "[2,   100] loss: 1.560\n",
            "[2,   200] loss: 1.273\n",
            "[2,   300] loss: 1.039\n",
            "[2,   400] loss: 0.893\n",
            "[3,     0] loss: 0.009\n",
            "[3,   100] loss: 0.756\n",
            "[3,   200] loss: 0.667\n",
            "[3,   300] loss: 0.635\n",
            "[3,   400] loss: 0.593\n",
            "Finished Training\n"
          ]
        }
      ],
      "source": [
        "# First defining a loss function and optimizer\n",
        "criterion = nn.CrossEntropyLoss()\n",
        "optimizer = optim.SGD(net.parameters(), lr=0.001, momentum=0.9)\n",
        "\n",
        "loss_plot = []\n",
        "\n",
        "# Training\n",
        "for epoch in range(3):  # loop over the dataset multiple times, here we chose 3 but can make this bigger\n",
        "\n",
        "    running_loss = 0.0\n",
        "\n",
        "    for i, data in enumerate(train_loader, 0):\n",
        "        # get the inputs; data is a list of [inputs, labels]\n",
        "        inputs, labels = data\n",
        "        if torch.cuda.is_available():\n",
        "          net = net.cuda()\n",
        "          inputs = inputs.cuda()\n",
        "          labels = labels.cuda()\n",
        "\n",
        "        # zero the parameter gradients\n",
        "        optimizer.zero_grad() \n",
        "\n",
        "        # forward + backward + optimize\n",
        "        outputs = net(inputs)\n",
        "        loss = criterion(outputs, labels)\n",
        "        loss.backward()\n",
        "        optimizer.step()\n",
        "\n",
        "        # print statistics\n",
        "        running_loss += loss.item()\n",
        "        if i % 100 == 0:    # print every 100 mini-batches\n",
        "            print('[%d, %5d] loss: %.3f' %\n",
        "                  (epoch + 1, i, running_loss / 100))\n",
        "\n",
        "            loss_plot.append(running_loss / 100)\n",
        "            running_loss = 0.0\n",
        "\n",
        "print('Finished Training')\n"
      ]
    },
    {
      "cell_type": "code",
      "execution_count": 9,
      "metadata": {
        "colab": {
          "base_uri": "https://localhost:8080/",
          "height": 451
        },
        "id": "FPzTUlc6wOzP",
        "outputId": "c67dff3b-8684-4765-ec5d-cfa091cb1bfa"
      },
      "outputs": [
        {
          "data": {
            "text/plain": [
              "[<matplotlib.lines.Line2D at 0x7eaa6fe08e80>]"
            ]
          },
          "execution_count": 9,
          "metadata": {},
          "output_type": "execute_result"
        },
        {
          "data": {
            "image/png": "[encoded data removed]",
            "text/plain": [
              "<Figure size 640x480 with 1 Axes>"
            ]
          },
          "metadata": {},
          "output_type": "display_data"
        }
      ],
      "source": [
        "# Plot of Loss Function\n",
        "iters = [i for i in range(0, 1500, 100)]\n",
        "\n",
        "plt.plot(iters, loss_plot)"
      ]
    },
    {
      "cell_type": "markdown",
      "metadata": {
        "id": "ECAzAn1J0buI"
      },
      "source": [
        "Note that, as with other ML techniques, there is considerable input from us the user in defining these models. The layers, order of layers, and parameterization of layers can all be controlled to define models that more accurate reflect the data. Don't forget that in practice we always want to utilize training/testing/validation data splits to ensure we aren't overparameterizing and overfitting to our data.\n",
        "\n",
        "If you want some practice, try modifiying the neural network defined above to add layers, modifying the size of layers, or any other modifications you can think to do to try and improve the fit of the model."
      ]
    },
    {
      "cell_type": "markdown",
      "metadata": {
        "id": "jdTWAaWRm839"
      },
      "source": [
        "# Sources"
      ]
    },
    {
      "cell_type": "markdown",
      "metadata": {
        "id": "csIhsoSqm-hj"
      },
      "source": [
        "Notebook uses the work of Gregor Koehler, see the link below to their article for more information on the results of the model.\n",
        "* https://nextjournal.com/gkoehler/pytorch-mnist \\\\\n",
        "Note uses documentation from PyTorch, see the link below.\n",
        "* https://pytorch.org/tutorials/beginner/deep_learning_60min_blitz.html \\\\\n",
        "Other Helpful Resources\n",
        "* https://www.youtube.com/watch?v=YRhxdVk_sIs\n",
        "* https://www.youtube.com/watch?v=-SA8BmGvWYE\n",
        "\n"
      ]
    },
    {
      "cell_type": "code",
      "execution_count": 9,
      "metadata": {
        "id": "XVjPxyNE2hxn"
      },
      "outputs": [],
      "source": []
    }
  ],
  "metadata": {
    "colab": {
      "provenance": []
    },
    "kernelspec": {
      "display_name": "Python 3",
      "language": "python",
      "name": "python3"
    },
    "language_info": {
      "codemirror_mode": {
        "name": "ipython",
        "version": 3
      },
      "file_extension": ".py",
      "mimetype": "text/x-python",
      "name": "python",
      "nbconvert_exporter": "python",
      "pygments_lexer": "ipython3",
      "version": "3.7.6"
    }
  },
  "nbformat": 4,
  "nbformat_minor": 0
}

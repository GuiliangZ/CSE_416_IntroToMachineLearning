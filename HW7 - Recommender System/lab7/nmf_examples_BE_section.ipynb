{
  "cells": [
    {
      "cell_type": "markdown",
      "metadata": {
        "id": "ELEfpYzHkXQ9"
      },
      "source": [
        "This material is originally made by teaching assistant [Seth Temple](sdtemple.github.io) for the course [CSE/STAT 416: Introduction to Machine Learning](https://valentina-s.github.io/cse-stat-416-sp20/). This iteration of the course happened in Spring 2020 at the University of Washington and was led by instructor Valentina Staneva.\n",
        "\n",
        "This material is licensed under a [Creative Commons License](https://creativecommons.org/licenses/by/4.0/). Anyone, especially other educators and students, is welcome to use and modify this material with proper citation."
      ]
    },
    {
      "cell_type": "markdown",
      "metadata": {
        "id": "ETbE3vniZc8f"
      },
      "source": [
        "### Simple Example"
      ]
    },
    {
      "cell_type": "code",
      "execution_count": null,
      "metadata": {
        "colab": {
          "base_uri": "https://localhost:8080/"
        },
        "id": "uFhzloiHV2MA",
        "outputId": "0ba8c398-eff9-4e9a-daf0-49082709aadc"
      },
      "outputs": [
        {
          "name": "stdout",
          "output_type": "stream",
          "text": [
            "(6, 2)\n"
          ]
        }
      ],
      "source": [
        "import numpy as np\n",
        "from sklearn.decomposition import NMF\n",
        "\n",
        "# data\n",
        "X = np.array([[1, 1], [2, 1], [3, 1.2], [4, 1], [5, 0.8], [6, 1]])\n",
        "print(X.shape) # 6 observations, 2 features"
      ]
    },
    {
      "cell_type": "code",
      "execution_count": null,
      "metadata": {
        "id": "2cn-WqmxW3Z4"
      },
      "outputs": [],
      "source": [
        "model = NMF(n_components=2, init='random', random_state=0)\n",
        "WX = model.fit_transform(X) # returns W\n",
        "HX = model.components_ # the model components are the basis column vectors"
      ]
    },
    {
      "cell_type": "code",
      "execution_count": null,
      "metadata": {
        "colab": {
          "base_uri": "https://localhost:8080/"
        },
        "id": "84OiCgJzXIRA",
        "outputId": "a8aaabb3-4796-4fff-d8ca-f70977e2e85e"
      },
      "outputs": [
        {
          "name": "stdout",
          "output_type": "stream",
          "text": [
            "(2, 2)\n",
            "[[2.09783018 0.30560234]\n",
            " [2.13443044 2.13171694]]\n"
          ]
        }
      ],
      "source": [
        "print(HX.shape)\n",
        "print(HX)"
      ]
    },
    {
      "cell_type": "code",
      "execution_count": null,
      "metadata": {
        "colab": {
          "base_uri": "https://localhost:8080/"
        },
        "id": "bnhUOCzQXJg9",
        "outputId": "caa964eb-69a1-4a48-e6cd-6505cb19b7b3"
      },
      "outputs": [
        {
          "name": "stdout",
          "output_type": "stream",
          "text": [
            "(6, 2)\n",
            "[[0.         0.46880684]\n",
            " [0.55699523 0.3894146 ]\n",
            " [1.00331638 0.41925352]\n",
            " [1.6733999  0.22926926]\n",
            " [2.34349311 0.03927954]\n",
            " [2.78981512 0.06911798]]\n"
          ]
        }
      ],
      "source": [
        "print(WX.shape)\n",
        "print(WX)"
      ]
    },
    {
      "cell_type": "code",
      "execution_count": null,
      "metadata": {
        "colab": {
          "base_uri": "https://localhost:8080/"
        },
        "id": "h7Jcw-E_fgxg",
        "outputId": "6ef93bbc-97d2-4895-bc14-99764625618c"
      },
      "outputs": [
        {
          "data": {
            "text/plain": [
              "array([1, 0, 0, 0, 0, 0])"
            ]
          },
          "execution_count": 41,
          "metadata": {},
          "output_type": "execute_result"
        }
      ],
      "source": [
        "WX.argmax(axis=1)"
      ]
    },
    {
      "cell_type": "code",
      "execution_count": null,
      "metadata": {
        "colab": {
          "base_uri": "https://localhost:8080/"
        },
        "id": "7Stb86b2XK4t",
        "outputId": "6b68db6d-a7b5-42d1-a0cc-4cffdf8c007b"
      },
      "outputs": [
        {
          "name": "stdout",
          "output_type": "stream",
          "text": [
            "[[1.00063558 0.99936347]\n",
            " [1.99965977 1.00034074]\n",
            " [2.99965485 1.20034566]\n",
            " [3.9998681  1.0001321 ]\n",
            " [5.00009002 0.79990984]\n",
            " [6.00008587 0.999914  ]]\n"
          ]
        }
      ],
      "source": [
        "# matrix multiplication\n",
        "print(np.matmul(WX,HX))"
      ]
    },
    {
      "cell_type": "code",
      "execution_count": null,
      "metadata": {
        "colab": {
          "base_uri": "https://localhost:8080/"
        },
        "id": "jb9GECubXnCB",
        "outputId": "8d618421-3963-4065-a392-1b546b0a60e3"
      },
      "outputs": [
        {
          "name": "stdout",
          "output_type": "stream",
          "text": [
            "[[1.  1. ]\n",
            " [2.  1. ]\n",
            " [3.  1.2]\n",
            " [4.  1. ]\n",
            " [5.  0.8]\n",
            " [6.  1. ]]\n"
          ]
        }
      ],
      "source": [
        "print(X)"
      ]
    },
    {
      "cell_type": "code",
      "execution_count": null,
      "metadata": {
        "colab": {
          "base_uri": "https://localhost:8080/"
        },
        "id": "bIP8gzNbsLyL",
        "outputId": "debdebea-c3be-4601-cf10-a8dc9362de12"
      },
      "outputs": [
        {
          "name": "stdout",
          "output_type": "stream",
          "text": [
            "1\n",
            "4\n",
            "9\n"
          ]
        }
      ],
      "source": [
        "[x**2 for x in [1,2,3]]\n",
        "\n",
        "for x in [1,2,3]:\n",
        "  print (x**2)"
      ]
    },
    {
      "cell_type": "code",
      "execution_count": null,
      "metadata": {
        "colab": {
          "base_uri": "https://localhost:8080/"
        },
        "id": "MB0JNtUZYtjo",
        "outputId": "820e272e-09cc-4679-94a0-111479cd8829"
      },
      "outputs": [
        {
          "name": "stdout",
          "output_type": "stream",
          "text": [
            "[2.09783018 0.30560234]\n",
            "[1 0]\n",
            "[0 1]\n",
            "2.097830183791838\n",
            "[2.097830183791838, 0.30560234303173384]\n"
          ]
        }
      ],
      "source": [
        "# first row of H\n",
        "print(HX[0,:])\n",
        "\n",
        "# ordered indices of first row of H\n",
        "print(HX[0,:].argsort())\n",
        "ordered_indices = HX[0,:].argsort()[::-1]\n",
        "print (ordered_indices)\n",
        "# highest coefficient of first row of H\n",
        "print(HX[0,HX[0,:].argsort()[-1]])\n",
        "\n",
        "values_in_first_row = [HX[0,i] for i in ordered_indices]\n",
        "print (values_in_first_row)"
      ]
    },
    {
      "cell_type": "code",
      "execution_count": null,
      "metadata": {
        "colab": {
          "base_uri": "https://localhost:8080/"
        },
        "id": "POhdasdpa32Y",
        "outputId": "d4960af1-0a66-43d7-c6d7-d9546e7de937"
      },
      "outputs": [
        {
          "data": {
            "text/plain": [
              "array([[0.        , 0.46880687],\n",
              "       [0.55762104, 0.38906185],\n",
              "       [1.0039665 , 0.41888706],\n",
              "       [1.6736919 , 0.22910467],\n",
              "       [2.3434173 , 0.03932227],\n",
              "       [2.78976277, 0.06914748]])"
            ]
          },
          "execution_count": 22,
          "metadata": {},
          "output_type": "execute_result"
        }
      ],
      "source": [
        "model.transform(X)"
      ]
    },
    {
      "cell_type": "code",
      "execution_count": null,
      "metadata": {
        "colab": {
          "base_uri": "https://localhost:8080/"
        },
        "id": "oOvztmCKbHaG",
        "outputId": "7b9b927e-43b2-4020-befc-df696ac03746"
      },
      "outputs": [
        {
          "data": {
            "text/plain": [
              "array([[1.00063558, 0.99936347],\n",
              "       [1.99965977, 1.00034074],\n",
              "       [2.99965485, 1.20034566],\n",
              "       [3.9998681 , 1.0001321 ],\n",
              "       [5.00009002, 0.79990984],\n",
              "       [6.00008587, 0.999914  ]])"
            ]
          },
          "execution_count": 23,
          "metadata": {},
          "output_type": "execute_result"
        }
      ],
      "source": [
        "model.inverse_transform(WX)"
      ]
    },
    {
      "cell_type": "code",
      "execution_count": null,
      "metadata": {
        "colab": {
          "base_uri": "https://localhost:8080/"
        },
        "id": "CaIFzuTHbSkX",
        "outputId": "67005e23-bf16-43f3-a90b-0fc6b1c7e28c"
      },
      "outputs": [
        {
          "data": {
            "text/plain": [
              "array([[2.09783018, 0.30560234],\n",
              "       [2.13443044, 2.13171694]])"
            ]
          },
          "execution_count": 24,
          "metadata": {},
          "output_type": "execute_result"
        }
      ],
      "source": [
        "model.components_"
      ]
    },
    {
      "cell_type": "code",
      "execution_count": null,
      "metadata": {
        "colab": {
          "base_uri": "https://localhost:8080/",
          "height": 33
        },
        "id": "6teojG6LbV7X",
        "outputId": "2237dda1-0ac8-46d2-ddf7-3affe6bf996f"
      },
      "outputs": [
        {
          "data": {
            "text/plain": [
              "2"
            ]
          },
          "execution_count": 11,
          "metadata": {},
          "output_type": "execute_result"
        }
      ],
      "source": [
        "model.n_components_"
      ]
    },
    {
      "cell_type": "code",
      "execution_count": null,
      "metadata": {
        "colab": {
          "base_uri": "https://localhost:8080/",
          "height": 33
        },
        "id": "v9-U6LFqbbxQ",
        "outputId": "0b2e93a5-7cdd-4a65-c239-7aa2d388e62c"
      },
      "outputs": [
        {
          "data": {
            "text/plain": [
              "29"
            ]
          },
          "execution_count": 12,
          "metadata": {},
          "output_type": "execute_result"
        }
      ],
      "source": [
        "model.n_iter_"
      ]
    },
    {
      "cell_type": "markdown",
      "metadata": {
        "id": "3OMIegiXZX8-"
      },
      "source": [
        "### Another Example"
      ]
    },
    {
      "cell_type": "code",
      "execution_count": null,
      "metadata": {
        "colab": {
          "base_uri": "https://localhost:8080/"
        },
        "id": "3zBSaFDGZV05",
        "outputId": "968ae0d3-aefc-4ea8-c7ac-105690ecaecb"
      },
      "outputs": [
        {
          "name": "stdout",
          "output_type": "stream",
          "text": [
            "(6, 4)\n"
          ]
        }
      ],
      "source": [
        "# data\n",
        "Y = np.array([[1, 1, 3, 5], [2, 1, 4, 8], [3, 1.2, 1.55, 0.27], [4, 1, 7.68, 3.45], [5, 0.8, .75, .5], [6, 1, 3.24, 10.9]])\n",
        "print(Y.shape) # 6 observations, 4 features"
      ]
    },
    {
      "cell_type": "code",
      "execution_count": null,
      "metadata": {
        "colab": {
          "base_uri": "https://localhost:8080/"
        },
        "id": "rymMPuHpYZDX",
        "outputId": "6811664e-ce19-4a38-edeb-74271413e1e7"
      },
      "outputs": [
        {
          "name": "stderr",
          "output_type": "stream",
          "text": [
            "/usr/local/lib/python3.8/dist-packages/sklearn/decomposition/_nmf.py:1665: ConvergenceWarning: Maximum number of iterations 200 reached. Increase it to improve convergence.\n",
            "  warnings.warn(\n"
          ]
        }
      ],
      "source": [
        "model = NMF(n_components = 3, init = 'random', random_state = 0)\n",
        "WY = model.fit_transform(Y)\n",
        "HY = model.components_"
      ]
    },
    {
      "cell_type": "code",
      "execution_count": null,
      "metadata": {
        "colab": {
          "base_uri": "https://localhost:8080/"
        },
        "id": "MVdFlmspaLFh",
        "outputId": "2f00bee3-3b0e-4078-f736-aaf77694ab0b"
      },
      "outputs": [
        {
          "name": "stdout",
          "output_type": "stream",
          "text": [
            "(6, 3)\n",
            "(3, 4)\n"
          ]
        }
      ],
      "source": [
        "print(WY.shape)\n",
        "print(HY.shape)"
      ]
    },
    {
      "cell_type": "code",
      "execution_count": null,
      "metadata": {
        "colab": {
          "base_uri": "https://localhost:8080/"
        },
        "id": "r6-ppJGQaSVX",
        "outputId": "a565730e-dc75-4c5e-9efa-ba1347e3eace"
      },
      "outputs": [
        {
          "name": "stdout",
          "output_type": "stream",
          "text": [
            "[[1.00338942 0.04872211 2.12944515 0.56569743]\n",
            " [2.2909531  0.         2.25305433 0.5824154 ]\n",
            " [0.         1.3106977  0.28242519 0.3551393 ]\n",
            " [1.57254626 1.11101224 0.         1.67211743]\n",
            " [0.23706388 2.02861284 0.         0.06037736]\n",
            " [4.1340465  1.00455239 1.38180557 0.        ]]\n",
            "[[0.88127966 0.         0.72689108 2.19837154]\n",
            " [2.34295065 0.48112397 0.16331159 0.        ]\n",
            " [0.         0.37883279 0.05290644 1.31096586]\n",
            " [0.         0.31054518 3.7985735  0.        ]]\n"
          ]
        }
      ],
      "source": [
        "print(WY)\n",
        "print(HY)"
      ]
    },
    {
      "cell_type": "code",
      "execution_count": null,
      "metadata": {
        "colab": {
          "base_uri": "https://localhost:8080/"
        },
        "id": "8Z56ltzHaaIn",
        "outputId": "469bb3c6-9bb2-4853-a688-ba03cb7b0c83"
      },
      "outputs": [
        {
          "name": "stdout",
          "output_type": "stream",
          "text": [
            "[[ 0.99842019  1.00581963  2.99881634  4.99745264]\n",
            " [ 2.01897035  1.03439715  3.99682215  7.9900434 ]\n",
            " [ 3.07090003  0.8478868   1.57801697  0.37024978]\n",
            " [ 3.98889986  1.05380263  7.67617199  3.45704094]\n",
            " [ 4.96185934  0.99476417  0.73296343  0.52115448]\n",
            " [ 5.99686775  1.00678749  3.24216298 10.89967011]]\n"
          ]
        }
      ],
      "source": [
        "# not as good\n",
        "print(np.matmul(WY, HY))"
      ]
    },
    {
      "cell_type": "code",
      "execution_count": null,
      "metadata": {
        "colab": {
          "base_uri": "https://localhost:8080/"
        },
        "id": "gY4ns9HEaiBn",
        "outputId": "1550ad01-9ea2-4eec-e854-2b324d83a0af"
      },
      "outputs": [
        {
          "name": "stdout",
          "output_type": "stream",
          "text": [
            "[[ 1.    1.    3.    5.  ]\n",
            " [ 2.    1.    4.    8.  ]\n",
            " [ 3.    1.2   1.55  0.27]\n",
            " [ 4.    1.    7.68  3.45]\n",
            " [ 5.    0.8   0.75  0.5 ]\n",
            " [ 6.    1.    3.24 10.9 ]]\n"
          ]
        }
      ],
      "source": [
        "print(Y)"
      ]
    },
    {
      "cell_type": "markdown",
      "metadata": {
        "id": "4OhmDyl8cnmY"
      },
      "source": [
        "### Dimensions Exercise"
      ]
    },
    {
      "cell_type": "markdown",
      "metadata": {
        "id": "5S-eGLptEg_T"
      },
      "source": [
        "Change `n_component` and guess at the dimensions of $\\mathbf{W}$ and $\\mathbf{H}$."
      ]
    },
    {
      "cell_type": "code",
      "execution_count": null,
      "metadata": {
        "id": "W-6iXNyQb6qK"
      },
      "outputs": [],
      "source": [
        "model = NMF(n_components = 3, init = 'random', random_state = 0)\n",
        "WZ = model.fit_transform(Y)\n",
        "HZ = model.components_"
      ]
    },
    {
      "cell_type": "code",
      "execution_count": null,
      "metadata": {
        "colab": {
          "base_uri": "https://localhost:8080/",
          "height": 117
        },
        "id": "6wIIYOymcHiX",
        "outputId": "e6f2d85b-e7b4-4099-d189-4b6117083353"
      },
      "outputs": [
        {
          "name": "stdout",
          "output_type": "stream",
          "text": [
            "[[1.14848822 0.         1.74060265]\n",
            " [1.49695266 0.10333927 2.88064583]\n",
            " [0.42842612 0.95042894 0.        ]\n",
            " [2.69933083 1.00776398 0.63915046]\n",
            " [0.         1.54282988 0.20756029]\n",
            " [0.99853856 1.15119506 4.22510604]]\n"
          ]
        }
      ],
      "source": [
        "print(WZ)"
      ]
    },
    {
      "cell_type": "code",
      "execution_count": null,
      "metadata": {
        "colab": {
          "base_uri": "https://localhost:8080/",
          "height": 67
        },
        "id": "JEzvw2yFcJKK",
        "outputId": "83122714-107f-4f1d-e9b4-b9f0cf2a8c70"
      },
      "outputs": [
        {
          "name": "stdout",
          "output_type": "stream",
          "text": [
            "[[0.16039008 0.28008573 2.65166913 0.70426265]\n",
            " [3.17512327 0.48301405 0.49009909 0.        ]\n",
            " [0.50726175 0.11002199 0.         2.41233104]]\n"
          ]
        }
      ],
      "source": [
        "print(HZ)"
      ]
    },
    {
      "cell_type": "code",
      "execution_count": null,
      "metadata": {
        "colab": {
          "base_uri": "https://localhost:8080/",
          "height": 117
        },
        "id": "R86JGP-OCuzv",
        "outputId": "373f4164-0679-4a5e-950b-729cca57912a"
      },
      "outputs": [
        {
          "name": "stdout",
          "output_type": "stream",
          "text": [
            "[[ 1.06714725  0.51317973  3.04541076  5.00774717]\n",
            " [ 2.02945272  0.78612378  4.02006963  8.00331919]\n",
            " [ 3.08644435  0.57906657  1.60184867  0.30172451]\n",
            " [ 3.95693731  1.31312881  7.65163644  3.44288038]\n",
            " [ 5.00396246  0.7680447   0.75613952  0.50070412]\n",
            " [ 5.95857656  1.30057435  3.21199352 10.89558785]]\n"
          ]
        }
      ],
      "source": [
        "print(np.matmul(WZ, HZ))"
      ]
    },
    {
      "cell_type": "markdown",
      "metadata": {
        "id": "8dArRQTFEuyk"
      },
      "source": [
        "Selecting rank $\\textit{r}$"
      ]
    },
    {
      "cell_type": "code",
      "execution_count": null,
      "metadata": {
        "colab": {
          "base_uri": "https://localhost:8080/"
        },
        "id": "l8uWNQxRDOPe",
        "outputId": "eda4cbca-b367-4824-db41-f01b13397fb5"
      },
      "outputs": [
        {
          "name": "stdout",
          "output_type": "stream",
          "text": [
            "1\n",
            "(6, 1) (1, 4) (6, 4)\n",
            "8.036556669096782\n",
            "2\n",
            "(6, 2) (2, 4) (6, 4)\n",
            "5.046854285749233\n",
            "3\n",
            "(6, 3) (3, 4) (6, 4)\n",
            "0.939187841988581\n",
            "4\n",
            "(6, 4) (4, 4) (6, 4)\n",
            "0.42989578979062903\n"
          ]
        },
        {
          "name": "stderr",
          "output_type": "stream",
          "text": [
            "/usr/local/lib/python3.8/dist-packages/sklearn/decomposition/_nmf.py:1665: ConvergenceWarning: Maximum number of iterations 200 reached. Increase it to improve convergence.\n",
            "  warnings.warn(\n",
            "/usr/local/lib/python3.8/dist-packages/sklearn/decomposition/_nmf.py:1665: ConvergenceWarning: Maximum number of iterations 200 reached. Increase it to improve convergence.\n",
            "  warnings.warn(\n"
          ]
        }
      ],
      "source": [
        "for i in range(1, 5):\n",
        "  print (i)\n",
        "  model = NMF(n_components = i, init = 'random', random_state = 0)\n",
        "  WZ = model.fit_transform(Y)\n",
        "  HZ = model.components_\n",
        "  print (WZ.shape, HZ.shape, Y.shape)\n",
        "  print(model.reconstruction_err_)"
      ]
    },
    {
      "cell_type": "code",
      "execution_count": null,
      "metadata": {
        "colab": {
          "base_uri": "https://localhost:8080/"
        },
        "id": "g-Fd0lHnDaH9",
        "outputId": "77c1da43-cb59-4f07-fc32-c45c286a220c"
      },
      "outputs": [
        {
          "name": "stdout",
          "output_type": "stream",
          "text": [
            "[[ 0.99842019  1.00581963  2.99881634  4.99745264]\n",
            " [ 2.01897035  1.03439715  3.99682215  7.9900434 ]\n",
            " [ 3.07090003  0.8478868   1.57801697  0.37024978]\n",
            " [ 3.98889986  1.05380263  7.67617199  3.45704094]\n",
            " [ 4.96185934  0.99476417  0.73296343  0.52115448]\n",
            " [ 5.99686775  1.00678749  3.24216298 10.89967011]]\n",
            "[[ 1.    1.    3.    5.  ]\n",
            " [ 2.    1.    4.    8.  ]\n",
            " [ 3.    1.2   1.55  0.27]\n",
            " [ 4.    1.    7.68  3.45]\n",
            " [ 5.    0.8   0.75  0.5 ]\n",
            " [ 6.    1.    3.24 10.9 ]]\n"
          ]
        },
        {
          "name": "stderr",
          "output_type": "stream",
          "text": [
            "/usr/local/lib/python3.8/dist-packages/sklearn/decomposition/_nmf.py:1665: ConvergenceWarning: Maximum number of iterations 200 reached. Increase it to improve convergence.\n",
            "  warnings.warn(\n"
          ]
        }
      ],
      "source": [
        "model = NMF(n_components = 4, init = 'random', random_state = 0)\n",
        "WZ = model.fit_transform(Y)\n",
        "HZ = model.components_\n",
        "print(np.matmul(WZ, HZ))\n",
        "print(Y)"
      ]
    }
  ],
  "metadata": {
    "colab": {
      "provenance": []
    },
    "kernelspec": {
      "display_name": "Python 3",
      "language": "python",
      "name": "python3"
    },
    "language_info": {
      "codemirror_mode": {
        "name": "ipython",
        "version": 3
      },
      "file_extension": ".py",
      "mimetype": "text/x-python",
      "name": "python",
      "nbconvert_exporter": "python",
      "pygments_lexer": "ipython3",
      "version": "3.7.6"
    }
  },
  "nbformat": 4,
  "nbformat_minor": 0
}

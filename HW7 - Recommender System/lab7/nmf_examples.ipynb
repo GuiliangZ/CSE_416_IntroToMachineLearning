{
 "cells": [
  {
   "cell_type": "markdown",
   "metadata": {},
   "source": [
    "<h1><center>STAT/CSE 416 Section 7: Non-Negative Matrix Factorization</center></h1>\n",
    "<center><b>Section:</b></center>\n",
    "<center><b>Instructor:</b>Emilija Perković</center>\n",
    "<center><b>TA:</b></center>\n",
    "<center><b>Date:</b>March 2, 2023</center>\n",
    "\n",
    "<center><b>Author</b>: Octavian-Vlad Murad</center>"
   ]
  },
  {
   "cell_type": "markdown",
   "metadata": {
    "colab_type": "text",
    "id": "ETbE3vniZc8f"
   },
   "source": [
    "# Non-Negative Matrix Factorization"
   ]
  },
  {
   "cell_type": "markdown",
   "metadata": {},
   "source": [
    "Non-Negative Matrix Factorization attempts to approximate a matrix $\\mathbf{X} \\in \\mathbb{R}^{m \\times n}$ by two low-rank(thin) matrices $\\mathbf{W} \\in \\mathbb{R}^{m \\times k}$ and  $\\mathbf{H} \\in \\mathbb{R}^{k \\times n}$ such that all the entries of $\\mathbf{W}$ and $\\mathbf{H}$ are non-negative. $k$ is referred to as the **number of components** or **embedding size**. The two matrices which decompose $\\mathbf{X}$ are obtained by minimizing the objective:\n",
    "\n",
    "$$\\arg\\min_{\\mathbf{W}, \\mathbf{H}} \\frac{1}{2}\\|\\mathbf{X} - \\mathbf{W}\\mathbf{H}\\|_F^2 = \\frac{1}{2}\\sum_{i=1}^{m}\\sum_{j=1}^n (\\mathbf{X}_{ij} - \\mathbf{W}_{i:}\\mathbf{H}_{:j})^2 $$\n",
    "\n",
    "Suppose the matrix $\\mathbf{X}$ is a matrix of users by movies and each entry $\\mathbf{X}_{ij}$ represents the grade assigned by user $i$ to movie $j$. Furthermore, suppose that we pick $k$, the size of the embedding, to be much smaller than $n$ and $m$, the number of users and movies. After we compute the decomposition, each row $\\mathbf{W}_{i:}$ can be used as a low dimensional embedding for user $i$, while each column $\\mathbf{H}_{:j}$ can be used as low dimensional embedding for movie $j$, giving us a much more compact representation of $\\mathbf{X}$. Furthermore, we can look at each coordinate of the embedding as representing some hidden **factor** or **topic**(for example, the genres of movies in our example). \n",
    "\n",
    "The embeddings thus obtained can be used in many ways. For example:\n",
    "* $\\mathbf{W}_{i:} \\cdot \\mathbf{W}_{j:}$ would give us the likeness of two users.\n",
    "* $\\mathbf{H}_{i:} \\cdot \\mathbf{H}_{j:}$ would give us the likeness of two movies.\n",
    "* $\\mathbf{W}_{i:} \\cdot \\mathbf{H}_{j:}$ what do we predict user i to rate movie j.\n",
    "\n",
    "<div>\n",
    "<img src=\"//upload.wikimedia.org/wikipedia/commons/thumb/f/f9/NMF.png/400px-NMF.png\" width=\"400\"/>\n",
    "</div><sup><sub>Image Source: Wikipedia (https://en.wikipedia.org/wiki/Non-negative_matrix_factorization)</sup></sub>"
   ]
  },
  {
   "cell_type": "code",
   "execution_count": 1,
   "metadata": {
    "colab": {
     "base_uri": "https://localhost:8080/",
     "height": 33
    },
    "colab_type": "code",
    "executionInfo": {
     "elapsed": 394,
     "status": "ok",
     "timestamp": 1590706662833,
     "user": {
      "displayName": "Seth Temple",
      "photoUrl": "https://lh3.googleusercontent.com/a-/AOh14Giz69LPoE8INV72_fYIhJvxiSaLfRpvy2eWBFiA=s64",
      "userId": "17433938564997003990"
     },
     "user_tz": 420
    },
    "id": "uFhzloiHV2MA",
    "outputId": "ffdebf3e-238e-4387-95dd-51fc38623ff0"
   },
   "outputs": [],
   "source": [
    "import numpy as np\n",
    "import pandas as pd\n",
    "import string\n",
    "\n",
    "from sklearn.decomposition import NMF\n",
    "from sklearn.feature_extraction.text import TfidfVectorizer\n",
    "\n",
    "# read in and process data which consists of the Amazon food reviews used for homework 3.\n",
    "products = pd.read_csv('food_products.csv')\n",
    "def remove_punctuation(text):\n",
    "    if type(text) is str:\n",
    "        return text.translate(str.maketrans('', '', string.punctuation))\n",
    "    else:\n",
    "        return ''\n",
    "products['review_clean'] = products['review'].apply(remove_punctuation)\n",
    "\n",
    "\n",
    "# compute tf-idf features\n",
    "vectorizer = TfidfVectorizer(max_df=0.95, min_df=10, stop_words='english')\n",
    "count_matrix = vectorizer.fit_transform(products['review_clean'])\n",
    "product_data = pd.DataFrame(count_matrix.toarray(), index=products.index,\n",
    "                            columns=vectorizer.get_feature_names_out())"
   ]
  },
  {
   "cell_type": "code",
   "execution_count": 7,
   "metadata": {
    "colab": {},
    "colab_type": "code",
    "id": "2cn-WqmxW3Z4"
   },
   "outputs": [
    {
     "name": "stderr",
     "output_type": "stream",
     "text": [
      "/home/ovmurad/anaconda3/lib/python3.7/site-packages/sklearn/decomposition/_nmf.py:1641: ConvergenceWarning: Maximum number of iterations 200 reached. Increase it to improve convergence.\n",
      "  ConvergenceWarning,\n"
     ]
    }
   ],
   "source": [
    "# compute the Non-Neg Mat. Factorization with 64 components\n",
    "model = NMF(n_components=64, init='random', random_state=0)\n",
    "review_embeddings = model.fit_transform(count_matrix) # returns W\n",
    "word_embeddings = model.components_.T # returns H which we transpose"
   ]
  },
  {
   "cell_type": "code",
   "execution_count": 8,
   "metadata": {
    "colab": {
     "base_uri": "https://localhost:8080/",
     "height": 67
    },
    "colab_type": "code",
    "executionInfo": {
     "elapsed": 332,
     "status": "ok",
     "timestamp": 1590706786938,
     "user": {
      "displayName": "Seth Temple",
      "photoUrl": "https://lh3.googleusercontent.com/a-/AOh14Giz69LPoE8INV72_fYIhJvxiSaLfRpvy2eWBFiA=s64",
      "userId": "17433938564997003990"
     },
     "user_tz": 420
    },
    "id": "84OiCgJzXIRA",
    "outputId": "1e62561c-32f9-4c42-d14e-bde0d6c9375c"
   },
   "outputs": [
    {
     "name": "stdout",
     "output_type": "stream",
     "text": [
      "(830, 64)\n",
      "[[0.00329395 0.         0.         ... 0.0030461  0.04815348 0.        ]\n",
      " [0.         0.         0.         ... 0.         0.         0.056239  ]\n",
      " [0.         0.         0.         ... 0.00820111 0.01281144 0.02627753]\n",
      " ...\n",
      " [0.         0.         0.03374036 ... 0.         0.         0.        ]\n",
      " [0.         0.         0.         ... 0.         0.         0.        ]\n",
      " [0.         0.         0.         ... 0.         0.         0.        ]]\n"
     ]
    }
   ],
   "source": [
    "print(word_embeddings.shape)\n",
    "print(word_embeddings)"
   ]
  },
  {
   "cell_type": "code",
   "execution_count": 4,
   "metadata": {
    "colab": {
     "base_uri": "https://localhost:8080/",
     "height": 133
    },
    "colab_type": "code",
    "executionInfo": {
     "elapsed": 368,
     "status": "ok",
     "timestamp": 1590706838398,
     "user": {
      "displayName": "Seth Temple",
      "photoUrl": "https://lh3.googleusercontent.com/a-/AOh14Giz69LPoE8INV72_fYIhJvxiSaLfRpvy2eWBFiA=s64",
      "userId": "17433938564997003990"
     },
     "user_tz": 420
    },
    "id": "bnhUOCzQXJg9",
    "outputId": "bde568e3-b21e-41f9-8ba4-a5e6f39a6c8d"
   },
   "outputs": [
    {
     "name": "stdout",
     "output_type": "stream",
     "text": [
      "(1250, 64)\n",
      "[[0.19061647 0.25242203 0.         ... 0.         0.         0.        ]\n",
      " [0.         0.         0.         ... 0.         0.         0.        ]\n",
      " [0.         0.00666978 0.         ... 0.         0.         0.        ]\n",
      " ...\n",
      " [0.         0.00793666 0.00150549 ... 0.         0.         0.        ]\n",
      " [0.         0.         0.         ... 0.17579547 0.         0.        ]\n",
      " [0.01138986 0.02343361 0.         ... 0.         0.         0.        ]]\n"
     ]
    }
   ],
   "source": [
    "print(review_embeddings.shape)\n",
    "print(review_embeddings)"
   ]
  },
  {
   "cell_type": "code",
   "execution_count": 5,
   "metadata": {
    "colab": {
     "base_uri": "https://localhost:8080/",
     "height": 117
    },
    "colab_type": "code",
    "executionInfo": {
     "elapsed": 345,
     "status": "ok",
     "timestamp": 1590706859902,
     "user": {
      "displayName": "Seth Temple",
      "photoUrl": "https://lh3.googleusercontent.com/a-/AOh14Giz69LPoE8INV72_fYIhJvxiSaLfRpvy2eWBFiA=s64",
      "userId": "17433938564997003990"
     },
     "user_tz": 420
    },
    "id": "7Stb86b2XK4t",
    "outputId": "a0f8f5dc-5dd5-46f7-f8a9-44c8a4ca10ca"
   },
   "outputs": [
    {
     "name": "stdout",
     "output_type": "stream",
     "text": [
      "20\n"
     ]
    },
    {
     "name": "stderr",
     "output_type": "stream",
     "text": [
      "/home/ovmurad/anaconda3/lib/python3.7/site-packages/sklearn/decomposition/_nmf.py:1641: ConvergenceWarning: Maximum number of iterations 200 reached. Increase it to improve convergence.\n",
      "  ConvergenceWarning,\n"
     ]
    },
    {
     "name": "stdout",
     "output_type": "stream",
     "text": [
      "60\n"
     ]
    },
    {
     "name": "stderr",
     "output_type": "stream",
     "text": [
      "/home/ovmurad/anaconda3/lib/python3.7/site-packages/sklearn/decomposition/_nmf.py:1641: ConvergenceWarning: Maximum number of iterations 200 reached. Increase it to improve convergence.\n",
      "  ConvergenceWarning,\n"
     ]
    },
    {
     "name": "stdout",
     "output_type": "stream",
     "text": [
      "100\n",
      "140\n",
      "180\n"
     ]
    },
    {
     "name": "stderr",
     "output_type": "stream",
     "text": [
      "/home/ovmurad/anaconda3/lib/python3.7/site-packages/sklearn/decomposition/_nmf.py:1641: ConvergenceWarning: Maximum number of iterations 200 reached. Increase it to improve convergence.\n",
      "  ConvergenceWarning,\n"
     ]
    },
    {
     "name": "stdout",
     "output_type": "stream",
     "text": [
      "220\n",
      "260\n"
     ]
    },
    {
     "name": "stderr",
     "output_type": "stream",
     "text": [
      "/home/ovmurad/anaconda3/lib/python3.7/site-packages/sklearn/decomposition/_nmf.py:1641: ConvergenceWarning: Maximum number of iterations 200 reached. Increase it to improve convergence.\n",
      "  ConvergenceWarning,\n"
     ]
    },
    {
     "data": {
      "image/png": "[encoded data removed]",
      "text/plain": [
       "<Figure size 720x360 with 1 Axes>"
      ]
     },
     "metadata": {
      "needs_background": "light"
     },
     "output_type": "display_data"
    }
   ],
   "source": [
    "import matplotlib.pyplot as plt\n",
    "\n",
    "# plot the reconstruction error as function of the number of factors\n",
    "# going to take a bit to compute\n",
    "num_components = np.arange(20, 261, 40)\n",
    "rec_errors = []\n",
    "for nc in num_components:\n",
    "    print(nc)\n",
    "    model = NMF(n_components=nc, init='random', random_state=0)\n",
    "    model.fit_transform(count_matrix)\n",
    "    rec_errors.append(model.reconstruction_err_)\n",
    "\n",
    "fig, ax = plt.subplots(figsize=(10, 5))\n",
    "ax.plot(num_components, rec_errors, marker='o')\n",
    "ax.set_ylim(0, 50)\n",
    "ax.set_xlabel(\"Number of Components/Embedding Size\")\n",
    "ax.set_ylabel(\"Objective Function\")\n",
    "ax.grid(which='both')"
   ]
  },
  {
   "cell_type": "code",
   "execution_count": 14,
   "metadata": {},
   "outputs": [
    {
     "name": "stdout",
     "output_type": "stream",
     "text": [
      "Closest 10 words to pasta\n",
      "['pasta', 'macaroni', 'mac', 'cheese', 'kraft', 'veggie', 'servings', 'annies', 'prepared', 'veggies']\n",
      "Closest 10 words to sweet\n",
      "['sweet', 'overly', 'sugary', 'available', 'stevia', 'description', 'beverage', 'came', 'overpowering', 'candy']\n",
      "Closest 10 words to chicken\n",
      "['chicken', 'meat', 'broth', 'beef', 'couple', 'chili', 'vegetables', 'slim', 'adding', 'soft']\n",
      "Closest 10 words to spice\n",
      "['spice', 'lemon', 'cinnamon', 'gum', 'apple', 'juice', 'chai', 'licorice', 'hardly', 'unpleasant']\n"
     ]
    }
   ],
   "source": [
    "from sklearn.metrics import pairwise_distances\n",
    "\n",
    "# print the closest words to some query words\n",
    "\n",
    "def get_top_k_closest(data, word, k):\n",
    "    word_index = list(product_data.columns).index(word)\n",
    "    dist = pairwise_distances(data, data[word_index].reshape(1, -1), metric='cosine')\n",
    "    dist_args_sorted = np.argsort(dist.flatten())\n",
    "\n",
    "    print(\"Closest \" + str(k) +\" words to \" + word)\n",
    "    print([product_data.columns[dist_args_sorted[i]] for i in range(k)])\n",
    "\n",
    "get_top_k_closest(word_embeddings, \"pasta\", 10)\n",
    "get_top_k_closest(word_embeddings, \"sweet\", 10)\n",
    "get_top_k_closest(word_embeddings, \"chicken\", 10)\n",
    "get_top_k_closest(word_embeddings, \"spice\", 10)"
   ]
  }
 ],
 "metadata": {
  "colab": {
   "collapsed_sections": [],
   "name": "nmf_examples.ipynb",
   "provenance": []
  },
  "kernelspec": {
   "display_name": "Python 3",
   "language": "python",
   "name": "python3"
  },
  "language_info": {
   "codemirror_mode": {
    "name": "ipython",
    "version": 3
   },
   "file_extension": ".py",
   "mimetype": "text/x-python",
   "name": "python",
   "nbconvert_exporter": "python",
   "pygments_lexer": "ipython3",
   "version": "3.7.6"
  }
 },
 "nbformat": 4,
 "nbformat_minor": 1
}

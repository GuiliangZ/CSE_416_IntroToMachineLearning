{
 "cells": [
  {
   "cell_type": "markdown",
   "id": "300a9c0d",
   "metadata": {},
   "source": [
    "<h1><center>STAT/CSE 416 Lab 2: Ridge and LASSO Regression</center></h1>\n",
    "<center><b>Section:</b> AA/AB</center>\n",
    "<center><b>Instructor:</b> Datong</center>\n",
    "<center><b>TA:</b> Long Nguyen</center>\n",
    "<center><b>Date:</b> October 12, 2023</center>\n",
    "\n",
    "*Adapted from slides and notebooks from STAT/CSE 416 Spring 2021 TAs.*"
   ]
  },
  {
   "cell_type": "markdown",
   "id": "b5159482",
   "metadata": {},
   "source": [
    "## 1. Introduction\n",
    "\n",
    "This lab will cover:\n",
    "- Regularization by the $\\ell_2$-penalty.\n",
    "- Regularization by the $\\ell_1$-penalty.\n",
    "- Cross-validation to select hyperparameters."
   ]
  },
  {
   "cell_type": "markdown",
   "id": "9243e0a2",
   "metadata": {},
   "source": [
    "## 2. Concepts\n",
    "\n",
    "### 2.1. Why regularization?\n",
    "\n",
    "**Regularization** generally refers to adjustment to the learning objective or optimization algorithm that will \"smoothen\" the resulting predictor $\\hat{f}$ as an effort to **decrease variance** and **prevent overfitting**. (See [here](https://en.wikipedia.org/wiki/Overfitting) for examples.) \n",
    "\n",
    "A common framework for regularization involves decreasing the magnitude of the coefficients in the coefficient vector $w$. We use some measure $R(w)$ of the magnitude of the coefficients and add it to the training objective.\n",
    "$$\n",
    "\\min_{w} \\text{RSS}(w) + \\lambda R(w).\n",
    "$$\n",
    "Note that these terms will often be in competition with one another; do we care more about fitting the data (keeping $\\text{RSS}(w)$ small) or having small coefficients (keeping $R(w)$ small)? $\\lambda$ controls this trade off.\n",
    "\n",
    "**Exercise 2.1:**\n",
    "- Does increasing $\\lambda$ increase or decrease the values of the $w$ parameters?\n",
    "- Please explain why.\n",
    "- What would we expect to happen if we set $\\lambda < 0$?\n",
    "\n",
    "### 2.2. Ridge vs Lasso\n",
    "\n",
    "Ridge regression uses the $\\ell_2$ penalty, that is\n",
    "$$\n",
    "R(w) = ||w||_2^2 = \\sum_{j=1}^d |w_j|^2 = |w_1|^2 + ... + |w_d|^2.\n",
    "$$\n",
    "For those familiar with vector calculus or linear algebra, this is just the Euclidean length of $w$.\n",
    "LASSO regression uses the $\\ell_1$ penalty, that is\n",
    "$$\n",
    "R(w) = ||w||_1 = \\sum_{j=1}^d |w_j| = |w_1| + ... + |w_d|.\n",
    "$$"
   ]
  },
  {
   "cell_type": "markdown",
   "id": "c2e7828f",
   "metadata": {},
   "source": [
    "## 3. Preprocessing\n",
    "\n",
    "The basic preprocessing steps will be viewing and standardizing the data."
   ]
  },
  {
   "cell_type": "code",
   "execution_count": 1,
   "id": "8d88b2db",
   "metadata": {},
   "outputs": [],
   "source": [
    "import pandas as pd\n",
    "from sklearn.model_selection import train_test_split\n",
    "from sklearn.preprocessing import StandardScaler"
   ]
  },
  {
   "cell_type": "code",
   "execution_count": 2,
   "id": "63727b82",
   "metadata": {},
   "outputs": [
    {
     "name": "stdout",
     "output_type": "stream",
     "text": [
      "<class 'pandas.core.frame.DataFrame'>\n",
      "RangeIndex: 20000 entries, 0 to 19999\n",
      "Data columns (total 6 columns):\n",
      " #   Column  Non-Null Count  Dtype  \n",
      "---  ------  --------------  -----  \n",
      " 0   STA     20000 non-null  int64  \n",
      " 1   YR      20000 non-null  int64  \n",
      " 2   MO      20000 non-null  int64  \n",
      " 3   DA      20000 non-null  int64  \n",
      " 4   MAX     20000 non-null  float64\n",
      " 5   MIN     20000 non-null  float64\n",
      "dtypes: float64(2), int64(4)\n",
      "memory usage: 937.6 KB\n"
     ]
    }
   ],
   "source": [
    "# Read in weather data and view.\n",
    "weather = pd.read_csv(\"weather.csv\")\n",
    "weather.info()"
   ]
  },
  {
   "cell_type": "code",
   "execution_count": 3,
   "id": "06cbab96",
   "metadata": {},
   "outputs": [],
   "source": [
    "train_data, test_data = train_test_split(weather, random_state=42)\n",
    "\n",
    "input_cols = ['STA', 'YR', 'MO', 'DA', 'MIN']\n",
    "\n",
    "# TODO:\n",
    "train_X = train_data[input_cols]\n",
    "train_y = train_data[\"MAX\"]\n",
    "\n",
    "test_X = test_data[input_cols]\n",
    "test_y = test_data[\"MAX\"]"
   ]
  },
  {
   "cell_type": "code",
   "execution_count": 13,
   "id": "4f75b4e7",
   "metadata": {},
   "outputs": [
    {
     "data": {
      "text/html": [
       "<div>\n",
       "<style scoped>\n",
       "    .dataframe tbody tr th:only-of-type {\n",
       "        vertical-align: middle;\n",
       "    }\n",
       "\n",
       "    .dataframe tbody tr th {\n",
       "        vertical-align: top;\n",
       "    }\n",
       "\n",
       "    .dataframe thead th {\n",
       "        text-align: right;\n",
       "    }\n",
       "</style>\n",
       "<table border=\"1\" class=\"dataframe\">\n",
       "  <thead>\n",
       "    <tr style=\"text-align: right;\">\n",
       "      <th></th>\n",
       "      <th>STA</th>\n",
       "      <th>YR</th>\n",
       "      <th>MO</th>\n",
       "      <th>DA</th>\n",
       "      <th>MIN</th>\n",
       "    </tr>\n",
       "  </thead>\n",
       "  <tbody>\n",
       "    <tr>\n",
       "      <th>5514</th>\n",
       "      <td>50403</td>\n",
       "      <td>44</td>\n",
       "      <td>1</td>\n",
       "      <td>23</td>\n",
       "      <td>72.0</td>\n",
       "    </tr>\n",
       "    <tr>\n",
       "      <th>1266</th>\n",
       "      <td>16405</td>\n",
       "      <td>42</td>\n",
       "      <td>7</td>\n",
       "      <td>25</td>\n",
       "      <td>41.0</td>\n",
       "    </tr>\n",
       "    <tr>\n",
       "      <th>5864</th>\n",
       "      <td>10002</td>\n",
       "      <td>44</td>\n",
       "      <td>9</td>\n",
       "      <td>5</td>\n",
       "      <td>74.0</td>\n",
       "    </tr>\n",
       "    <tr>\n",
       "      <th>15865</th>\n",
       "      <td>62701</td>\n",
       "      <td>43</td>\n",
       "      <td>4</td>\n",
       "      <td>18</td>\n",
       "      <td>70.0</td>\n",
       "    </tr>\n",
       "    <tr>\n",
       "      <th>12892</th>\n",
       "      <td>31701</td>\n",
       "      <td>43</td>\n",
       "      <td>5</td>\n",
       "      <td>19</td>\n",
       "      <td>66.0</td>\n",
       "    </tr>\n",
       "  </tbody>\n",
       "</table>\n",
       "</div>"
      ],
      "text/plain": [
       "         STA  YR  MO  DA   MIN\n",
       "5514   50403  44   1  23  72.0\n",
       "1266   16405  42   7  25  41.0\n",
       "5864   10002  44   9   5  74.0\n",
       "15865  62701  43   4  18  70.0\n",
       "12892  31701  43   5  19  66.0"
      ]
     },
     "execution_count": 13,
     "metadata": {},
     "output_type": "execute_result"
    }
   ],
   "source": [
    "train_X.head()"
   ]
  },
  {
   "cell_type": "markdown",
   "id": "fa59bab4",
   "metadata": {},
   "source": [
    "Check the shape of each set to make sure they make sense!"
   ]
  },
  {
   "cell_type": "code",
   "execution_count": 6,
   "id": "118ec8c8",
   "metadata": {},
   "outputs": [
    {
     "name": "stdout",
     "output_type": "stream",
     "text": [
      "train input data shape: (15000, 5)\n",
      "train target data shape: (15000,)\n",
      "\n",
      "test input data shape: (5000, 5)\n",
      "test target data shape: (5000,)\n"
     ]
    }
   ],
   "source": [
    "print(\"train input data shape:\", train_X.shape)\n",
    "print(\"train target data shape:\", train_y.shape)\n",
    "print()\n",
    "print(\"test input data shape:\", test_X.shape)\n",
    "print(\"test target data shape:\", test_y.shape)"
   ]
  },
  {
   "cell_type": "markdown",
   "id": "2e8358c9",
   "metadata": {},
   "source": [
    "**Exercise 3.1:** Normalize training and test set input data (`X`) using statistics generated from the training set. To do this, use the [Standard Scaler](https://scikit-learn.org/stable/modules/generated/sklearn.preprocessing.StandardScaler.html) from sklearn."
   ]
  },
  {
   "cell_type": "code",
   "execution_count": 8,
   "id": "ab2958d1",
   "metadata": {},
   "outputs": [],
   "source": [
    "scaler = StandardScaler().fit(train_X, train_y)\n",
    "\n",
    "# TODO:\n",
    "train_X_norm = None\n",
    "test_X_norm = None"
   ]
  },
  {
   "cell_type": "markdown",
   "id": "f90f65fb",
   "metadata": {},
   "source": [
    "## 4. Ridge Regression\n",
    "\n",
    "We create a [Ridge](https://scikit-learn.org/stable/modules/generated/sklearn.linear_model.Ridge.html) linear model with a regularization coefficent of `1.0`. \n",
    "\n",
    "Note: This coefficent is referred to as \"lambda ($\\lambda$)\" in course material and \"alpha $\\alpha$\" in the `sklearn` docs. They are the same thing!"
   ]
  },
  {
   "cell_type": "code",
   "execution_count": 9,
   "id": "9383a68b",
   "metadata": {},
   "outputs": [],
   "source": [
    "from sklearn.linear_model import Ridge\n",
    "from sklearn.model_selection import cross_val_score\n",
    "from sklearn.metrics import mean_squared_error"
   ]
  },
  {
   "cell_type": "markdown",
   "id": "9e49f371",
   "metadata": {},
   "source": [
    "**Exercise 4.1:** Train the model using the training data and output the training error."
   ]
  },
  {
   "cell_type": "code",
   "execution_count": 10,
   "id": "a7063c27",
   "metadata": {},
   "outputs": [],
   "source": [
    "# TODO: \n",
    "ridge_model = None"
   ]
  },
  {
   "cell_type": "markdown",
   "id": "8de65eb4",
   "metadata": {},
   "source": [
    "**Exercise 4.2:** Define a function `rmse(mode, X, y)` that calculates the RMSE error for a given mode, input, and target data."
   ]
  },
  {
   "cell_type": "code",
   "execution_count": 11,
   "id": "5dc15752",
   "metadata": {},
   "outputs": [],
   "source": [
    "# TODO:\n",
    "def rmse(model, X, y):\n",
    "    pass"
   ]
  },
  {
   "cell_type": "markdown",
   "id": "7b5b7a48",
   "metadata": {},
   "source": [
    "**Exercise 4.3:** Perform 5-fold cross validation with your Ridge model. Output the array of errors (length 5) as well as the mean error. You should use [Cross Validation Score](https://scikit-learn.org/stable/modules/generated/sklearn.model_selection.cross_val_score.html?highlight=cross_val_scor) from `sklearn` to do this."
   ]
  },
  {
   "cell_type": "code",
   "execution_count": null,
   "id": "b23294c2",
   "metadata": {},
   "outputs": [],
   "source": [
    "# TODO: \n",
    "ridge_CV_scores = cross_val_score(None, None, None, cv=5, scoring=rmse)\n",
    "ridge_CV_scores"
   ]
  },
  {
   "cell_type": "markdown",
   "id": "15c1b8e2",
   "metadata": {},
   "source": [
    "Perform 5-fold cross validation on Ridge models with a range of `alpha` values. For each `alpha`, print the `alpha` value and the corresponding mean CV score."
   ]
  },
  {
   "cell_type": "code",
   "execution_count": null,
   "id": "ce05a736",
   "metadata": {},
   "outputs": [],
   "source": [
    "for reg_coef in [0.1, 1, 10, 100, 1000, 10000]:\n",
    "    ridge_model = Ridge(alpha=reg_coef)\n",
    "    ridge_CV_scores = cross_val_score(ridge_model, train_X_norm, train_y, cv=5, scoring=rmse)\n",
    "    print(reg_coef, ridge_CV_scores.mean(), sep='\\t')"
   ]
  },
  {
   "cell_type": "markdown",
   "id": "53e2620c",
   "metadata": {},
   "source": [
    "Take a look at how the weights of Ridge models change as you change the regularization coefficient!"
   ]
  },
  {
   "cell_type": "code",
   "execution_count": null,
   "id": "78f56374",
   "metadata": {},
   "outputs": [],
   "source": [
    "for reg_coef in [1, 100, 10e4, 10e7, 10e12]:\n",
    "    ridge_model = Ridge(alpha=reg_coef)\n",
    "    ridge_model.fit(train_X_norm, train_y)\n",
    "    print(f\"Lambda: \\t {reg_coef}\")\n",
    "    print(f\"Intercept: \\t {ridge_model.intercept_}\")\n",
    "    print(f\"Coefficients: \\t {ridge_model.coef_}\")\n",
    "    print(\"------------------\")"
   ]
  },
  {
   "cell_type": "markdown",
   "id": "07f2be1b",
   "metadata": {},
   "source": [
    "# 5. Regularization with LASSO\n",
    "\n",
    "Create a [LASSO](https://scikit-learn.org/stable/modules/generated/sklearn.linear_model.Lasso.html) linear model with a regularization coefficent of `1.0`."
   ]
  },
  {
   "cell_type": "code",
   "execution_count": null,
   "id": "3d8c99de",
   "metadata": {},
   "outputs": [],
   "source": [
    "from sklearn.linear_model import Lasso"
   ]
  },
  {
   "cell_type": "code",
   "execution_count": null,
   "id": "6a2f9e51",
   "metadata": {},
   "outputs": [],
   "source": [
    "lasso_model = Lasso().fit(train_X_norm, train_y)\n",
    "rmse(lasso_model, train_X_norm, train_y)"
   ]
  },
  {
   "cell_type": "markdown",
   "id": "09fd7404",
   "metadata": {},
   "source": [
    "Perform 5-fold cross validation with your LASSO model. Output the array of errors (length 5) as well as the mean error."
   ]
  },
  {
   "cell_type": "code",
   "execution_count": null,
   "id": "92c95d6c",
   "metadata": {},
   "outputs": [],
   "source": [
    "lasso_CV_scores = cross_val_score(Lasso(), train_X_norm, train_y, cv=5, scoring=rmse)"
   ]
  },
  {
   "cell_type": "markdown",
   "id": "9a7ef951",
   "metadata": {},
   "source": [
    "Perform 5-fold cross validation with your Ridge model. Output the array of errors (length 5) as well as the mean error. You should use [Cross Validation Score](https://scikit-learn.org/stable/modules/generated/sklearn.model_selection.cross_val_score.html?highlight=cross_val_scor) from `sklearn` to do this."
   ]
  },
  {
   "cell_type": "code",
   "execution_count": null,
   "id": "526a57aa",
   "metadata": {},
   "outputs": [],
   "source": [
    "for reg_coef in [1e-6, 1e-5, 1e-4, 1e-3, 1e-2, 0.1, 1, 10, 100, 1000]:\n",
    "    lasso_model = Lasso(alpha=reg_coef)\n",
    "    lasso_CV_scores = cross_val_score(lasso_model, train_X_norm, train_y, cv=5, scoring=rmse)\n",
    "    print(reg_coef, lasso_CV_scores.mean(), sep='\\t')"
   ]
  },
  {
   "cell_type": "markdown",
   "id": "5e59d09c",
   "metadata": {},
   "source": [
    "Take a look at how the weights of LASSO models change as you change the regularization coefficient! For reasons we might not delve into in this course, LASSO tends to find **sparse** solutions, i.e. solutions that have many zeros in the coefficient vector."
   ]
  },
  {
   "cell_type": "code",
   "execution_count": null,
   "id": "69ca205d",
   "metadata": {},
   "outputs": [],
   "source": [
    "for reg_coef in [0.001, 0.1, 1, 10, 100]:\n",
    "    lasso_model = Lasso(alpha=reg_coef)\n",
    "    lasso_model.fit(train_X_norm, train_y)\n",
    "    print(lasso_model.intercept_, lasso_model.coef_)"
   ]
  },
  {
   "cell_type": "markdown",
   "id": "674d4cff",
   "metadata": {},
   "source": [
    "**Exercise 5.1:** Using the regularization coefficient that leads to the best validation error, compute test scores for a Ridge and LASSO model."
   ]
  },
  {
   "cell_type": "code",
   "execution_count": null,
   "id": "f63d3b90",
   "metadata": {},
   "outputs": [],
   "source": [
    "# TODO:\n",
    "print(\"Ridge\", rmse(Ridge(alpha=None).fit(train_X_norm, train_y), test_X_norm, test_y))\n",
    "print(\"LASSO\", rmse(Lasso(alpha=None).fit(train_X_norm, train_y), test_X_norm, test_y))"
   ]
  }
 ],
 "metadata": {
  "kernelspec": {
   "display_name": "Python 3",
   "language": "python",
   "name": "python3"
  },
  "language_info": {
   "codemirror_mode": {
    "name": "ipython",
    "version": 3
   },
   "file_extension": ".py",
   "mimetype": "text/x-python",
   "name": "python",
   "nbconvert_exporter": "python",
   "pygments_lexer": "ipython3",
   "version": "3.11.6"
  }
 },
 "nbformat": 4,
 "nbformat_minor": 5
}

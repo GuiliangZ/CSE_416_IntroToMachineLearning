{
  "cells": [
    {
      "cell_type": "markdown",
      "id": "300a9c0d",
      "metadata": {
        "id": "300a9c0d"
      },
      "source": [
        "<h1><center>STAT/CSE 416 Lab 2: Ridge and LASSO Regression</center></h1>\n",
        "<center><b>Section:</b> AA/AB</center>\n",
        "<center><b>Instructor:</b> Datong</center>\n",
        "<center><b>TA:</b> Long Nguyen</center>\n",
        "<center><b>Date:</b> October 12, 2023</center>\n",
        "\n",
        "*Adapted from slides and notebooks from STAT/CSE 416 Spring 2021 TAs.*"
      ]
    },
    {
      "cell_type": "markdown",
      "id": "b5159482",
      "metadata": {
        "id": "b5159482"
      },
      "source": [
        "## 1. Introduction\n",
        "\n",
        "This lab will cover:\n",
        "- Regularization by the $\\ell_2$-penalty.\n",
        "- Regularization by the $\\ell_1$-penalty.\n",
        "- Cross-validation to select hyperparameters."
      ]
    },
    {
      "cell_type": "markdown",
      "id": "9243e0a2",
      "metadata": {
        "id": "9243e0a2"
      },
      "source": [
        "## 2. Concepts\n",
        "\n",
        "### 2.1. Why regularization?\n",
        "\n",
        "**Regularization** generally refers to adjustment to the learning objective or optimization algorithm that will \"smoothen\" the resulting predictor $\\hat{f}$ as an effort to **decrease variance** and **prevent overfitting**. (See [here](https://en.wikipedia.org/wiki/Overfitting) for examples.)\n",
        "\n",
        "A common framework for regularization involves decreasing the magnitude of the coefficients in the coefficient vector $w$. We use some measure $R(w)$ of the magnitude of the coefficients and add it to the training objective.\n",
        "$$\n",
        "\\min_{w} \\text{RSS}(w) + \\lambda R(w).\n",
        "$$\n",
        "Note that these terms will often be in competition with one another; do we care more about fitting the data (keeping $\\text{RSS}(w)$ small) or having small coefficients (keeping $R(w)$ small)? $\\lambda$ controls this trade off.\n",
        "\n",
        "**Exercise 2.1:**\n",
        "- Does increasing $\\lambda$ increase or decrease the values of the $w$ parameters?\n",
        "- Please explain why.\n",
        "- What would we expect to happen if we set $\\lambda < 0$?\n",
        "\n",
        "### 2.2. Ridge vs Lasso\n",
        "\n",
        "Ridge regression uses the $\\ell_2$ penalty, that is\n",
        "$$\n",
        "R(w) = ||w||_2^2 = \\sum_{j=1}^d |w_j|^2 = |w_1|^2 + ... + |w_d|^2.\n",
        "$$\n",
        "For those familiar with vector calculus or linear algebra, this is just the Euclidean length of $w$.\n",
        "LASSO regression uses the $\\ell_1$ penalty, that is\n",
        "$$\n",
        "R(w) = ||w||_1 = \\sum_{j=1}^d |w_j| = |w_1| + ... + |w_d|.\n",
        "$$"
      ]
    },
    {
      "cell_type": "markdown",
      "id": "c2e7828f",
      "metadata": {
        "id": "c2e7828f"
      },
      "source": [
        "## 3. Preprocessing\n",
        "\n",
        "The basic preprocessing steps will be viewing and standardizing the data."
      ]
    },
    {
      "cell_type": "code",
      "execution_count": 1,
      "id": "8d88b2db",
      "metadata": {
        "id": "8d88b2db"
      },
      "outputs": [],
      "source": [
        "import pandas as pd\n",
        "from sklearn.model_selection import train_test_split\n",
        "from sklearn.preprocessing import StandardScaler"
      ]
    },
    {
      "cell_type": "code",
      "execution_count": 2,
      "id": "63727b82",
      "metadata": {
        "colab": {
          "base_uri": "https://localhost:8080/"
        },
        "id": "63727b82",
        "outputId": "a83d7b43-2923-422b-e2e4-ab73baa21720"
      },
      "outputs": [
        {
          "name": "stdout",
          "output_type": "stream",
          "text": [
            "<class 'pandas.core.frame.DataFrame'>\n",
            "RangeIndex: 20000 entries, 0 to 19999\n",
            "Data columns (total 6 columns):\n",
            " #   Column  Non-Null Count  Dtype  \n",
            "---  ------  --------------  -----  \n",
            " 0   STA     20000 non-null  int64  \n",
            " 1   YR      20000 non-null  int64  \n",
            " 2   MO      20000 non-null  int64  \n",
            " 3   DA      20000 non-null  int64  \n",
            " 4   MAX     20000 non-null  float64\n",
            " 5   MIN     20000 non-null  float64\n",
            "dtypes: float64(2), int64(4)\n",
            "memory usage: 937.6 KB\n"
          ]
        }
      ],
      "source": [
        "# Read in weather data and view.\n",
        "weather = pd.read_csv(\"weather.csv\")\n",
        "weather.info()"
      ]
    },
    {
      "cell_type": "code",
      "execution_count": 3,
      "id": "06cbab96",
      "metadata": {
        "id": "06cbab96"
      },
      "outputs": [],
      "source": [
        "train_data, test_data = train_test_split(weather, random_state=42)\n",
        "\n",
        "input_cols = ['STA', 'YR', 'MO', 'DA', 'MIN']\n",
        "\n",
        "# TODO:\n",
        "train_X = train_data[input_cols]\n",
        "train_y = train_data[\"MAX\"]\n",
        "\n",
        "test_X = test_data[input_cols]\n",
        "test_y = test_data[\"MAX\"]"
      ]
    },
    {
      "cell_type": "code",
      "execution_count": 4,
      "id": "0c838083",
      "metadata": {
        "colab": {
          "base_uri": "https://localhost:8080/",
          "height": 206
        },
        "id": "0c838083",
        "outputId": "890ed14d-6257-4766-b256-40d3602b9e8f"
      },
      "outputs": [
        {
          "data": {
            "text/html": [
              "\n",
              "  <div id=\"df-c82b84e5-52c1-4bbb-b433-9a5fc78273ee\" class=\"colab-df-container\">\n",
              "    <div>\n",
              "<style scoped>\n",
              "    .dataframe tbody tr th:only-of-type {\n",
              "        vertical-align: middle;\n",
              "    }\n",
              "\n",
              "    .dataframe tbody tr th {\n",
              "        vertical-align: top;\n",
              "    }\n",
              "\n",
              "    .dataframe thead th {\n",
              "        text-align: right;\n",
              "    }\n",
              "</style>\n",
              "<table border=\"1\" class=\"dataframe\">\n",
              "  <thead>\n",
              "    <tr style=\"text-align: right;\">\n",
              "      <th></th>\n",
              "      <th>STA</th>\n",
              "      <th>YR</th>\n",
              "      <th>MO</th>\n",
              "      <th>DA</th>\n",
              "      <th>MIN</th>\n",
              "    </tr>\n",
              "  </thead>\n",
              "  <tbody>\n",
              "    <tr>\n",
              "      <th>5514</th>\n",
              "      <td>50403</td>\n",
              "      <td>44</td>\n",
              "      <td>1</td>\n",
              "      <td>23</td>\n",
              "      <td>72.0</td>\n",
              "    </tr>\n",
              "    <tr>\n",
              "      <th>1266</th>\n",
              "      <td>16405</td>\n",
              "      <td>42</td>\n",
              "      <td>7</td>\n",
              "      <td>25</td>\n",
              "      <td>41.0</td>\n",
              "    </tr>\n",
              "    <tr>\n",
              "      <th>5864</th>\n",
              "      <td>10002</td>\n",
              "      <td>44</td>\n",
              "      <td>9</td>\n",
              "      <td>5</td>\n",
              "      <td>74.0</td>\n",
              "    </tr>\n",
              "    <tr>\n",
              "      <th>15865</th>\n",
              "      <td>62701</td>\n",
              "      <td>43</td>\n",
              "      <td>4</td>\n",
              "      <td>18</td>\n",
              "      <td>70.0</td>\n",
              "    </tr>\n",
              "    <tr>\n",
              "      <th>12892</th>\n",
              "      <td>31701</td>\n",
              "      <td>43</td>\n",
              "      <td>5</td>\n",
              "      <td>19</td>\n",
              "      <td>66.0</td>\n",
              "    </tr>\n",
              "  </tbody>\n",
              "</table>\n",
              "</div>\n",
              "    <div class=\"colab-df-buttons\">\n",
              "\n",
              "  <div class=\"colab-df-container\">\n",
              "    <button class=\"colab-df-convert\" onclick=\"convertToInteractive('df-c82b84e5-52c1-4bbb-b433-9a5fc78273ee')\"\n",
              "            title=\"Convert this dataframe to an interactive table.\"\n",
              "            style=\"display:none;\">\n",
              "\n",
              "  <svg xmlns=\"http://www.w3.org/2000/svg\" height=\"24px\" viewBox=\"0 -960 960 960\">\n",
              "    <path d=\"M120-120v-720h720v720H120Zm60-500h600v-160H180v160Zm220 220h160v-160H400v160Zm0 220h160v-160H400v160ZM180-400h160v-160H180v160Zm440 0h160v-160H620v160ZM180-180h160v-160H180v160Zm440 0h160v-160H620v160Z\"/>\n",
              "  </svg>\n",
              "    </button>\n",
              "\n",
              "  <style>\n",
              "    .colab-df-container {\n",
              "      display:flex;\n",
              "      gap: 12px;\n",
              "    }\n",
              "\n",
              "    .colab-df-convert {\n",
              "      background-color: #E8F0FE;\n",
              "      border: none;\n",
              "      border-radius: 50%;\n",
              "      cursor: pointer;\n",
              "      display: none;\n",
              "      fill: #1967D2;\n",
              "      height: 32px;\n",
              "      padding: 0 0 0 0;\n",
              "      width: 32px;\n",
              "    }\n",
              "\n",
              "    .colab-df-convert:hover {\n",
              "      background-color: #E2EBFA;\n",
              "      box-shadow: 0px 1px 2px rgba(60, 64, 67, 0.3), 0px 1px 3px 1px rgba(60, 64, 67, 0.15);\n",
              "      fill: #174EA6;\n",
              "    }\n",
              "\n",
              "    .colab-df-buttons div {\n",
              "      margin-bottom: 4px;\n",
              "    }\n",
              "\n",
              "    [theme=dark] .colab-df-convert {\n",
              "      background-color: #3B4455;\n",
              "      fill: #D2E3FC;\n",
              "    }\n",
              "\n",
              "    [theme=dark] .colab-df-convert:hover {\n",
              "      background-color: #434B5C;\n",
              "      box-shadow: 0px 1px 3px 1px rgba(0, 0, 0, 0.15);\n",
              "      filter: drop-shadow(0px 1px 2px rgba(0, 0, 0, 0.3));\n",
              "      fill: #FFFFFF;\n",
              "    }\n",
              "  </style>\n",
              "\n",
              "    <script>\n",
              "      const buttonEl =\n",
              "        document.querySelector('#df-c82b84e5-52c1-4bbb-b433-9a5fc78273ee button.colab-df-convert');\n",
              "      buttonEl.style.display =\n",
              "        google.colab.kernel.accessAllowed ? 'block' : 'none';\n",
              "\n",
              "      async function convertToInteractive(key) {\n",
              "        const element = document.querySelector('#df-c82b84e5-52c1-4bbb-b433-9a5fc78273ee');\n",
              "        const dataTable =\n",
              "          await google.colab.kernel.invokeFunction('convertToInteractive',\n",
              "                                                    [key], {});\n",
              "        if (!dataTable) return;\n",
              "\n",
              "        const docLinkHtml = 'Like what you see? Visit the ' +\n",
              "          '<a target=\"_blank\" href=https://colab.research.google.com/notebooks/data_table.ipynb>data table notebook</a>'\n",
              "          + ' to learn more about interactive tables.';\n",
              "        element.innerHTML = '';\n",
              "        dataTable['output_type'] = 'display_data';\n",
              "        await google.colab.output.renderOutput(dataTable, element);\n",
              "        const docLink = document.createElement('div');\n",
              "        docLink.innerHTML = docLinkHtml;\n",
              "        element.appendChild(docLink);\n",
              "      }\n",
              "    </script>\n",
              "  </div>\n",
              "\n",
              "\n",
              "<div id=\"df-c4548be7-9d73-499a-98d4-26188880ad4c\">\n",
              "  <button class=\"colab-df-quickchart\" onclick=\"quickchart('df-c4548be7-9d73-499a-98d4-26188880ad4c')\"\n",
              "            title=\"Suggest charts.\"\n",
              "            style=\"display:none;\">\n",
              "\n",
              "<svg xmlns=\"http://www.w3.org/2000/svg\" height=\"24px\"viewBox=\"0 0 24 24\"\n",
              "     width=\"24px\">\n",
              "    <g>\n",
              "        <path d=\"M19 3H5c-1.1 0-2 .9-2 2v14c0 1.1.9 2 2 2h14c1.1 0 2-.9 2-2V5c0-1.1-.9-2-2-2zM9 17H7v-7h2v7zm4 0h-2V7h2v10zm4 0h-2v-4h2v4z\"/>\n",
              "    </g>\n",
              "</svg>\n",
              "  </button>\n",
              "\n",
              "<style>\n",
              "  .colab-df-quickchart {\n",
              "      --bg-color: #E8F0FE;\n",
              "      --fill-color: #1967D2;\n",
              "      --hover-bg-color: #E2EBFA;\n",
              "      --hover-fill-color: #174EA6;\n",
              "      --disabled-fill-color: #AAA;\n",
              "      --disabled-bg-color: #DDD;\n",
              "  }\n",
              "\n",
              "  [theme=dark] .colab-df-quickchart {\n",
              "      --bg-color: #3B4455;\n",
              "      --fill-color: #D2E3FC;\n",
              "      --hover-bg-color: #434B5C;\n",
              "      --hover-fill-color: #FFFFFF;\n",
              "      --disabled-bg-color: #3B4455;\n",
              "      --disabled-fill-color: #666;\n",
              "  }\n",
              "\n",
              "  .colab-df-quickchart {\n",
              "    background-color: var(--bg-color);\n",
              "    border: none;\n",
              "    border-radius: 50%;\n",
              "    cursor: pointer;\n",
              "    display: none;\n",
              "    fill: var(--fill-color);\n",
              "    height: 32px;\n",
              "    padding: 0;\n",
              "    width: 32px;\n",
              "  }\n",
              "\n",
              "  .colab-df-quickchart:hover {\n",
              "    background-color: var(--hover-bg-color);\n",
              "    box-shadow: 0 1px 2px rgba(60, 64, 67, 0.3), 0 1px 3px 1px rgba(60, 64, 67, 0.15);\n",
              "    fill: var(--button-hover-fill-color);\n",
              "  }\n",
              "\n",
              "  .colab-df-quickchart-complete:disabled,\n",
              "  .colab-df-quickchart-complete:disabled:hover {\n",
              "    background-color: var(--disabled-bg-color);\n",
              "    fill: var(--disabled-fill-color);\n",
              "    box-shadow: none;\n",
              "  }\n",
              "\n",
              "  .colab-df-spinner {\n",
              "    border: 2px solid var(--fill-color);\n",
              "    border-color: transparent;\n",
              "    border-bottom-color: var(--fill-color);\n",
              "    animation:\n",
              "      spin 1s steps(1) infinite;\n",
              "  }\n",
              "\n",
              "  @keyframes spin {\n",
              "    0% {\n",
              "      border-color: transparent;\n",
              "      border-bottom-color: var(--fill-color);\n",
              "      border-left-color: var(--fill-color);\n",
              "    }\n",
              "    20% {\n",
              "      border-color: transparent;\n",
              "      border-left-color: var(--fill-color);\n",
              "      border-top-color: var(--fill-color);\n",
              "    }\n",
              "    30% {\n",
              "      border-color: transparent;\n",
              "      border-left-color: var(--fill-color);\n",
              "      border-top-color: var(--fill-color);\n",
              "      border-right-color: var(--fill-color);\n",
              "    }\n",
              "    40% {\n",
              "      border-color: transparent;\n",
              "      border-right-color: var(--fill-color);\n",
              "      border-top-color: var(--fill-color);\n",
              "    }\n",
              "    60% {\n",
              "      border-color: transparent;\n",
              "      border-right-color: var(--fill-color);\n",
              "    }\n",
              "    80% {\n",
              "      border-color: transparent;\n",
              "      border-right-color: var(--fill-color);\n",
              "      border-bottom-color: var(--fill-color);\n",
              "    }\n",
              "    90% {\n",
              "      border-color: transparent;\n",
              "      border-bottom-color: var(--fill-color);\n",
              "    }\n",
              "  }\n",
              "</style>\n",
              "\n",
              "  <script>\n",
              "    async function quickchart(key) {\n",
              "      const quickchartButtonEl =\n",
              "        document.querySelector('#' + key + ' button');\n",
              "      quickchartButtonEl.disabled = true;  // To prevent multiple clicks.\n",
              "      quickchartButtonEl.classList.add('colab-df-spinner');\n",
              "      try {\n",
              "        const charts = await google.colab.kernel.invokeFunction(\n",
              "            'suggestCharts', [key], {});\n",
              "      } catch (error) {\n",
              "        console.error('Error during call to suggestCharts:', error);\n",
              "      }\n",
              "      quickchartButtonEl.classList.remove('colab-df-spinner');\n",
              "      quickchartButtonEl.classList.add('colab-df-quickchart-complete');\n",
              "    }\n",
              "    (() => {\n",
              "      let quickchartButtonEl =\n",
              "        document.querySelector('#df-c4548be7-9d73-499a-98d4-26188880ad4c button');\n",
              "      quickchartButtonEl.style.display =\n",
              "        google.colab.kernel.accessAllowed ? 'block' : 'none';\n",
              "    })();\n",
              "  </script>\n",
              "</div>\n",
              "    </div>\n",
              "  </div>\n"
            ],
            "text/plain": [
              "         STA  YR  MO  DA   MIN\n",
              "5514   50403  44   1  23  72.0\n",
              "1266   16405  42   7  25  41.0\n",
              "5864   10002  44   9   5  74.0\n",
              "15865  62701  43   4  18  70.0\n",
              "12892  31701  43   5  19  66.0"
            ]
          },
          "execution_count": 4,
          "metadata": {},
          "output_type": "execute_result"
        }
      ],
      "source": [
        "train_X.head()"
      ]
    },
    {
      "cell_type": "markdown",
      "id": "fa59bab4",
      "metadata": {
        "id": "fa59bab4"
      },
      "source": [
        "Check the shape of each set to make sure they make sense!"
      ]
    },
    {
      "cell_type": "code",
      "execution_count": 5,
      "id": "118ec8c8",
      "metadata": {
        "colab": {
          "base_uri": "https://localhost:8080/"
        },
        "id": "118ec8c8",
        "outputId": "2b390296-52ad-499d-a808-9187569fc93e"
      },
      "outputs": [
        {
          "name": "stdout",
          "output_type": "stream",
          "text": [
            "train input data shape: (15000, 5)\n",
            "train target data shape: (15000,)\n",
            "\n",
            "test input data shape: (5000, 5)\n",
            "test target data shape: (5000,)\n"
          ]
        }
      ],
      "source": [
        "print(\"train input data shape:\", train_X.shape)\n",
        "print(\"train target data shape:\", train_y.shape)\n",
        "print()\n",
        "print(\"test input data shape:\", test_X.shape)\n",
        "print(\"test target data shape:\", test_y.shape)"
      ]
    },
    {
      "cell_type": "markdown",
      "id": "2e8358c9",
      "metadata": {
        "id": "2e8358c9"
      },
      "source": [
        "**Exercise 3.1:** Normalize training and test set input data (`X`) using statistics generated from the training set. To do this, use the [Standard Scaler](https://scikit-learn.org/stable/modules/generated/sklearn.preprocessing.StandardScaler.html) from sklearn."
      ]
    },
    {
      "cell_type": "code",
      "execution_count": 6,
      "id": "ab2958d1",
      "metadata": {
        "id": "ab2958d1"
      },
      "outputs": [],
      "source": [
        "scaler = StandardScaler().fit(train_X, train_y)\n",
        "\n",
        "# TODO:\n",
        "train_X_norm = None\n",
        "test_X_norm = None"
      ]
    },
    {
      "cell_type": "code",
      "execution_count": 7,
      "id": "OxafYpflcO1C",
      "metadata": {
        "cellView": "form",
        "id": "OxafYpflcO1C"
      },
      "outputs": [],
      "source": [
        "# @title\n",
        "train_X_norm = scaler.transform(train_X)\n",
        "test_X_norm = scaler.transform(test_X)"
      ]
    },
    {
      "cell_type": "markdown",
      "id": "f90f65fb",
      "metadata": {
        "id": "f90f65fb"
      },
      "source": [
        "## 4. Ridge Regression\n",
        "\n",
        "We create a [Ridge](https://scikit-learn.org/stable/modules/generated/sklearn.linear_model.Ridge.html) linear model with a regularization coefficent of `1.0`.\n",
        "\n",
        "Note: This coefficent is referred to as \"lambda ($\\lambda$)\" in course material and \"alpha $\\alpha$\" in the `sklearn` docs. They are the same thing!"
      ]
    },
    {
      "cell_type": "code",
      "execution_count": 8,
      "id": "9383a68b",
      "metadata": {
        "id": "9383a68b"
      },
      "outputs": [],
      "source": [
        "from sklearn.linear_model import Ridge\n",
        "from sklearn.model_selection import cross_val_score\n",
        "from sklearn.metrics import mean_squared_error\n",
        "import numpy as np"
      ]
    },
    {
      "cell_type": "markdown",
      "id": "9e49f371",
      "metadata": {
        "id": "9e49f371"
      },
      "source": [
        "**Exercise 4.1:** Train the model using the training data and output the training error."
      ]
    },
    {
      "cell_type": "code",
      "execution_count": 9,
      "id": "a7063c27",
      "metadata": {
        "id": "a7063c27"
      },
      "outputs": [],
      "source": [
        "# TODO:\n",
        "ridge_model = None"
      ]
    },
    {
      "cell_type": "code",
      "execution_count": null,
      "id": "3HQJlt9wbSZt",
      "metadata": {
        "cellView": "form",
        "id": "3HQJlt9wbSZt"
      },
      "outputs": [],
      "source": [
        "# @title\n",
        "ridge_model = Ridge(1.0).fit(train_X_norm, train_y)\n",
        "ridge_model.score(train_X_norm, train_y)"
      ]
    },
    {
      "cell_type": "markdown",
      "id": "8de65eb4",
      "metadata": {
        "id": "8de65eb4"
      },
      "source": [
        "**Exercise 4.2:** Define a function `rmse(mode, X, y)` that calculates the RMSE error for a given mode, input, and target data."
      ]
    },
    {
      "cell_type": "code",
      "execution_count": 11,
      "id": "5dc15752",
      "metadata": {
        "id": "5dc15752"
      },
      "outputs": [],
      "source": [
        "# TODO:\n",
        "def rmse(model, X, y):\n",
        "    pass"
      ]
    },
    {
      "cell_type": "code",
      "execution_count": 12,
      "id": "51P36JT4eN7a",
      "metadata": {
        "cellView": "form",
        "id": "51P36JT4eN7a"
      },
      "outputs": [],
      "source": [
        "# @title\n",
        "def rmse(model, X, y):\n",
        "    y_pred = model.predict(X)\n",
        "\n",
        "    rmse_score = np.sqrt(mean_squared_error(y, y_pred))\n",
        "\n",
        "    return rmse_score"
      ]
    },
    {
      "cell_type": "markdown",
      "id": "7b5b7a48",
      "metadata": {
        "id": "7b5b7a48"
      },
      "source": [
        "**Exercise 4.3:** Perform 5-fold cross validation with your Ridge model. Output the array of errors (length 5) as well as the mean error. You should use [Cross Validation Score](https://scikit-learn.org/stable/modules/generated/sklearn.model_selection.cross_val_score.html?highlight=cross_val_scor) from `sklearn` to do this."
      ]
    },
    {
      "cell_type": "code",
      "execution_count": null,
      "id": "qUb6VX0XgCpr",
      "metadata": {
        "id": "qUb6VX0XgCpr"
      },
      "outputs": [],
      "source": [
        "ridge_CV_scores = cross_val_score(None, None, None, cv=5, scoring=rmse)\n",
        "ridge_CV_scores"
      ]
    },
    {
      "cell_type": "code",
      "execution_count": null,
      "id": "b23294c2",
      "metadata": {
        "cellView": "form",
        "id": "b23294c2"
      },
      "outputs": [],
      "source": [
        "# @title\n",
        "# TODO:\n",
        "ridge_CV_scores = cross_val_score(Ridge(), train_X_norm, train_y, cv=5, scoring=rmse)\n",
        "ridge_CV_scores"
      ]
    },
    {
      "cell_type": "markdown",
      "id": "15c1b8e2",
      "metadata": {
        "id": "15c1b8e2"
      },
      "source": [
        "Perform 5-fold cross validation on Ridge models with a range of `alpha` values. For each `alpha`, print the `alpha` value and the corresponding mean CV score."
      ]
    },
    {
      "cell_type": "code",
      "execution_count": 15,
      "id": "ce05a736",
      "metadata": {
        "colab": {
          "base_uri": "https://localhost:8080/"
        },
        "id": "ce05a736",
        "outputId": "7daea099-6a60-4404-a493-73a6d9470148"
      },
      "outputs": [
        {
          "name": "stdout",
          "output_type": "stream",
          "text": [
            "0.1\t7.10031822766787\n",
            "1\t7.10031833339405\n",
            "10\t7.100326801621388\n",
            "100\t7.101140102573443\n",
            "1000\t7.1707928854639125\n",
            "10000\t9.228692734889147\n"
          ]
        }
      ],
      "source": [
        "for reg_coef in [0.1, 1, 10, 100, 1000, 10000]:\n",
        "    ridge_model = Ridge(alpha=reg_coef)\n",
        "    ridge_CV_scores = cross_val_score(ridge_model, train_X_norm, train_y, cv=5, scoring=rmse)\n",
        "    print(reg_coef, ridge_CV_scores.mean(), sep='\\t')"
      ]
    },
    {
      "cell_type": "markdown",
      "id": "53e2620c",
      "metadata": {
        "id": "53e2620c"
      },
      "source": [
        "Take a look at how the weights of Ridge models change as you change the regularization coefficient!"
      ]
    },
    {
      "cell_type": "code",
      "execution_count": 16,
      "id": "78f56374",
      "metadata": {
        "colab": {
          "base_uri": "https://localhost:8080/"
        },
        "id": "78f56374",
        "outputId": "16fd1fec-0f39-4398-aec7-bff677a810e5"
      },
      "outputs": [
        {
          "name": "stdout",
          "output_type": "stream",
          "text": [
            "Lambda: \t 1\n",
            "Intercept: \t 80.9786\n",
            "Coefficients: \t [ 0.4859142   0.76510086 -0.41597283  0.0656297  12.93842181]\n",
            "------------------\n",
            "Lambda: \t 100\n",
            "Intercept: \t 80.9786\n",
            "Coefficients: \t [ 0.48822098  0.75637265 -0.41015897  0.0641384  12.85274068]\n",
            "------------------\n",
            "Lambda: \t 100000.0\n",
            "Intercept: \t 80.9786\n",
            "Coefficients: \t [ 0.15114683  0.03995545  0.00613217 -0.00817072  1.68244246]\n",
            "------------------\n",
            "Lambda: \t 100000000.0\n",
            "Intercept: \t 80.9786\n",
            "Coefficients: \t [ 1.87549150e-04  3.61144532e-05  1.87542531e-05 -1.19519522e-05\n",
            "  1.93545110e-03]\n",
            "------------------\n",
            "Lambda: \t 10000000000000.0\n",
            "Intercept: \t 80.9786\n",
            "Coefficients: \t [ 1.87592938e-09  3.61085618e-10  1.87707406e-10 -1.19566423e-10\n",
            "  1.93574276e-08]\n",
            "------------------\n"
          ]
        }
      ],
      "source": [
        "for reg_coef in [1, 100, 10e4, 10e7, 10e12]:\n",
        "    ridge_model = Ridge(alpha=reg_coef)\n",
        "    ridge_model.fit(train_X_norm, train_y)\n",
        "    print(f\"Lambda: \\t {reg_coef}\")\n",
        "    print(f\"Intercept: \\t {ridge_model.intercept_}\")\n",
        "    print(f\"Coefficients: \\t {ridge_model.coef_}\")\n",
        "    print(\"------------------\")"
      ]
    },
    {
      "cell_type": "markdown",
      "id": "07f2be1b",
      "metadata": {
        "id": "07f2be1b"
      },
      "source": [
        "# 5. Regularization with LASSO\n",
        "\n",
        "Create a [LASSO](https://scikit-learn.org/stable/modules/generated/sklearn.linear_model.Lasso.html) linear model with a regularization coefficent of `1.0`."
      ]
    },
    {
      "cell_type": "code",
      "execution_count": 17,
      "id": "3d8c99de",
      "metadata": {
        "id": "3d8c99de"
      },
      "outputs": [],
      "source": [
        "from sklearn.linear_model import Lasso"
      ]
    },
    {
      "cell_type": "code",
      "execution_count": 18,
      "id": "6a2f9e51",
      "metadata": {
        "colab": {
          "base_uri": "https://localhost:8080/"
        },
        "id": "6a2f9e51",
        "outputId": "7949733d-115c-41b1-b3d8-c0de0a44ecd2"
      },
      "outputs": [
        {
          "data": {
            "text/plain": [
              "7.248086829452871"
            ]
          },
          "execution_count": 18,
          "metadata": {},
          "output_type": "execute_result"
        }
      ],
      "source": [
        "lasso_model = Lasso().fit(train_X_norm, train_y)\n",
        "rmse(lasso_model, train_X_norm, train_y)"
      ]
    },
    {
      "cell_type": "markdown",
      "id": "09fd7404",
      "metadata": {
        "id": "09fd7404"
      },
      "source": [
        "Perform 5-fold cross validation with your LASSO model. Output the array of errors (length 5) as well as the mean error."
      ]
    },
    {
      "cell_type": "code",
      "execution_count": 19,
      "id": "92c95d6c",
      "metadata": {
        "id": "92c95d6c"
      },
      "outputs": [],
      "source": [
        "lasso_CV_scores = cross_val_score(Lasso(), train_X_norm, train_y, cv=5, scoring=rmse)"
      ]
    },
    {
      "cell_type": "markdown",
      "id": "9a7ef951",
      "metadata": {
        "id": "9a7ef951"
      },
      "source": [
        "Perform 5-fold cross validation with your Ridge model. Output the array of errors (length 5) as well as the mean error. You should use [Cross Validation Score](https://scikit-learn.org/stable/modules/generated/sklearn.model_selection.cross_val_score.html?highlight=cross_val_scor) from `sklearn` to do this."
      ]
    },
    {
      "cell_type": "code",
      "execution_count": 20,
      "id": "526a57aa",
      "metadata": {
        "colab": {
          "base_uri": "https://localhost:8080/"
        },
        "id": "526a57aa",
        "outputId": "01bacc6b-94a2-4c5a-ab06-e10d940c5442"
      },
      "outputs": [
        {
          "name": "stdout",
          "output_type": "stream",
          "text": [
            "1e-06\t7.1003182250286\n",
            "1e-05\t7.10031823213338\n",
            "0.0001\t7.100318305065085\n",
            "0.001\t7.100319320447997\n",
            "0.01\t7.100359168439399\n",
            "0.1\t7.102948831090839\n",
            "1\t7.249428309445422\n",
            "10\t12.310905347585491\n",
            "100\t14.766690347305012\n",
            "1000\t14.766690347305012\n"
          ]
        }
      ],
      "source": [
        "for reg_coef in [1e-6, 1e-5, 1e-4, 1e-3, 1e-2, 0.1, 1, 10, 100, 1000]:\n",
        "    lasso_model = Lasso(alpha=reg_coef)\n",
        "    lasso_CV_scores = cross_val_score(lasso_model, train_X_norm, train_y, cv=5, scoring=rmse)\n",
        "    print(reg_coef, lasso_CV_scores.mean(), sep='\\t')"
      ]
    },
    {
      "cell_type": "markdown",
      "id": "5e59d09c",
      "metadata": {
        "id": "5e59d09c"
      },
      "source": [
        "Take a look at how the weights of LASSO models change as you change the regularization coefficient! For reasons we might not delve into in this course, LASSO tends to find **sparse** solutions, i.e. solutions that have many zeros in the coefficient vector."
      ]
    },
    {
      "cell_type": "code",
      "execution_count": 21,
      "id": "69ca205d",
      "metadata": {
        "colab": {
          "base_uri": "https://localhost:8080/"
        },
        "id": "69ca205d",
        "outputId": "b5c1388a-9a33-402d-ac04-110097954d55"
      },
      "outputs": [
        {
          "name": "stdout",
          "output_type": "stream",
          "text": [
            "80.9786 [ 0.48503587  0.76436142 -0.41508768  0.06461611 12.93823835]\n",
            "80.9786 [ 0.40209085  0.68253688 -0.32186531  0.         12.83413332]\n",
            "80.9786 [ 0.          0.         -0.          0.         11.90495174]\n",
            "80.9786 [ 0.          0.         -0.         -0.          2.90495174]\n",
            "80.9786 [ 0.  0.  0. -0.  0.]\n"
          ]
        }
      ],
      "source": [
        "for reg_coef in [0.001, 0.1, 1, 10, 100]:\n",
        "    lasso_model = Lasso(alpha=reg_coef)\n",
        "    lasso_model.fit(train_X_norm, train_y)\n",
        "    print(lasso_model.intercept_, lasso_model.coef_)"
      ]
    },
    {
      "cell_type": "markdown",
      "id": "674d4cff",
      "metadata": {
        "id": "674d4cff"
      },
      "source": [
        "**Exercise 5.1:** Using the regularization coefficient that leads to the best validation error, compute test scores for a Ridge and LASSO model."
      ]
    },
    {
      "cell_type": "code",
      "execution_count": null,
      "id": "8iabAGeujdQN",
      "metadata": {
        "id": "8iabAGeujdQN"
      },
      "outputs": [],
      "source": [
        "# TODO:\n",
        "print(\"Ridge\", rmse(Ridge(alpha=None).fit(train_X_norm, train_y), test_X_norm, test_y))\n",
        "print(\"LASSO\", rmse(Lasso(alpha=None).fit(train_X_norm, train_y), test_X_norm, test_y))"
      ]
    },
    {
      "cell_type": "code",
      "execution_count": null,
      "id": "f63d3b90",
      "metadata": {
        "cellView": "form",
        "id": "f63d3b90"
      },
      "outputs": [],
      "source": [
        "# @title\n",
        "# We can see that alpha = 0.1 is best for Ridge and alpha 0.01 is best for Lasso, so we can plug in and find out rmse for testing data of both model.\n",
        "\n",
        "print(\"Ridge\", rmse(Ridge(alpha=0.1).fit(train_X_norm, train_y), test_X_norm, test_y))\n",
        "print(\"LASSO\", rmse(Lasso(alpha=0.01).fit(train_X_norm, train_y), test_X_norm, test_y))"
      ]
    },
    {
      "cell_type": "code",
      "execution_count": null,
      "id": "EjwT327ziJ4m",
      "metadata": {
        "id": "EjwT327ziJ4m"
      },
      "outputs": [],
      "source": []
    }
  ],
  "metadata": {
    "colab": {
      "provenance": []
    },
    "kernelspec": {
      "display_name": "Python 3",
      "language": "python",
      "name": "python3"
    },
    "language_info": {
      "codemirror_mode": {
        "name": "ipython",
        "version": 3
      },
      "file_extension": ".py",
      "mimetype": "text/x-python",
      "name": "python",
      "nbconvert_exporter": "python",
      "pygments_lexer": "ipython3",
      "version": "3.8.8"
    }
  },
  "nbformat": 4,
  "nbformat_minor": 5
}

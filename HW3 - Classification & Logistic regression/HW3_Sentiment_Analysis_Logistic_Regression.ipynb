{
 "cells": [
  {
   "cell_type": "markdown",
   "metadata": {
    "id": "V3V3Ec_wTI53"
   },
   "source": [
    "# Predicting sentiment from product reviews\n",
    "\n",
    "### The coding portion and the concept portion will be submitted on Gradescope.\n",
    "\n",
    "The goal of this first notebook is to explore logistic regression and feature engineering with sklearn.\n",
    "\n",
    "In this notebook you will use product review data from Amazon.com to predict whether the sentiments about a product (from its reviews) are positive or negative.\n",
    "\n",
    "* Use Pandas Dataframes to do feature engineering\n",
    "* Train a logistic regression model to predict the sentiment of product reviews.\n",
    "* Inspect the weights (coefficients) of a trained logistic regression model.\n",
    "* Make a prediction (both class and probability) of sentiment for a new product review.\n",
    "* Given a classifier, create a confusion matrix\n",
    "* Compare multiple logistic regression models.\n",
    "\n",
    "Copyright ©2021 Emily Fox, Hunter Schafer, Valentina Staneva.  All rights reserved.  Permission is hereby granted to students registered for University of Washington CSE/STAT 416 for use solely during Spring Quarter 2021 for purposes of the course.  No other use, copying, distribution, or modification is permitted without prior written consent. Copyrights for third-party components of this work must be honored.  Instructors interested in reusing these course materials should contact the author.\n"
   ]
  },
  {
   "cell_type": "code",
   "execution_count": 27,
   "metadata": {
    "id": "d_h1IK-ITI6F"
   },
   "outputs": [],
   "source": [
    "import math\n",
    "import string\n",
    "\n",
    "import matplotlib.pyplot as plt\n",
    "import numpy as np\n",
    "import pandas as pd\n",
    "import seaborn as sns\n",
    "\n",
    "from sklearn.linear_model import LogisticRegression\n",
    "from sklearn.metrics import accuracy_score\n",
    "from sklearn.model_selection import train_test_split\n",
    "from sklearn.feature_extraction.text import CountVectorizer\n",
    "from sklearn.feature_extraction import DictVectorizer\n",
    "\n",
    "sns.set()\n",
    "%matplotlib inline\n"
   ]
  },
  {
   "cell_type": "markdown",
   "metadata": {
    "id": "IDqj6m3gTI6G"
   },
   "source": [
    "# Data preparation\n",
    "\n",
    "We will use a dataset consisting of food product reviews on Amazon.com [source](http://jmcauley.ucsd.edu/data/amazon/)."
   ]
  },
  {
   "cell_type": "code",
   "execution_count": 28,
   "metadata": {
    "id": "l8_RiOv4TI6H"
   },
   "outputs": [
    {
     "data": {
      "text/html": [
       "<div>\n",
       "<style scoped>\n",
       "    .dataframe tbody tr th:only-of-type {\n",
       "        vertical-align: middle;\n",
       "    }\n",
       "\n",
       "    .dataframe tbody tr th {\n",
       "        vertical-align: top;\n",
       "    }\n",
       "\n",
       "    .dataframe thead th {\n",
       "        text-align: right;\n",
       "    }\n",
       "</style>\n",
       "<table border=\"1\" class=\"dataframe\">\n",
       "  <thead>\n",
       "    <tr style=\"text-align: right;\">\n",
       "      <th></th>\n",
       "      <th>product_id</th>\n",
       "      <th>summary</th>\n",
       "      <th>review</th>\n",
       "      <th>rating</th>\n",
       "    </tr>\n",
       "  </thead>\n",
       "  <tbody>\n",
       "    <tr>\n",
       "      <th>0</th>\n",
       "      <td>4408</td>\n",
       "      <td>Does increase milk supply</td>\n",
       "      <td>This really helped to increase my milk supply....</td>\n",
       "      <td>3.0</td>\n",
       "    </tr>\n",
       "    <tr>\n",
       "      <th>1</th>\n",
       "      <td>4209</td>\n",
       "      <td>One bad packet ruins the product!</td>\n",
       "      <td>I should have stayed with Idahoan brand. Poor ...</td>\n",
       "      <td>1.0</td>\n",
       "    </tr>\n",
       "    <tr>\n",
       "      <th>2</th>\n",
       "      <td>8623</td>\n",
       "      <td>CAULIFLOWER PASTA!?</td>\n",
       "      <td>As the pasta cooked, I read the box to see wha...</td>\n",
       "      <td>4.0</td>\n",
       "    </tr>\n",
       "    <tr>\n",
       "      <th>3</th>\n",
       "      <td>9439</td>\n",
       "      <td>Tasty and inexpensive</td>\n",
       "      <td>I really like this cereal. The flavor is sligh...</td>\n",
       "      <td>5.0</td>\n",
       "    </tr>\n",
       "    <tr>\n",
       "      <th>4</th>\n",
       "      <td>7110</td>\n",
       "      <td>I'm Confused</td>\n",
       "      <td>The label on the bowl says 35 grams is in the ...</td>\n",
       "      <td>2.0</td>\n",
       "    </tr>\n",
       "    <tr>\n",
       "      <th>...</th>\n",
       "      <td>...</td>\n",
       "      <td>...</td>\n",
       "      <td>...</td>\n",
       "      <td>...</td>\n",
       "    </tr>\n",
       "    <tr>\n",
       "      <th>1245</th>\n",
       "      <td>2870</td>\n",
       "      <td>10 times the price</td>\n",
       "      <td>I recently bought Domino 10 lb premium cane su...</td>\n",
       "      <td>1.0</td>\n",
       "    </tr>\n",
       "    <tr>\n",
       "      <th>1246</th>\n",
       "      <td>8823</td>\n",
       "      <td>Sweet &amp; Crunchy Peanuts</td>\n",
       "      <td>While these are not the highest quality peanut...</td>\n",
       "      <td>3.0</td>\n",
       "    </tr>\n",
       "    <tr>\n",
       "      <th>1247</th>\n",
       "      <td>6343</td>\n",
       "      <td>Annies GF Mac Deluxe</td>\n",
       "      <td>I had been using Annies GF Mac n Cheese, then ...</td>\n",
       "      <td>4.0</td>\n",
       "    </tr>\n",
       "    <tr>\n",
       "      <th>1248</th>\n",
       "      <td>5801</td>\n",
       "      <td>OK, but Check the Pricing</td>\n",
       "      <td>Dr. Oz recommended this brand of coconut water...</td>\n",
       "      <td>3.0</td>\n",
       "    </tr>\n",
       "    <tr>\n",
       "      <th>1249</th>\n",
       "      <td>5115</td>\n",
       "      <td>JUST DOESN'T WORK FOR ME</td>\n",
       "      <td>I TAKE CHANCES WITH THINGS I SHOULDN'T.  END R...</td>\n",
       "      <td>2.0</td>\n",
       "    </tr>\n",
       "  </tbody>\n",
       "</table>\n",
       "<p>1250 rows × 4 columns</p>\n",
       "</div>"
      ],
      "text/plain": [
       "      product_id                            summary  \\\n",
       "0           4408          Does increase milk supply   \n",
       "1           4209  One bad packet ruins the product!   \n",
       "2           8623                CAULIFLOWER PASTA!?   \n",
       "3           9439              Tasty and inexpensive   \n",
       "4           7110                       I'm Confused   \n",
       "...          ...                                ...   \n",
       "1245        2870                 10 times the price   \n",
       "1246        8823            Sweet & Crunchy Peanuts   \n",
       "1247        6343               Annies GF Mac Deluxe   \n",
       "1248        5801          OK, but Check the Pricing   \n",
       "1249        5115           JUST DOESN'T WORK FOR ME   \n",
       "\n",
       "                                                 review  rating  \n",
       "0     This really helped to increase my milk supply....     3.0  \n",
       "1     I should have stayed with Idahoan brand. Poor ...     1.0  \n",
       "2     As the pasta cooked, I read the box to see wha...     4.0  \n",
       "3     I really like this cereal. The flavor is sligh...     5.0  \n",
       "4     The label on the bowl says 35 grams is in the ...     2.0  \n",
       "...                                                 ...     ...  \n",
       "1245  I recently bought Domino 10 lb premium cane su...     1.0  \n",
       "1246  While these are not the highest quality peanut...     3.0  \n",
       "1247  I had been using Annies GF Mac n Cheese, then ...     4.0  \n",
       "1248  Dr. Oz recommended this brand of coconut water...     3.0  \n",
       "1249  I TAKE CHANCES WITH THINGS I SHOULDN'T.  END R...     2.0  \n",
       "\n",
       "[1250 rows x 4 columns]"
      ]
     },
     "execution_count": 28,
     "metadata": {},
     "output_type": "execute_result"
    }
   ],
   "source": [
    "products = pd.read_csv('food_products.csv')\n",
    "\n",
    "products"
   ]
  },
  {
   "cell_type": "markdown",
   "metadata": {
    "id": "orsEw3wXTI6H"
   },
   "source": [
    "## Extract sentiments\n",
    "\n",
    "We will **ignore** all reviews with *rating = 3*, since they tend to have a neutral sentiment."
   ]
  },
  {
   "cell_type": "code",
   "execution_count": 29,
   "metadata": {
    "id": "dLfJ2rzdTI6H"
   },
   "outputs": [
    {
     "data": {
      "text/plain": [
       "889"
      ]
     },
     "execution_count": 29,
     "metadata": {},
     "output_type": "execute_result"
    }
   ],
   "source": [
    "products = products[products['rating'] != 3]\n",
    "products = products.copy()  # This is to avoid having a view on the old data\n",
    "\n",
    "len(products)"
   ]
  },
  {
   "cell_type": "code",
   "execution_count": 30,
   "metadata": {
    "id": "OCMsddLATI6I"
   },
   "outputs": [
    {
     "data": {
      "text/plain": [
       "<AxesSubplot: title={'center': 'Number of reviews with a given rating'}, xlabel='rating', ylabel='Count'>"
      ]
     },
     "execution_count": 30,
     "metadata": {},
     "output_type": "execute_result"
    },
    {
     "data": {
      "image/png": "[encoded data removed]",
      "text/plain": [
       "<Figure size 640x480 with 1 Axes>"
      ]
     },
     "metadata": {},
     "output_type": "display_data"
    }
   ],
   "source": [
    "plt.title('Number of reviews with a given rating')\n",
    "sns.histplot(products['rating'])"
   ]
  },
  {
   "cell_type": "markdown",
   "metadata": {
    "id": "I6InKW0hTI6J"
   },
   "source": [
    "Now, we will assign reviews with a rating of 4 or higher to be *positive* reviews, while the ones with rating of 2 or lower are *negative*. For the sentiment column, we use +1 for the positive class label and -1 for the negative class label."
   ]
  },
  {
   "cell_type": "code",
   "execution_count": 31,
   "metadata": {
    "id": "JMm_t7TNTI6J"
   },
   "outputs": [
    {
     "data": {
      "text/html": [
       "<div>\n",
       "<style scoped>\n",
       "    .dataframe tbody tr th:only-of-type {\n",
       "        vertical-align: middle;\n",
       "    }\n",
       "\n",
       "    .dataframe tbody tr th {\n",
       "        vertical-align: top;\n",
       "    }\n",
       "\n",
       "    .dataframe thead th {\n",
       "        text-align: right;\n",
       "    }\n",
       "</style>\n",
       "<table border=\"1\" class=\"dataframe\">\n",
       "  <thead>\n",
       "    <tr style=\"text-align: right;\">\n",
       "      <th></th>\n",
       "      <th>product_id</th>\n",
       "      <th>summary</th>\n",
       "      <th>review</th>\n",
       "      <th>rating</th>\n",
       "      <th>sentiment</th>\n",
       "    </tr>\n",
       "  </thead>\n",
       "  <tbody>\n",
       "    <tr>\n",
       "      <th>1</th>\n",
       "      <td>4209</td>\n",
       "      <td>One bad packet ruins the product!</td>\n",
       "      <td>I should have stayed with Idahoan brand. Poor ...</td>\n",
       "      <td>1.0</td>\n",
       "      <td>-1</td>\n",
       "    </tr>\n",
       "    <tr>\n",
       "      <th>2</th>\n",
       "      <td>8623</td>\n",
       "      <td>CAULIFLOWER PASTA!?</td>\n",
       "      <td>As the pasta cooked, I read the box to see wha...</td>\n",
       "      <td>4.0</td>\n",
       "      <td>1</td>\n",
       "    </tr>\n",
       "    <tr>\n",
       "      <th>3</th>\n",
       "      <td>9439</td>\n",
       "      <td>Tasty and inexpensive</td>\n",
       "      <td>I really like this cereal. The flavor is sligh...</td>\n",
       "      <td>5.0</td>\n",
       "      <td>1</td>\n",
       "    </tr>\n",
       "    <tr>\n",
       "      <th>4</th>\n",
       "      <td>7110</td>\n",
       "      <td>I'm Confused</td>\n",
       "      <td>The label on the bowl says 35 grams is in the ...</td>\n",
       "      <td>2.0</td>\n",
       "      <td>-1</td>\n",
       "    </tr>\n",
       "    <tr>\n",
       "      <th>5</th>\n",
       "      <td>1373</td>\n",
       "      <td>Flat</td>\n",
       "      <td>Doesn't taste like ginger.  Thought it would s...</td>\n",
       "      <td>2.0</td>\n",
       "      <td>-1</td>\n",
       "    </tr>\n",
       "  </tbody>\n",
       "</table>\n",
       "</div>"
      ],
      "text/plain": [
       "   product_id                            summary  \\\n",
       "1        4209  One bad packet ruins the product!   \n",
       "2        8623                CAULIFLOWER PASTA!?   \n",
       "3        9439              Tasty and inexpensive   \n",
       "4        7110                       I'm Confused   \n",
       "5        1373                               Flat   \n",
       "\n",
       "                                              review  rating  sentiment  \n",
       "1  I should have stayed with Idahoan brand. Poor ...     1.0         -1  \n",
       "2  As the pasta cooked, I read the box to see wha...     4.0          1  \n",
       "3  I really like this cereal. The flavor is sligh...     5.0          1  \n",
       "4  The label on the bowl says 35 grams is in the ...     2.0         -1  \n",
       "5  Doesn't taste like ginger.  Thought it would s...     2.0         -1  "
      ]
     },
     "execution_count": 31,
     "metadata": {},
     "output_type": "execute_result"
    }
   ],
   "source": [
    "products['sentiment'] = products['rating'].apply(lambda rating : +1 if rating > 3 else -1)\n",
    "products.head()"
   ]
  },
  {
   "cell_type": "markdown",
   "metadata": {
    "id": "IeVaGJU1TI6K"
   },
   "source": [
    "Now, we can see that the dataset contains an extra column called **sentiment** which is either positive (+1) or negative (-1)."
   ]
  },
  {
   "cell_type": "markdown",
   "metadata": {
    "id": "olzgv9IxTI6L"
   },
   "source": [
    "## Build the word count vector for each review"
   ]
  },
  {
   "cell_type": "markdown",
   "metadata": {
    "id": "XzX_Ll9qTI6L"
   },
   "source": [
    "Let us explore a specific example of a food product. We have information about the product, the review left, and both the rating that was given and the sentiment label we computed."
   ]
  },
  {
   "cell_type": "code",
   "execution_count": 32,
   "metadata": {
    "id": "PwzSYYwNTI6L"
   },
   "outputs": [
    {
     "data": {
      "text/plain": [
       "product_id                                                  918\n",
       "summary                                It's PRIME-arily Lobster\n",
       "review        if it's primarily made from lobster, what else...\n",
       "rating                                                      4.0\n",
       "sentiment                                                     1\n",
       "Name: 34, dtype: object"
      ]
     },
     "execution_count": 32,
     "metadata": {},
     "output_type": "execute_result"
    }
   ],
   "source": [
    "products.iloc[21]"
   ]
  },
  {
   "cell_type": "markdown",
   "metadata": {
    "id": "8VYkZg40TI6M"
   },
   "source": [
    "To work with the text data, we will need to eventually turn it into word counts. In other words, we will be making a feature for every word that could possibly appear in the data, and the value for that feature for one example would be the number of times that word appears in that example. \n",
    "\n",
    "To accomplish this, we will need to do two data transformation:\n",
    "\n",
    "1. Remove punctuation using [Python's built-in](https://docs.python.org/2/library/string.html) string functionality.\n",
    "2. Transform the reviews into word-counts.\n",
    "\n",
    "\n",
    "\n",
    "> **Aside**. In this assignment, we remove all punctuations for the sake of simplicity. A smarter approach to punctuations would preserve phrases such as \"I'd\", \"would've\", \"hadn't\" and so forth. \n",
    "> \n",
    "> If you are curious in learning how to handle these complexities in practice, you might be interested in  researching more about tokenization and NLP like [this page](https://towardsdatascience.com/tokenization-for-natural-language-processing-a179a891bad4) shows. Note that you do not need to do any of that stuff for this assignment.\n",
    "\n",
    "So first, we remove punctuation with the code in the next cell."
   ]
  },
  {
   "cell_type": "code",
   "execution_count": 33,
   "metadata": {
    "id": "R65fJRNgTI6M"
   },
   "outputs": [],
   "source": [
    "def remove_punctuation(text):\n",
    "    if type(text) is str:\n",
    "        return text.translate(str.maketrans('', '', string.punctuation))\n",
    "    else:\n",
    "        return ''\n",
    "    \n",
    "products['review_clean'] = products['review'].apply(remove_punctuation)"
   ]
  },
  {
   "cell_type": "markdown",
   "metadata": {
    "id": "MCf-Bkd3TI6M"
   },
   "source": [
    "Next, we use scikit-learn's [CountVectorizer](https://scikit-learn.org/stable/modules/generated/sklearn.feature_extraction.text.CountVectorizer.html) to get counts for each word. "
   ]
  },
  {
   "cell_type": "code",
   "execution_count": 34,
   "metadata": {
    "id": "yF6-uqRTTI6N"
   },
   "outputs": [
    {
     "data": {
      "text/html": [
       "<div>\n",
       "<style scoped>\n",
       "    .dataframe tbody tr th:only-of-type {\n",
       "        vertical-align: middle;\n",
       "    }\n",
       "\n",
       "    .dataframe tbody tr th {\n",
       "        vertical-align: top;\n",
       "    }\n",
       "\n",
       "    .dataframe thead th {\n",
       "        text-align: right;\n",
       "    }\n",
       "</style>\n",
       "<table border=\"1\" class=\"dataframe\">\n",
       "  <thead>\n",
       "    <tr style=\"text-align: right;\">\n",
       "      <th></th>\n",
       "      <th>0000</th>\n",
       "      <th>002</th>\n",
       "      <th>004</th>\n",
       "      <th>004oz</th>\n",
       "      <th>012months</th>\n",
       "      <th>032</th>\n",
       "      <th>051</th>\n",
       "      <th>08</th>\n",
       "      <th>0f</th>\n",
       "      <th>10</th>\n",
       "      <th>...</th>\n",
       "      <th>zico1</th>\n",
       "      <th>zico3</th>\n",
       "      <th>zicos</th>\n",
       "      <th>zillion</th>\n",
       "      <th>zinger</th>\n",
       "      <th>zip</th>\n",
       "      <th>ziplock</th>\n",
       "      <th>sentiment</th>\n",
       "      <th>review_clean</th>\n",
       "      <th>summary</th>\n",
       "    </tr>\n",
       "  </thead>\n",
       "  <tbody>\n",
       "    <tr>\n",
       "      <th>1</th>\n",
       "      <td>0</td>\n",
       "      <td>0</td>\n",
       "      <td>0</td>\n",
       "      <td>0</td>\n",
       "      <td>0</td>\n",
       "      <td>0</td>\n",
       "      <td>0</td>\n",
       "      <td>0</td>\n",
       "      <td>0</td>\n",
       "      <td>0</td>\n",
       "      <td>...</td>\n",
       "      <td>0</td>\n",
       "      <td>0</td>\n",
       "      <td>0</td>\n",
       "      <td>0</td>\n",
       "      <td>0</td>\n",
       "      <td>0</td>\n",
       "      <td>0</td>\n",
       "      <td>-1</td>\n",
       "      <td>I should have stayed with Idahoan brand Poor B...</td>\n",
       "      <td>One bad packet ruins the product!</td>\n",
       "    </tr>\n",
       "    <tr>\n",
       "      <th>2</th>\n",
       "      <td>0</td>\n",
       "      <td>0</td>\n",
       "      <td>0</td>\n",
       "      <td>0</td>\n",
       "      <td>0</td>\n",
       "      <td>0</td>\n",
       "      <td>0</td>\n",
       "      <td>0</td>\n",
       "      <td>0</td>\n",
       "      <td>0</td>\n",
       "      <td>...</td>\n",
       "      <td>0</td>\n",
       "      <td>0</td>\n",
       "      <td>0</td>\n",
       "      <td>0</td>\n",
       "      <td>0</td>\n",
       "      <td>0</td>\n",
       "      <td>0</td>\n",
       "      <td>1</td>\n",
       "      <td>As the pasta cooked I read the box to see what...</td>\n",
       "      <td>CAULIFLOWER PASTA!?</td>\n",
       "    </tr>\n",
       "    <tr>\n",
       "      <th>3</th>\n",
       "      <td>0</td>\n",
       "      <td>0</td>\n",
       "      <td>0</td>\n",
       "      <td>0</td>\n",
       "      <td>0</td>\n",
       "      <td>0</td>\n",
       "      <td>0</td>\n",
       "      <td>0</td>\n",
       "      <td>0</td>\n",
       "      <td>0</td>\n",
       "      <td>...</td>\n",
       "      <td>0</td>\n",
       "      <td>0</td>\n",
       "      <td>0</td>\n",
       "      <td>0</td>\n",
       "      <td>0</td>\n",
       "      <td>0</td>\n",
       "      <td>0</td>\n",
       "      <td>1</td>\n",
       "      <td>I really like this cereal The flavor is slight...</td>\n",
       "      <td>Tasty and inexpensive</td>\n",
       "    </tr>\n",
       "    <tr>\n",
       "      <th>4</th>\n",
       "      <td>0</td>\n",
       "      <td>0</td>\n",
       "      <td>0</td>\n",
       "      <td>0</td>\n",
       "      <td>0</td>\n",
       "      <td>0</td>\n",
       "      <td>0</td>\n",
       "      <td>0</td>\n",
       "      <td>0</td>\n",
       "      <td>0</td>\n",
       "      <td>...</td>\n",
       "      <td>0</td>\n",
       "      <td>0</td>\n",
       "      <td>0</td>\n",
       "      <td>0</td>\n",
       "      <td>0</td>\n",
       "      <td>0</td>\n",
       "      <td>0</td>\n",
       "      <td>-1</td>\n",
       "      <td>The label on the bowl says 35 grams is in the ...</td>\n",
       "      <td>I'm Confused</td>\n",
       "    </tr>\n",
       "    <tr>\n",
       "      <th>5</th>\n",
       "      <td>0</td>\n",
       "      <td>0</td>\n",
       "      <td>0</td>\n",
       "      <td>0</td>\n",
       "      <td>0</td>\n",
       "      <td>0</td>\n",
       "      <td>0</td>\n",
       "      <td>0</td>\n",
       "      <td>0</td>\n",
       "      <td>0</td>\n",
       "      <td>...</td>\n",
       "      <td>0</td>\n",
       "      <td>0</td>\n",
       "      <td>0</td>\n",
       "      <td>0</td>\n",
       "      <td>0</td>\n",
       "      <td>0</td>\n",
       "      <td>0</td>\n",
       "      <td>-1</td>\n",
       "      <td>Doesnt taste like ginger  Thought it would sav...</td>\n",
       "      <td>Flat</td>\n",
       "    </tr>\n",
       "  </tbody>\n",
       "</table>\n",
       "<p>5 rows × 7628 columns</p>\n",
       "</div>"
      ],
      "text/plain": [
       "   0000  002  004  004oz  012months  032  051  08  0f  10  ...  zico1  zico3  \\\n",
       "1     0    0    0      0          0    0    0   0   0   0  ...      0      0   \n",
       "2     0    0    0      0          0    0    0   0   0   0  ...      0      0   \n",
       "3     0    0    0      0          0    0    0   0   0   0  ...      0      0   \n",
       "4     0    0    0      0          0    0    0   0   0   0  ...      0      0   \n",
       "5     0    0    0      0          0    0    0   0   0   0  ...      0      0   \n",
       "\n",
       "   zicos  zillion  zinger  zip  ziplock  sentiment  \\\n",
       "1      0        0       0    0        0         -1   \n",
       "2      0        0       0    0        0          1   \n",
       "3      0        0       0    0        0          1   \n",
       "4      0        0       0    0        0         -1   \n",
       "5      0        0       0    0        0         -1   \n",
       "\n",
       "                                        review_clean  \\\n",
       "1  I should have stayed with Idahoan brand Poor B...   \n",
       "2  As the pasta cooked I read the box to see what...   \n",
       "3  I really like this cereal The flavor is slight...   \n",
       "4  The label on the bowl says 35 grams is in the ...   \n",
       "5  Doesnt taste like ginger  Thought it would sav...   \n",
       "\n",
       "                             summary  \n",
       "1  One bad packet ruins the product!  \n",
       "2                CAULIFLOWER PASTA!?  \n",
       "3              Tasty and inexpensive  \n",
       "4                       I'm Confused  \n",
       "5                               Flat  \n",
       "\n",
       "[5 rows x 7628 columns]"
      ]
     },
     "execution_count": 34,
     "metadata": {},
     "output_type": "execute_result"
    }
   ],
   "source": [
    "# Make counts\n",
    "vectorizer = CountVectorizer()\n",
    "count_matrix = vectorizer.fit_transform(products['review_clean'])\n",
    "\n",
    "# Make a new DataFrame with the counts information\n",
    "product_data = pd.DataFrame(count_matrix.toarray(),\n",
    "        index=products.index,\n",
    "        columns=vectorizer.get_feature_names_out())\n",
    "\n",
    "# Add the old columns to our new DataFrame. \n",
    "# We won't use review_clean and the summary in our model, but we will keep\n",
    "# them to look at later.\n",
    "product_data['sentiment'] = products['sentiment']\n",
    "product_data['review_clean'] = products['review_clean']  \n",
    "product_data['summary'] = products['summary']\n",
    "\n",
    "product_data.head()"
   ]
  },
  {
   "cell_type": "markdown",
   "metadata": {
    "id": "jel4tt2WTI6N"
   },
   "source": [
    "We have now created a lot of features to work with! Note that in the table above, we will have one feature for each word taht appeared in the data and the value for that feature is the count of that word in that review. So for example, if review 5 had the word \"dog\" in it 3 times, the value in row 5 and column \"dog\" would be 3.\n",
    "\n",
    "## Split data into training, validation and test sets."
   ]
  },
  {
   "cell_type": "markdown",
   "metadata": {
    "id": "qN3RlPuMTI6O"
   },
   "source": [
    "Let's perform a train/validation/test split with 80% of the data in the training set, 10% of the data in the validation set, 10% test. Note that we use `random_state=3` so that everyone gets the same result."
   ]
  },
  {
   "cell_type": "code",
   "execution_count": 35,
   "metadata": {
    "id": "AJWO5vplTI6O"
   },
   "outputs": [],
   "source": [
    "train_data, test_data = train_test_split(product_data, test_size=0.2, random_state=3)\n",
    "validation_data, test_data = train_test_split(test_data, test_size=0.5, random_state=3)"
   ]
  },
  {
   "cell_type": "markdown",
   "metadata": {
    "id": "EfYV6hQXTI6O"
   },
   "source": [
    "# Baseline: Majority class prediction\n",
    "\n",
    "It is quite common to use the **majority class classifier** as the a baseline (or reference) model for comparison with your classifier model. The majority classifier model predicts the majority class for all data points.\n",
    "\n",
    "To \"train\" the majority class classifier, you should simply find the most frequent target in the training data.\n",
    "\n",
    "### **Question 1:** Majority class classifier\n",
    "* Compute the most frequent label and store it in a variable called `majority_label`.\n",
    "* What is the validation accuracy of the majority class classifer. Store your result as a number between 0 and 1 in a variable called `majority_classifier_validation_accuracy`.\n",
    "  \n",
    "  *Hint:* pandas allows you to take the sum of a boolean series - true values are equal to 1, false values are equal 0."
   ]
  },
  {
   "cell_type": "code",
   "execution_count": 36,
   "metadata": {
    "id": "I-FhV9KITI6O"
   },
   "outputs": [
    {
     "name": "stdout",
     "output_type": "stream",
     "text": [
      "413      37\n",
      "1035     23\n",
      "1200     21\n",
      "843      54\n",
      "744     152\n",
      "       ... \n",
      "367      56\n",
      "915      58\n",
      "359     122\n",
      "940      56\n",
      "1225     35\n",
      "Length: 711, dtype: int64\n",
      "-1\n",
      "0.5168539325842697\n"
     ]
    }
   ],
   "source": [
    "### edTest(test_q1_majority_classifier) ###\n",
    "from sklearn.dummy import DummyClassifier\n",
    "from sklearn.metrics import accuracy_score\n",
    "\n",
    "# TODO \"Train\" a majority class classifier and calculate its validation accuracy\n",
    "#print(train_data.iloc[21].head(30))\n",
    "# print(train_data.iloc[21][1])\n",
    "row_sum = train_data.iloc[:,:-4].sum(axis=1)\n",
    "print(row_sum)\n",
    "majority_label = train_data['sentiment'].value_counts().idxmax()\n",
    "# majority_label_index = row_sum.idxmax()\n",
    "print(majority_label)\n",
    "# print(majority_label_index)\n",
    "# row_sum_valid = validation_data.iloc[:,:-4].sum(axis = 1)\n",
    "# print(row_sum_valid)\n",
    "\n",
    "features = vectorizer.get_feature_names_out()\n",
    "majority_class_classifier = DummyClassifier(strategy='most_frequent')\n",
    "majority_class_classifier.fit(train_data[features], train_data['sentiment'])\n",
    "y_pred = majority_class_classifier.predict(validation_data[features])\n",
    "majority_classifier_validation_accuracy = accuracy_score(validation_data['sentiment'], y_pred)\n",
    "print(majority_classifier_validation_accuracy)"
   ]
  },
  {
   "cell_type": "markdown",
   "metadata": {
    "id": "hwYCpcnDTI6O"
   },
   "source": [
    "# Train a sentiment classifier with logistic regression\n",
    "\n",
    "We will now use logistic regression to create a sentiment classifier on the training data. This model will use the columns representing word coutnts as features and the column **sentiment** as the target. We will set **no regularization penalty** (and set `random_state=1` to get the same answer as everyone else). \n",
    "\n",
    "You can see scikit-learn's documentation for LogisticRegression [here](https://scikit-learn.org/stable/modules/generated/sklearn.linear_model.LogisticRegression.html). Note that the parameter for this class to control regularization is named `C` and it represents the inverse of the penalty strenght. In other words $C = \\frac{1}{\\lambda}$. This means to have very little regularization, we make `C` a very large number (corresponding to a very small $\\lambda$)."
   ]
  },
  {
   "cell_type": "code",
   "execution_count": 37,
   "metadata": {
    "id": "gt9j52bOTI6P"
   },
   "outputs": [
    {
     "data": {
      "text/html": [
       "<style>#sk-container-id-2 {color: black;background-color: white;}#sk-container-id-2 pre{padding: 0;}#sk-container-id-2 div.sk-toggleable {background-color: white;}#sk-container-id-2 label.sk-toggleable__label {cursor: pointer;display: block;width: 100%;margin-bottom: 0;padding: 0.3em;box-sizing: border-box;text-align: center;}#sk-container-id-2 label.sk-toggleable__label-arrow:before {content: \"▸\";float: left;margin-right: 0.25em;color: #696969;}#sk-container-id-2 label.sk-toggleable__label-arrow:hover:before {color: black;}#sk-container-id-2 div.sk-estimator:hover label.sk-toggleable__label-arrow:before {color: black;}#sk-container-id-2 div.sk-toggleable__content {max-height: 0;max-width: 0;overflow: hidden;text-align: left;background-color: #f0f8ff;}#sk-container-id-2 div.sk-toggleable__content pre {margin: 0.2em;color: black;border-radius: 0.25em;background-color: #f0f8ff;}#sk-container-id-2 input.sk-toggleable__control:checked~div.sk-toggleable__content {max-height: 200px;max-width: 100%;overflow: auto;}#sk-container-id-2 input.sk-toggleable__control:checked~label.sk-toggleable__label-arrow:before {content: \"▾\";}#sk-container-id-2 div.sk-estimator input.sk-toggleable__control:checked~label.sk-toggleable__label {background-color: #d4ebff;}#sk-container-id-2 div.sk-label input.sk-toggleable__control:checked~label.sk-toggleable__label {background-color: #d4ebff;}#sk-container-id-2 input.sk-hidden--visually {border: 0;clip: rect(1px 1px 1px 1px);clip: rect(1px, 1px, 1px, 1px);height: 1px;margin: -1px;overflow: hidden;padding: 0;position: absolute;width: 1px;}#sk-container-id-2 div.sk-estimator {font-family: monospace;background-color: #f0f8ff;border: 1px dotted black;border-radius: 0.25em;box-sizing: border-box;margin-bottom: 0.5em;}#sk-container-id-2 div.sk-estimator:hover {background-color: #d4ebff;}#sk-container-id-2 div.sk-parallel-item::after {content: \"\";width: 100%;border-bottom: 1px solid gray;flex-grow: 1;}#sk-container-id-2 div.sk-label:hover label.sk-toggleable__label {background-color: #d4ebff;}#sk-container-id-2 div.sk-serial::before {content: \"\";position: absolute;border-left: 1px solid gray;box-sizing: border-box;top: 0;bottom: 0;left: 50%;z-index: 0;}#sk-container-id-2 div.sk-serial {display: flex;flex-direction: column;align-items: center;background-color: white;padding-right: 0.2em;padding-left: 0.2em;position: relative;}#sk-container-id-2 div.sk-item {position: relative;z-index: 1;}#sk-container-id-2 div.sk-parallel {display: flex;align-items: stretch;justify-content: center;background-color: white;position: relative;}#sk-container-id-2 div.sk-item::before, #sk-container-id-2 div.sk-parallel-item::before {content: \"\";position: absolute;border-left: 1px solid gray;box-sizing: border-box;top: 0;bottom: 0;left: 50%;z-index: -1;}#sk-container-id-2 div.sk-parallel-item {display: flex;flex-direction: column;z-index: 1;position: relative;background-color: white;}#sk-container-id-2 div.sk-parallel-item:first-child::after {align-self: flex-end;width: 50%;}#sk-container-id-2 div.sk-parallel-item:last-child::after {align-self: flex-start;width: 50%;}#sk-container-id-2 div.sk-parallel-item:only-child::after {width: 0;}#sk-container-id-2 div.sk-dashed-wrapped {border: 1px dashed gray;margin: 0 0.4em 0.5em 0.4em;box-sizing: border-box;padding-bottom: 0.4em;background-color: white;}#sk-container-id-2 div.sk-label label {font-family: monospace;font-weight: bold;display: inline-block;line-height: 1.2em;}#sk-container-id-2 div.sk-label-container {text-align: center;}#sk-container-id-2 div.sk-container {/* jupyter's `normalize.less` sets `[hidden] { display: none; }` but bootstrap.min.css set `[hidden] { display: none !important; }` so we also need the `!important` here to be able to override the default hidden behavior on the sphinx rendered scikit-learn.org. See: https://github.com/scikit-learn/scikit-learn/issues/21755 */display: inline-block !important;position: relative;}#sk-container-id-2 div.sk-text-repr-fallback {display: none;}</style><div id=\"sk-container-id-2\" class=\"sk-top-container\"><div class=\"sk-text-repr-fallback\"><pre>LogisticRegression(C=1e+23, random_state=1)</pre><b>In a Jupyter environment, please rerun this cell to show the HTML representation or trust the notebook. <br />On GitHub, the HTML representation is unable to render, please try loading this page with nbviewer.org.</b></div><div class=\"sk-container\" hidden><div class=\"sk-item\"><div class=\"sk-estimator sk-toggleable\"><input class=\"sk-toggleable__control sk-hidden--visually\" id=\"sk-estimator-id-2\" type=\"checkbox\" checked><label for=\"sk-estimator-id-2\" class=\"sk-toggleable__label sk-toggleable__label-arrow\">LogisticRegression</label><div class=\"sk-toggleable__content\"><pre>LogisticRegression(C=1e+23, random_state=1)</pre></div></div></div></div></div>"
      ],
      "text/plain": [
       "LogisticRegression(C=1e+23, random_state=1)"
      ]
     },
     "execution_count": 37,
     "metadata": {},
     "output_type": "execute_result"
    }
   ],
   "source": [
    "features = vectorizer.get_feature_names_out()\n",
    "\n",
    "# Note: C = 1/Lambda. Setting C to a really high value is the same as setting lambda = 0\n",
    "sentiment_model = LogisticRegression(penalty='l2', random_state=1, C=1e23)\n",
    "sentiment_model.fit(train_data[features], train_data['sentiment'])"
   ]
  },
  {
   "cell_type": "markdown",
   "metadata": {
    "id": "DV0KQoyTTI6P"
   },
   "source": [
    "Let's look at some of the coefficients and the corresponding words. The weights are stored in a `coef_` property: "
   ]
  },
  {
   "cell_type": "code",
   "execution_count": 38,
   "metadata": {
    "id": "OFl1IWCwTI6Q"
   },
   "outputs": [
    {
     "name": "stdout",
     "output_type": "stream",
     "text": [
      "Smallest coefficient -11.175390439403655\n",
      "Largest coefficient: 19.979314949845907\n",
      "<class 'numpy.ndarray'>\n"
     ]
    }
   ],
   "source": [
    "coefficients = sentiment_model.coef_[0] \n",
    "\n",
    "print('Smallest coefficient', coefficients.min())\n",
    "print('Largest coefficient:', coefficients.max())\n",
    "print(type(coefficients))"
   ]
  },
  {
   "cell_type": "markdown",
   "metadata": {
    "id": "ihGKU_-9TI6Q"
   },
   "source": [
    "### **Question 2:** Most Positive/Negative Word\n",
    "For the sentiment model we trained above, compute the word with the most negative weight and the word with the most positive weight.\n",
    "\n",
    "Store your results in the variables `most_negative_word` and `most_positive_word`.\n",
    "\n",
    "While you only need to write code to compute the most negative and most positive, we also recommend printing out the words with the highest magnitude coefficients to make sure they make sense.\n"
   ]
  },
  {
   "cell_type": "code",
   "execution_count": 39,
   "metadata": {
    "id": "4BBZ-WqvTI6Q"
   },
   "outputs": [
    {
     "name": "stdout",
     "output_type": "stream",
     "text": [
      "4586\n",
      "3096\n",
      "not\n",
      "great\n"
     ]
    }
   ],
   "source": [
    "### edTest(test_q2_most_pos_neg_words) ###\n",
    "most_negative_word_sentiment = train_data.columns[np.argmin(train_data['sentiment'].min())]\n",
    "\n",
    "\n",
    "negative_index = np.argmin(coefficients)\n",
    "positive_index = np.argmax(coefficients)\n",
    "print(negative_index)\n",
    "print(positive_index)\n",
    "most_negative_word = train_data.columns[negative_index]\n",
    "most_positive_word = train_data.columns[positive_index]\n",
    "print(most_negative_word)\n",
    "print(most_positive_word)\n",
    "# TODO Find the most positive word and most negative word in the sentiment_model"
   ]
  },
  {
   "cell_type": "markdown",
   "metadata": {
    "id": "Dy1azz9ATI6Q"
   },
   "source": [
    "## Making predictions with logistic regression\n",
    "\n",
    "Now that a model is trained, we can make predictions on the **validation data**. In this first section, we will restrict the examples we are looking at to 3 examples in the validation dataset. We refer to this set of 3 examples as the **sample_data**."
   ]
  },
  {
   "cell_type": "code",
   "execution_count": 40,
   "metadata": {
    "id": "iQCsRiz1TI6Q"
   },
   "outputs": [
    {
     "data": {
      "text/html": [
       "<div>\n",
       "<style scoped>\n",
       "    .dataframe tbody tr th:only-of-type {\n",
       "        vertical-align: middle;\n",
       "    }\n",
       "\n",
       "    .dataframe tbody tr th {\n",
       "        vertical-align: top;\n",
       "    }\n",
       "\n",
       "    .dataframe thead th {\n",
       "        text-align: right;\n",
       "    }\n",
       "</style>\n",
       "<table border=\"1\" class=\"dataframe\">\n",
       "  <thead>\n",
       "    <tr style=\"text-align: right;\">\n",
       "      <th></th>\n",
       "      <th>sentiment</th>\n",
       "      <th>review_clean</th>\n",
       "      <th>summary</th>\n",
       "    </tr>\n",
       "  </thead>\n",
       "  <tbody>\n",
       "    <tr>\n",
       "      <th>493</th>\n",
       "      <td>-1</td>\n",
       "      <td>The Chocolate Espresso flavor of the thinkThin...</td>\n",
       "      <td>Not a good taste</td>\n",
       "    </tr>\n",
       "    <tr>\n",
       "      <th>311</th>\n",
       "      <td>1</td>\n",
       "      <td>hard candy with a smooth creamy milk taste i l...</td>\n",
       "      <td>great taste</td>\n",
       "    </tr>\n",
       "    <tr>\n",
       "      <th>570</th>\n",
       "      <td>1</td>\n",
       "      <td>When I was growing up split pea soup was a uni...</td>\n",
       "      <td>More like split pea stew</td>\n",
       "    </tr>\n",
       "  </tbody>\n",
       "</table>\n",
       "</div>"
      ],
      "text/plain": [
       "     sentiment                                       review_clean  \\\n",
       "493         -1  The Chocolate Espresso flavor of the thinkThin...   \n",
       "311          1  hard candy with a smooth creamy milk taste i l...   \n",
       "570          1  When I was growing up split pea soup was a uni...   \n",
       "\n",
       "                      summary  \n",
       "493          Not a good taste  \n",
       "311               great taste  \n",
       "570  More like split pea stew  "
      ]
     },
     "execution_count": 40,
     "metadata": {},
     "output_type": "execute_result"
    }
   ],
   "source": [
    "sample_data = validation_data[8:11]\n",
    "sample_data[['sentiment', 'review_clean', 'summary']]"
   ]
  },
  {
   "cell_type": "markdown",
   "metadata": {
    "id": "WP6Xli_NTI6Q"
   },
   "source": [
    "### Predicting sentiment\n",
    "Let's start by predicting the sentiment of the 3 examples in the `sample_data`. The `predict_proba` method on the `LogisticRegression` class outputs a probability for each class possible.\n",
    "\n",
    "The output has one row for each example. Each row is an array of 2 numbers, the first is the predictor's prediction for the probability it is a negative sentiment example, and the second is the probability of it being a positive sentiment example."
   ]
  },
  {
   "cell_type": "code",
   "execution_count": 41,
   "metadata": {
    "id": "rbyxpUKqTI6R"
   },
   "outputs": [
    {
     "name": "stdout",
     "output_type": "stream",
     "text": [
      "  Prob Negative, Prob Positive\n",
      "[[1.00000000e+00 1.11693736e-31]\n",
      " [2.33590924e-13 1.00000000e+00]\n",
      " [1.00000000e+00 3.08339283e-22]]\n"
     ]
    }
   ],
   "source": [
    "\n",
    "print('  Prob Negative, Prob Positive')\n",
    "print(sentiment_model.predict_proba(sample_data[features]))"
   ]
  },
  {
   "cell_type": "markdown",
   "metadata": {
    "id": "dFlq2EP5TI6R"
   },
   "source": [
    "We are also able to make predictions using the `predict` function"
   ]
  },
  {
   "cell_type": "code",
   "execution_count": 42,
   "metadata": {
    "id": "4pP7IemCTI6R"
   },
   "outputs": [
    {
     "name": "stdout",
     "output_type": "stream",
     "text": [
      "Predicted labels\n",
      "[-1  1 -1]\n"
     ]
    }
   ],
   "source": [
    "print('Predicted labels')\n",
    "print(sentiment_model.predict(sample_data[features]))"
   ]
  },
  {
   "cell_type": "markdown",
   "metadata": {
    "id": "l2Jy9HpcTI6R"
   },
   "source": [
    "### **Question 3:** Find the most positive (and negative) review"
   ]
  },
  {
   "cell_type": "markdown",
   "metadata": {
    "id": "Nxa7exE4TI6R"
   },
   "source": [
    "We now turn to examining the full **validation_data** dataset <span style=\"color:red\">(not sample_data)</span>, , and use `sklearn` to form predictions on all of the data points for faster performance.\n",
    "\n",
    "Using the `sentiment_model`, find review in the **validation_data** with the **highest probability** of being classified as a **positive review**. Also, find the reivew with the **highest probability** of being classified as a **negative review**. We refer to these as the \"most positive review\" and \"most negative review\" respectively. Store the `review_clean` column value for each of these rows in `most_positive_review` and `most_negative_review` respectively.\n",
    "\n",
    "If there is a tie for the most positive/negative reivew, you should always grab the one that appears *first* in the validation data.\n",
    "\n",
    "*Hint*: Once you know the index of the most positive/negative reviews, use the `.iloc[]` accessor on the DataFrame to get that row and find its `review_clean` value."
   ]
  },
  {
   "cell_type": "code",
   "execution_count": 43,
   "metadata": {
    "id": "z3DK8sbWTI6R"
   },
   "outputs": [
    {
     "name": "stdout",
     "output_type": "stream",
     "text": [
      "    prob_negative  prob_positive\n",
      "0    4.884981e-15   1.000000e+00\n",
      "1    1.000000e+00   2.450152e-29\n",
      "2    9.999964e-01   3.560518e-06\n",
      "3    1.000000e+00   1.261544e-25\n",
      "4    1.000000e+00   1.023251e-23\n",
      "..            ...            ...\n",
      "84   0.000000e+00   1.000000e+00\n",
      "85   3.373968e-03   9.966260e-01\n",
      "86   1.000000e+00   9.575590e-09\n",
      "87   1.000000e+00   2.030387e-22\n",
      "88   1.000000e+00   2.417264e-12\n",
      "\n",
      "[89 rows x 2 columns]\n",
      "This coconut water has a very weird smell and a bad after taste like its an old coconut  The other coconut water I have had is the Vita coco and its not bad but its better than this Zico  Zico does not taste fresh at all  If you dont breath you can drink it down  Im going to give the rest of the cartons to my mom I hope she likes it  Ewww\n",
      "I have been on an organic foods diet for almost a year now and I have become much more sensitive to what I eat and drink Out are the energy drinks loaded with sugars caffeine and artificial ingredients In are the more gentler and natural energy boosters This was  a surprise for me I really liked it and it did give an energy boost without any late energy crashesThe flavor is nice A good palatable taste and feel in the mouth No bad after taste It sits well on the stomach even an empty one It provides and fairly quick ramp up in energy and alertness and lasts for several hours to all day The ramp down in gently and hardly noticeable I like the ingredients and the overall effectI am finding that I need less energy boosting as my diet is becoming cleaner and healthier However I am going to rely on these until the day when I can maintain great energy levels without supports Or at least keeps a few in the fridge for special occasions 5 Stars easy Hope you get as much out of it as I have\n"
     ]
    }
   ],
   "source": [
    "### edTest(test_q3_most_positive_negative_review) ###\n",
    "\n",
    "# TODO Find the review_clean values for the most positive and most negative review\n",
    "temp_df = pd.DataFrame()\n",
    "pred_prob_array = sentiment_model.predict_proba(validation_data[features])\n",
    "temp_df['prob_negative'] = pred_prob_array[:,0]\n",
    "temp_df['prob_positive'] = pred_prob_array[:,1]\n",
    "print(temp_df)\n",
    "most_negative_review_index = np.argmax(pred_prob_array[:,0])\n",
    "most_positive_review_index = np.argmax(pred_prob_array[:,1])\n",
    "most_negative_review = validation_data.iloc[most_negative_review_index]['review_clean']\n",
    "most_positive_review = validation_data.iloc[most_positive_review_index]['review_clean']\n",
    "print(most_negative_review)\n",
    "print(most_positive_review)\n"
   ]
  },
  {
   "cell_type": "markdown",
   "metadata": {
    "id": "IRkXKVU7TI6S"
   },
   "source": [
    "Do you notice something special about those reviews? They are both pretty long! Here we just count number of words regardless of the length of the review but clearly that can affect the results, and in practice one can use some techniques to normalize the counts to avoid prioritizing long reviews over shorter ones (we will discuss this idea in a future week).\n",
    "\n",
    "### **Question 4:** Compute validation accuracy\n",
    "Compute the validation accuracy for the model we just trained. Report the validationaccuracy as a number between 0 and 1 stored in a variable called `sentiment_model_validation_accuracy`.\n",
    "\n",
    "Below, calculate the accuracy of the predictor using sklearn's [accuracy_score](https://scikit-learn.org/stable/modules/generated/sklearn.metrics.accuracy_score.html) function."
   ]
  },
  {
   "cell_type": "code",
   "execution_count": 44,
   "metadata": {
    "id": "bPDA_YOFTI6S"
   },
   "outputs": [
    {
     "name": "stdout",
     "output_type": "stream",
     "text": [
      "0.6404494382022472\n"
     ]
    }
   ],
   "source": [
    "### edTest(test_q4_sentiment_model_accuracy) ###\n",
    "\n",
    "# TODO Find the validation accuracy of the sentiment model\n",
    "pred_array = sentiment_model.predict(validation_data[features])\n",
    "# print(validation_data)\n",
    "sentiment_model_validation_accuracy = accuracy_score(validation_data['sentiment'], pred_array)\n",
    "print(sentiment_model_validation_accuracy)\n",
    "\n"
   ]
  },
  {
   "cell_type": "markdown",
   "metadata": {
    "id": "7RlNsJOxTI6S"
   },
   "source": [
    "### **Question 5**: Which model?\n",
    "Compare the validation accuracy for this problem with the validation accuracy of the baseline majority class classifier. Which model would you predict will peform better in the future? \n",
    "\n",
    "* If you think the majority class classifier would do better, write `q5 = 'majority_class_classifier'`.\n",
    "* If you think the sentiment model would do better, write `q5 = 'sentiment_model'`.\n",
    "* If you think we can't choose which model will be best yet since we haven't assessed on the test set, write `q5 = 'cannot say'`.\n",
    "\n",
    "Save your variable indiciating your answer in the next cell."
   ]
  },
  {
   "cell_type": "code",
   "execution_count": 45,
   "metadata": {
    "id": "eu8jCG8pTI6S"
   },
   "outputs": [],
   "source": [
    "### edTest(test_q5_which_model) ###\n",
    "\n",
    "# TODO Answer the question posed above.\n",
    "q5 = 'sentiment_model'"
   ]
  },
  {
   "cell_type": "markdown",
   "metadata": {
    "id": "62EiPpX-TI6S"
   },
   "source": [
    "# Create a confusion matrix\n",
    "\n",
    "A common tool used when analyzing the peformance of a predictor in a classification problem is to look at the confusion matrix, as well as the overall accuracy.\n",
    "\n",
    "We've created a function that will plot a confusion matrix for you given a set of inputs which are the values that should appear within each cell.\n",
    "Recall that there are four values associated with a confusion matrix: true positive, true negative, false positive, and false negative which we will abberviate as TP, TN, FP, and FN, respecitvely. In other words, for the next problem we have handled the plotting code for you that you can use, but you will need to compute the values for each of the confusion matrix dimensions."
   ]
  },
  {
   "cell_type": "code",
   "execution_count": 46,
   "metadata": {
    "id": "3YMCUCIQTI6T"
   },
   "outputs": [],
   "source": [
    "def plot_confusion_matrix(tp, fp, fn, tn):\n",
    "    \"\"\"\n",
    "    Plots a confusion matrix using the values \n",
    "       tp - True Positive\n",
    "       fp - False Positive\n",
    "       fn - False Negative\n",
    "       tn - True Negative\n",
    "    \"\"\"\n",
    "    data = np.matrix([[tp, fp], [fn, tn]])\n",
    "\n",
    "    sns.heatmap(data,annot=True,xticklabels=['Actual Pos', 'Actual Neg']\n",
    "              ,yticklabels=['Pred. Pos', 'Pred. Neg']) "
   ]
  },
  {
   "cell_type": "markdown",
   "metadata": {
    "id": "OdrhEeDMTI6T"
   },
   "source": [
    "### **Question 6:** Compute confusion matrix values and plot\n",
    "\n",
    "Write code below that uses the `plot_confusion_matrix` function to show the number of true positive, true negative, false positive, and false negative predictions made by your classifier. You should store the counts for each of these values in the variables:\n",
    "* `tp`\n",
    "* `fp`\n",
    "* `fn`\n",
    "* `tn` \n",
    "\n",
    "You might find it useful to use named parameters here (i.e. you can call `plot_confusion_matrix(tp=X, fp=Y, fn=A, tn=B)` instead of having to get the order of the parameters correct)"
   ]
  },
  {
   "cell_type": "code",
   "execution_count": 47,
   "metadata": {
    "id": "CjGxE1T_TI6T"
   },
   "outputs": [
    {
     "name": "stdout",
     "output_type": "stream",
     "text": [
      "[ 1 -1 -1 -1 -1 -1 -1 -1 -1  1 -1  1 -1  1  1 -1 -1  1 -1 -1  1  1 -1  1\n",
      "  1  1  1 -1  1  1  1 -1  1 -1 -1  1 -1 -1  1  1  1  1  1  1 -1 -1 -1  1\n",
      "  1  1 -1  1 -1  1  1  1 -1  1  1 -1 -1  1 -1  1 -1  1  1  1  1 -1  1  1\n",
      "  1  1  1  1  1  1  1 -1  1  1 -1 -1  1  1 -1 -1 -1]\n",
      "1\n",
      "1\n",
      "31 20 12 26\n"
     ]
    },
    {
     "data": {
      "image/png": "[encoded data removed]",
      "text/plain": [
       "<Figure size 640x480 with 2 Axes>"
      ]
     },
     "metadata": {},
     "output_type": "display_data"
    }
   ],
   "source": [
    "### edTest(test_q6_confusion_matrix) ###\n",
    "\n",
    "\n",
    "\n",
    "\n",
    "# TODO Compute the four values tp, fp, fn, tn and plot them using plot_confusion_matrix\n",
    "tp = 0\n",
    "fp = 0\n",
    "fn = 0\n",
    "tn = 0\n",
    "pred_test = sentiment_model.predict(validation_data[features])\n",
    "print(pred_test)\n",
    "\n",
    "print(pred_test[0])\n",
    "print(validation_data['sentiment'].iloc[0])\n",
    "for i in range(len(pred_test)):\n",
    "    if pred_test[i] == validation_data['sentiment'].iloc[i] & validation_data['sentiment'].iloc[i] == 1:\n",
    "        tp += 1\n",
    "    elif pred_test[i] == validation_data['sentiment'].iloc[i] & validation_data['sentiment'].iloc[i] == -1:\n",
    "        tn += 1\n",
    "    elif pred_test[i] != validation_data['sentiment'].iloc[i] & validation_data['sentiment'].iloc[i] == 1:\n",
    "        fn += 1\n",
    "    elif pred_test[i] != validation_data['sentiment'].iloc[i] & validation_data['sentiment'].iloc[i] == -1:\n",
    "        fp += 1\n",
    "print(tp, fp, fn, tn)\n",
    "plot_confusion_matrix(tp = tp, fp = fp, fn = fn, tn=tn)\n"
   ]
  },
  {
   "cell_type": "markdown",
   "metadata": {
    "id": "r39NSgBqTI6T"
   },
   "source": [
    "## **Question 7 and 8:** Logistic Regression with L2 regularization\n",
    "\n",
    "One of the challenges of creating features from each word is that there are many more features than observations. It is easy to overfit. We will explore the effect of the regularization in this problem.\n",
    "\n",
    "Now that we have written up all the pieces needed for regularized logistic regression, let's explore the benefits of using **L2 regularization** in analyzing sentiment for product reviews. \n",
    "\n",
    "Like in the last assignment, we will train models with various levels of regularization starting with a small amount and then moving to a  large amount. The code here will have some similarities to the code you did in the last assignment, so you will find that to be a useful reference, but this problem will be slightly more complex since we ask you to compute a few values.\n",
    "\n",
    "This code will be counted as two separate questions since you will be computing slightly different values, but we will ask you to compute both of them in the same starter code to reduce code duplication (since the tasks are very similar). \n",
    "\n",
    "We first outline what you should compute for each question and then show some general implementation notes for both problems below. Your task for this problem is to fill out the code inside the loop to compute the values described below.\n",
    "\n",
    "We recommend focusing on the value you need to compute for Q7 and then once you have that working work on the code you need to compute Q8.\n",
    "\n",
    "### **Question 7:** Coefficient Paths\n",
    "For this question we will ask you to compute the coefficent path for each of the features in the model for various values of the regularization constant.\n",
    "\n",
    "For each regularization strength, train a model using that regularization constant and compute table storing the coefficients of each learned predictor. Store the results in a `DataFrame` named `coef_table`.\n",
    "\n",
    "You should end up with an `DataFrame` with column names as `'coefficients \\[L2=1e-02\\]', ... 'coefficients \\[L2=1e+05\\]'`, and a row for each word in `features`. \n",
    "\n",
    "Before the loop, we set up `coef_table` to have the right rows and columns, but your code will need to fill out the rest.\n",
    "\n",
    "### **Question 8:** Train and Validation Accuracies\n",
    "Similar to Q7, we want you to compute the training and validation accuracy for each learned predictor and store that in a `DataFrame` called `accuracies_table`. \n",
    "\n",
    "You should end up with a `DataFrame` with column names `'l2_penalty', 'train_accuracy', 'validation_accuracy'` and a row for each L2 penalty tried. The L2 penaly should be the number (not the column name from Q7) and the accuracy values should be numbers between 0 and 1 for the appropriate accuracy.\n",
    "\n",
    "For this problem, we recommend the approach used in HW2 to build up a list of dictionaries, and then convert that to a `DataFrame` with the values described.\n",
    "\n",
    "### Implementation Details\n",
    "\n",
    "Some important notes about your implementation:\n",
    "* When constructing a `LogisticRegression` object, make sure to use `random_state=1` to get the same results as us. We also want to avoid having an intercept term in this example, so also pass `fit_intercept=False` when constructing the `LogisticRegression` model.\n",
    "* <span style=\"color:red\">When constructing the LogisticRegression(...) model, the parameter `C` is the **inverse** of the L2 penalty (1 / L2_penalty). </span>\n",
    "* Q7: To store the results of your predictor's coefficients, you will need to get the values from the `.coef_` property. Since the code for this is a little complex, we give you this line below (assumes your trained model is stored in a variable called `model`):\n",
    "  ```\n",
    "  coef_table[column_name] = model.coef_[0]\n",
    "  ```\n",
    "\n",
    "  Confusingly this grabs all the coefficients and treats them like a list of numbers rather than the 2D array of rows/columns that scikit-learn originally provides.\n",
    "\n",
    "* It is okay if your code prints `ConvergenceWarnings`. This is something you would want to avoid in practice but is okay in our assignment for simplicity.\n",
    "\n",
    "* We recommend just focusing on Q7 at first and getting the code to set up the coefficients table right. Then once that's working, evaluate the models for Q8.\n"
   ]
  },
  {
   "cell_type": "code",
   "execution_count": 48,
   "metadata": {
    "id": "dYQp_28bTI6T"
   },
   "outputs": [
    {
     "name": "stderr",
     "output_type": "stream",
     "text": [
      "/opt/homebrew/Caskroom/miniforge/base/envs/tensor/lib/python3.8/site-packages/sklearn/linear_model/_logistic.py:444: ConvergenceWarning: lbfgs failed to converge (status=1):\n",
      "STOP: TOTAL NO. of ITERATIONS REACHED LIMIT.\n",
      "\n",
      "Increase the number of iterations (max_iter) or scale the data as shown in:\n",
      "    https://scikit-learn.org/stable/modules/preprocessing.html\n",
      "Please also refer to the documentation for alternative solver options:\n",
      "    https://scikit-learn.org/stable/modules/linear_model.html#logistic-regression\n",
      "  n_iter_i = _check_optimize_result(\n"
     ]
    }
   ],
   "source": [
    "### edTest(test_q7_q8_train_models) ###\n",
    "\n",
    "# TODO Fill in the loop below\n",
    "\n",
    "# Set up the regularization penalities to try\n",
    "l2_penalties = [0.01, 1, 4, 10, 1e2, 1e3, 1e5]\n",
    "l2_penalty_names = [f'coefficients [L2={l2_penalty:.0e}]' \n",
    "                    for l2_penalty in l2_penalties]\n",
    "\n",
    "# Q7: Add the coefficients to this coef_table for each model\n",
    "coef_table = pd.DataFrame(columns=['word'] + l2_penalty_names)\n",
    "coef_table['word'] = features\n",
    "# print(coef_table)\n",
    "    \n",
    "# Q8: Set up an empty list to store the accuracies (will convert to DataFrame after loop)\n",
    "accuracy_data = []\n",
    "\n",
    "for l2_penalty, l2_penalty_column_name in zip(l2_penalties, l2_penalty_names):\n",
    "    # TODO(Q7 and Q8): Train the model \n",
    "\n",
    "# Note: C = 1/Lambda. Setting C to a really high value is the same as setting lambda = 0\n",
    "    sentiment_model_x = LogisticRegression(penalty='l2', random_state=1, C=(1/l2_penalty), fit_intercept=False)\n",
    "    sentiment_model_x.fit(train_data[features], train_data['sentiment'])\n",
    "\n",
    "    # TODO(Q7): Save the coefficients in coef_table\n",
    "    coef_table[l2_penalty_column_name] = sentiment_model_x.coef_[0]\n",
    "    # TODO(Q8): Calculate and save the train and validation accuracies\n",
    "    y_pred_train = sentiment_model_x.predict(train_data[features])\n",
    "    y_pred_valid = sentiment_model_x.predict(validation_data[features])\n",
    "    train_accuracies = accuracy_score(train_data['sentiment'], y_pred_train)\n",
    "    validation_accuracies = accuracy_score(validation_data['sentiment'], y_pred_valid)\n",
    "    accuracy_data.append({'l2_penalty':l2_penalty,\n",
    "                          'train_accuracy':train_accuracies,\n",
    "                          'validation_accuracy':validation_accuracies})\n",
    "\n",
    "accuracies_table = pd.DataFrame(accuracy_data)\n",
    "\n",
    "\n"
   ]
  },
  {
   "cell_type": "code",
   "execution_count": 49,
   "metadata": {
    "id": "07viU73ATI6T"
   },
   "outputs": [
    {
     "data": {
      "text/html": [
       "<div>\n",
       "<style scoped>\n",
       "    .dataframe tbody tr th:only-of-type {\n",
       "        vertical-align: middle;\n",
       "    }\n",
       "\n",
       "    .dataframe tbody tr th {\n",
       "        vertical-align: top;\n",
       "    }\n",
       "\n",
       "    .dataframe thead th {\n",
       "        text-align: right;\n",
       "    }\n",
       "</style>\n",
       "<table border=\"1\" class=\"dataframe\">\n",
       "  <thead>\n",
       "    <tr style=\"text-align: right;\">\n",
       "      <th></th>\n",
       "      <th>word</th>\n",
       "      <th>coefficients [L2=1e-02]</th>\n",
       "      <th>coefficients [L2=1e+00]</th>\n",
       "      <th>coefficients [L2=4e+00]</th>\n",
       "      <th>coefficients [L2=1e+01]</th>\n",
       "      <th>coefficients [L2=1e+02]</th>\n",
       "      <th>coefficients [L2=1e+03]</th>\n",
       "      <th>coefficients [L2=1e+05]</th>\n",
       "    </tr>\n",
       "  </thead>\n",
       "  <tbody>\n",
       "    <tr>\n",
       "      <th>0</th>\n",
       "      <td>0000</td>\n",
       "      <td>0.102011</td>\n",
       "      <td>0.030776</td>\n",
       "      <td>0.017166</td>\n",
       "      <td>0.010918</td>\n",
       "      <td>0.002986</td>\n",
       "      <td>0.000476</td>\n",
       "      <td>5.048225e-06</td>\n",
       "    </tr>\n",
       "    <tr>\n",
       "      <th>1</th>\n",
       "      <td>002</td>\n",
       "      <td>-0.000159</td>\n",
       "      <td>-0.002044</td>\n",
       "      <td>-0.002169</td>\n",
       "      <td>-0.001971</td>\n",
       "      <td>-0.000744</td>\n",
       "      <td>-0.000099</td>\n",
       "      <td>-4.085931e-06</td>\n",
       "    </tr>\n",
       "    <tr>\n",
       "      <th>2</th>\n",
       "      <td>004</td>\n",
       "      <td>-0.000159</td>\n",
       "      <td>-0.002044</td>\n",
       "      <td>-0.002169</td>\n",
       "      <td>-0.001971</td>\n",
       "      <td>-0.000744</td>\n",
       "      <td>-0.000099</td>\n",
       "      <td>-4.085931e-06</td>\n",
       "    </tr>\n",
       "    <tr>\n",
       "      <th>3</th>\n",
       "      <td>004oz</td>\n",
       "      <td>-0.000159</td>\n",
       "      <td>-0.002044</td>\n",
       "      <td>-0.002169</td>\n",
       "      <td>-0.001971</td>\n",
       "      <td>-0.000744</td>\n",
       "      <td>-0.000099</td>\n",
       "      <td>-4.085931e-06</td>\n",
       "    </tr>\n",
       "    <tr>\n",
       "      <th>4</th>\n",
       "      <td>012months</td>\n",
       "      <td>0.000316</td>\n",
       "      <td>0.001507</td>\n",
       "      <td>0.001624</td>\n",
       "      <td>0.001515</td>\n",
       "      <td>0.001130</td>\n",
       "      <td>0.000399</td>\n",
       "      <td>5.052166e-06</td>\n",
       "    </tr>\n",
       "    <tr>\n",
       "      <th>...</th>\n",
       "      <td>...</td>\n",
       "      <td>...</td>\n",
       "      <td>...</td>\n",
       "      <td>...</td>\n",
       "      <td>...</td>\n",
       "      <td>...</td>\n",
       "      <td>...</td>\n",
       "      <td>...</td>\n",
       "    </tr>\n",
       "    <tr>\n",
       "      <th>7620</th>\n",
       "      <td>zicos</td>\n",
       "      <td>-0.148951</td>\n",
       "      <td>-0.055483</td>\n",
       "      <td>-0.030825</td>\n",
       "      <td>-0.018646</td>\n",
       "      <td>-0.003721</td>\n",
       "      <td>-0.000447</td>\n",
       "      <td>-4.925747e-06</td>\n",
       "    </tr>\n",
       "    <tr>\n",
       "      <th>7621</th>\n",
       "      <td>zillion</td>\n",
       "      <td>-0.022145</td>\n",
       "      <td>-0.037825</td>\n",
       "      <td>-0.029692</td>\n",
       "      <td>-0.020864</td>\n",
       "      <td>-0.004026</td>\n",
       "      <td>-0.000467</td>\n",
       "      <td>-4.976193e-06</td>\n",
       "    </tr>\n",
       "    <tr>\n",
       "      <th>7622</th>\n",
       "      <td>zinger</td>\n",
       "      <td>-0.000154</td>\n",
       "      <td>-0.003677</td>\n",
       "      <td>-0.004705</td>\n",
       "      <td>-0.004577</td>\n",
       "      <td>-0.002492</td>\n",
       "      <td>-0.000412</td>\n",
       "      <td>-4.895835e-06</td>\n",
       "    </tr>\n",
       "    <tr>\n",
       "      <th>7623</th>\n",
       "      <td>zip</td>\n",
       "      <td>0.091489</td>\n",
       "      <td>0.052182</td>\n",
       "      <td>0.033315</td>\n",
       "      <td>0.022238</td>\n",
       "      <td>0.005981</td>\n",
       "      <td>0.001038</td>\n",
       "      <td>1.028551e-05</td>\n",
       "    </tr>\n",
       "    <tr>\n",
       "      <th>7624</th>\n",
       "      <td>ziplock</td>\n",
       "      <td>0.119430</td>\n",
       "      <td>0.035636</td>\n",
       "      <td>0.020196</td>\n",
       "      <td>0.012145</td>\n",
       "      <td>0.002333</td>\n",
       "      <td>0.000226</td>\n",
       "      <td>2.710799e-07</td>\n",
       "    </tr>\n",
       "  </tbody>\n",
       "</table>\n",
       "<p>7625 rows × 8 columns</p>\n",
       "</div>"
      ],
      "text/plain": [
       "           word  coefficients [L2=1e-02]  coefficients [L2=1e+00]  \\\n",
       "0          0000                 0.102011                 0.030776   \n",
       "1           002                -0.000159                -0.002044   \n",
       "2           004                -0.000159                -0.002044   \n",
       "3         004oz                -0.000159                -0.002044   \n",
       "4     012months                 0.000316                 0.001507   \n",
       "...         ...                      ...                      ...   \n",
       "7620      zicos                -0.148951                -0.055483   \n",
       "7621    zillion                -0.022145                -0.037825   \n",
       "7622     zinger                -0.000154                -0.003677   \n",
       "7623        zip                 0.091489                 0.052182   \n",
       "7624    ziplock                 0.119430                 0.035636   \n",
       "\n",
       "      coefficients [L2=4e+00]  coefficients [L2=1e+01]  \\\n",
       "0                    0.017166                 0.010918   \n",
       "1                   -0.002169                -0.001971   \n",
       "2                   -0.002169                -0.001971   \n",
       "3                   -0.002169                -0.001971   \n",
       "4                    0.001624                 0.001515   \n",
       "...                       ...                      ...   \n",
       "7620                -0.030825                -0.018646   \n",
       "7621                -0.029692                -0.020864   \n",
       "7622                -0.004705                -0.004577   \n",
       "7623                 0.033315                 0.022238   \n",
       "7624                 0.020196                 0.012145   \n",
       "\n",
       "      coefficients [L2=1e+02]  coefficients [L2=1e+03]  \\\n",
       "0                    0.002986                 0.000476   \n",
       "1                   -0.000744                -0.000099   \n",
       "2                   -0.000744                -0.000099   \n",
       "3                   -0.000744                -0.000099   \n",
       "4                    0.001130                 0.000399   \n",
       "...                       ...                      ...   \n",
       "7620                -0.003721                -0.000447   \n",
       "7621                -0.004026                -0.000467   \n",
       "7622                -0.002492                -0.000412   \n",
       "7623                 0.005981                 0.001038   \n",
       "7624                 0.002333                 0.000226   \n",
       "\n",
       "      coefficients [L2=1e+05]  \n",
       "0                5.048225e-06  \n",
       "1               -4.085931e-06  \n",
       "2               -4.085931e-06  \n",
       "3               -4.085931e-06  \n",
       "4                5.052166e-06  \n",
       "...                       ...  \n",
       "7620            -4.925747e-06  \n",
       "7621            -4.976193e-06  \n",
       "7622            -4.895835e-06  \n",
       "7623             1.028551e-05  \n",
       "7624             2.710799e-07  \n",
       "\n",
       "[7625 rows x 8 columns]"
      ]
     },
     "execution_count": 49,
     "metadata": {},
     "output_type": "execute_result"
    }
   ],
   "source": [
    "# Look at coef_table\n",
    "coef_table"
   ]
  },
  {
   "cell_type": "code",
   "execution_count": 50,
   "metadata": {
    "id": "uelVJqoyTI6U"
   },
   "outputs": [
    {
     "data": {
      "text/html": [
       "<div>\n",
       "<style scoped>\n",
       "    .dataframe tbody tr th:only-of-type {\n",
       "        vertical-align: middle;\n",
       "    }\n",
       "\n",
       "    .dataframe tbody tr th {\n",
       "        vertical-align: top;\n",
       "    }\n",
       "\n",
       "    .dataframe thead th {\n",
       "        text-align: right;\n",
       "    }\n",
       "</style>\n",
       "<table border=\"1\" class=\"dataframe\">\n",
       "  <thead>\n",
       "    <tr style=\"text-align: right;\">\n",
       "      <th></th>\n",
       "      <th>l2_penalty</th>\n",
       "      <th>train_accuracy</th>\n",
       "      <th>validation_accuracy</th>\n",
       "    </tr>\n",
       "  </thead>\n",
       "  <tbody>\n",
       "    <tr>\n",
       "      <th>0</th>\n",
       "      <td>0.01</td>\n",
       "      <td>1.000000</td>\n",
       "      <td>0.674157</td>\n",
       "    </tr>\n",
       "    <tr>\n",
       "      <th>1</th>\n",
       "      <td>1.00</td>\n",
       "      <td>0.998594</td>\n",
       "      <td>0.685393</td>\n",
       "    </tr>\n",
       "    <tr>\n",
       "      <th>2</th>\n",
       "      <td>4.00</td>\n",
       "      <td>0.995781</td>\n",
       "      <td>0.685393</td>\n",
       "    </tr>\n",
       "    <tr>\n",
       "      <th>3</th>\n",
       "      <td>10.00</td>\n",
       "      <td>0.976090</td>\n",
       "      <td>0.696629</td>\n",
       "    </tr>\n",
       "    <tr>\n",
       "      <th>4</th>\n",
       "      <td>100.00</td>\n",
       "      <td>0.895921</td>\n",
       "      <td>0.719101</td>\n",
       "    </tr>\n",
       "    <tr>\n",
       "      <th>5</th>\n",
       "      <td>1000.00</td>\n",
       "      <td>0.734177</td>\n",
       "      <td>0.674157</td>\n",
       "    </tr>\n",
       "    <tr>\n",
       "      <th>6</th>\n",
       "      <td>100000.00</td>\n",
       "      <td>0.502110</td>\n",
       "      <td>0.516854</td>\n",
       "    </tr>\n",
       "  </tbody>\n",
       "</table>\n",
       "</div>"
      ],
      "text/plain": [
       "   l2_penalty  train_accuracy  validation_accuracy\n",
       "0        0.01        1.000000             0.674157\n",
       "1        1.00        0.998594             0.685393\n",
       "2        4.00        0.995781             0.685393\n",
       "3       10.00        0.976090             0.696629\n",
       "4      100.00        0.895921             0.719101\n",
       "5     1000.00        0.734177             0.674157\n",
       "6   100000.00        0.502110             0.516854"
      ]
     },
     "execution_count": 50,
     "metadata": {},
     "output_type": "execute_result"
    }
   ],
   "source": [
    "# Look at accuracies_table\n",
    "accuracies_table"
   ]
  },
  {
   "cell_type": "markdown",
   "metadata": {
    "id": "LyRB6L8ITI6U"
   },
   "source": [
    "## **Question 9:** Inspect Coefficients\n",
    "\n",
    "We'll now look at the **coefficients** for the model that were trained above. We will create a table of features and learned coefficients associated with each of the different L2 penalty values.\n",
    "\n",
    "Using **the coefficients trained with L2 penalty 1**, find the 5 most positive words (with largest positive coefficients). Save them to `positive_words`. Similarly, find the 5 most negative words (with largest negative coefficients) and save them to `negative_words`. The result should be the `'word'` column for the these rows. \n",
    "\n",
    "To be specific, the type of the value we are looking for is a `Series` in `pandas` which is the type of a single row or column in a `DataFrame`. When you have a `DataFrame`, it is a structure with rows and columns. When you access a single column as in `df[column_name]`, this returns a `Series` representing that one column. \n",
    "\n",
    "This means your result for each one of these variables should be a `Series` of length 5 for the respective words.\n",
    "\n",
    "\n",
    "*Hint:* You can use the `.nlargest()` and `.nsmallest()` method on an DataFrame to find the top `n` rows sorted according to the value of a specified column."
   ]
  },
  {
   "cell_type": "code",
   "execution_count": 62,
   "metadata": {
    "id": "g7n8XL8hTI6U"
   },
   "outputs": [
    {
     "name": "stdout",
     "output_type": "stream",
     "text": [
      "Int64Index([3096, 863, 4981, 3037, 1925], dtype='int64')\n",
      "Int64Index([4586, 1398, 6862, 919, 4177], dtype='int64')\n",
      "3096      great\n",
      "863        best\n",
      "4981    perfect\n",
      "3037       good\n",
      "1925       days\n",
      "Name: word, dtype: object\n",
      "4586          not\n",
      "1398    chocolate\n",
      "6862      thought\n",
      "919         bland\n",
      "4177          may\n",
      "Name: word, dtype: object\n"
     ]
    }
   ],
   "source": [
    "### edTest(test_q9_most_positive_negative) ###\n",
    "\n",
    "# TODO Compute words with the 5 largest coefficients and 5 smallest coefficients\n",
    "features = vectorizer.get_feature_names_out()\n",
    "\n",
    "# Note: C = 1/Lambda. Setting C to a really high value is the same as setting lambda = 0\n",
    "\n",
    "# word_coef = coef_table.sort_values(by='coefficients [L2=1e+00]', ascending=False)\n",
    "# positive_words = word_coef.head(5)['word'].tolist()\n",
    "# negative_words = word_coef.tail(5)['word'].tolist()\n",
    "\n",
    "largest_coeff_index = coef_table['coefficients [L2=1e+00]'].nlargest(5).index\n",
    "smallest_coeff_index = coef_table['coefficients [L2=1e+00]'].nsmallest(5).index\n",
    "\n",
    "print(largest_coeff_index)\n",
    "print(smallest_coeff_index)\n",
    "\n",
    "positive_words = []\n",
    "negative_words = []\n",
    "\n",
    "positive_words=coef_table['word'][largest_coeff_index]\n",
    "negative_words=coef_table['word'][smallest_coeff_index]\n",
    "\n",
    "# for i in largest_coeff_index:\n",
    "#     positive_words.append(coef_table['word'][i])\n",
    "# for i in smallest_coeff_index:\n",
    "#     negative_words.append(coef_table['word'][i])\n",
    "\n",
    "positive_words = pd.Series(positive_words)\n",
    "negative_words = pd.Series(negative_words)\n",
    "\n",
    "\n",
    "\n",
    "print(positive_words)\n",
    "print(negative_words)\n",
    "\n"
   ]
  },
  {
   "cell_type": "code",
   "execution_count": 60,
   "metadata": {},
   "outputs": [
    {
     "data": {
      "text/plain": [
       "4586          not\n",
       "1398    chocolate\n",
       "6862      thought\n",
       "919         bland\n",
       "4177          may\n",
       "Name: word, dtype: object"
      ]
     },
     "execution_count": 60,
     "metadata": {},
     "output_type": "execute_result"
    }
   ],
   "source": [
    "positive_words"
   ]
  },
  {
   "cell_type": "code",
   "execution_count": 61,
   "metadata": {},
   "outputs": [
    {
     "data": {
      "text/plain": [
       "Series([], dtype: float64)"
      ]
     },
     "execution_count": 61,
     "metadata": {},
     "output_type": "execute_result"
    }
   ],
   "source": [
    "negative_words"
   ]
  },
  {
   "cell_type": "markdown",
   "metadata": {
    "id": "L7RbCPbzTI6U"
   },
   "source": [
    "Let us observe the effect of increasing L2 penalty on the 10 words just selected. We provide you with a utility function to  plot the coefficient path."
   ]
  },
  {
   "cell_type": "code",
   "execution_count": 52,
   "metadata": {
    "id": "ym-TbRZwTI6U"
   },
   "outputs": [
    {
     "data": {
      "image/png": "[encoded data removed]",
      "text/plain": [
       "<Figure size 1000x600 with 1 Axes>"
      ]
     },
     "metadata": {},
     "output_type": "display_data"
    }
   ],
   "source": [
    "def make_coefficient_plot(table, positive_words, negative_words, l2_penalty_list):\n",
    "    def get_cmap_value(cmap, i, total_words):\n",
    "        \"\"\"\n",
    "        Computes a nice scaling of from i=0 to i=total_words - 1\n",
    "        for the given cmap\n",
    "        \"\"\"\n",
    "        return cmap(0.8 * ((i + 1) / (total_words * 1.2) + 0.15))\n",
    "\n",
    "\n",
    "    def plot_coeffs_for_words(ax, words, cmap):\n",
    "        \"\"\"\n",
    "        Given an axes to plot on and a list of words and a cmap,\n",
    "        plots the coefficient paths for each word in words\n",
    "        \"\"\"\n",
    "        words_df = table[table['word'].isin(words)]\n",
    "        words_df = words_df.reset_index(drop=True)  # To make indices sequential\n",
    "\n",
    "        for i, row in words_df.iterrows():\n",
    "            color = get_cmap_value(cmap, i, len(words))\n",
    "            ax.plot(xx, row[row.index != 'word'], '-',\n",
    "                    label=row['word'], linewidth=4.0, color=color)\n",
    "\n",
    "    # Make a canvas to draw on\n",
    "    fig, ax = plt.subplots(1, figsize=(10, 6))\n",
    "   \n",
    "    # Set up the xs to plot and draw a line for y=0\n",
    "    xx = l2_penalty_list\n",
    "    ax.plot(xx, [0.] * len(xx), '--', linewidth=1, color='k')\n",
    "\n",
    "    # Plot the positive and negative coefficient paths\n",
    "    cmap_positive = plt.get_cmap('Reds')\n",
    "    cmap_negative = plt.get_cmap('Blues')\n",
    "    plot_coeffs_for_words(ax, positive_words, cmap_positive)\n",
    "    plot_coeffs_for_words(ax, negative_words, cmap_negative)\n",
    "\n",
    "    # Set up axis labels, scale, and legend  \n",
    "    ax.legend(loc='best', ncol=2, prop={'size':16}, columnspacing=0.5 )\n",
    "    ax.set_title('Coefficient path')\n",
    "    ax.set_xlabel('L2 penalty ($\\lambda$)')\n",
    "    ax.set_ylabel('Coefficient value')\n",
    "    ax.set_xscale('log')\n",
    "\n",
    "\n",
    "make_coefficient_plot(coef_table, positive_words, negative_words, l2_penalty_list=l2_penalties)"
   ]
  },
  {
   "cell_type": "code",
   "execution_count": null,
   "metadata": {},
   "outputs": [],
   "source": []
  }
 ],
 "metadata": {
  "colab": {
   "name": "HW3_Sentiment_Analysis_Logistic_Regression.ipynb",
   "provenance": []
  },
  "kernelspec": {
   "display_name": "Python 3",
   "language": "python",
   "name": "python3"
  },
  "language_info": {
   "codemirror_mode": {
    "name": "ipython",
    "version": 3
   },
   "file_extension": ".py",
   "mimetype": "text/x-python",
   "name": "python",
   "nbconvert_exporter": "python",
   "pygments_lexer": "ipython3",
   "version": "3.8.15"
  }
 },
 "nbformat": 4,
 "nbformat_minor": 1
}
